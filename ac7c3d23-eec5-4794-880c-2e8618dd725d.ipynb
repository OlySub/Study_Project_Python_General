{
 "cells": [
  {
   "cell_type": "markdown",
   "metadata": {},
   "source": [
    "<b>Описание проекта</b>  \n",
    "Заказчик этого исследования — Министерство культуры Российской Федерации.  \n",
    "Вам нужно изучить рынок российского кинопроката и выявить текущие тренды. Уделите внимание фильмам, которые получили государственную поддержку. Попробуйте ответить на вопрос, насколько такие фильмы интересны зрителю.  \n",
    "Вы будете работать с данными, опубликованными на портале открытых данных Министерства культуры. Набор данных содержит информацию о прокатных удостоверениях, сборах и государственной поддержке фильмов, а также информацию с сайта КиноПоиск.  "
   ]
  },
  {
   "cell_type": "markdown",
   "metadata": {},
   "source": [
    "    \n",
    "<b>Шаг 1. Импорт данных и объединение их в один датафрейм </b>\n",
    "- [ ] Импорт данных\n",
    "- [ ] Объедините таблиц \n",
    "- [ ] Проверка результатов объединения на корректность\n",
    "\n",
    "<b>Шаг 2. Предобработка данных </b>\n",
    "- [ ] Проверка типов данных в датафрейме и преобразование там, где это необходимо\n",
    "- [ ] Изучение пропусков в датафрейме\n",
    "- [ ] Проверка, есть ли в данных дубликаты\n",
    "- [ ] Изучение столбцов, которые содержат категориальные значения:\n",
    "    - [ ] Какая общая проблема встречается почти во всех категориальных столбцах?\n",
    "    - [ ] Исправление проблемных значений в поле type.\n",
    "    - [ ] Изучение столбцов, которые хранят количественные значения.\n",
    "- [ ] Добавление новых столбцов:\n",
    "    - [ ] Создание столбца с информацией о годе проката. Выделение года из даты премьеры фильма.\n",
    "    - [ ] Создание двух столбцов: с именем и фамилией главного режиссёра и основным жанром фильма.\n",
    "    - [ ] Посчет доли государственной поддержки от общего бюджета фильма.\n",
    "    \n",
    "<b>Шаг 3. Проведем исследовательский анализ данных</b>\n",
    "- [ ] Посмотрим, сколько фильмов выходило в прокат каждый год. \n",
    "- [ ] Посчитаем, какую долю составляют фильмы с указанной информацией о прокате в кинотеатрах. \n",
    "- [ ] Проанализируем, как эта доля менялась по годам. \n",
    "- [ ] Сделаем вывод о том, какой период полнее всего представлен в данных.\n",
    "- [ ] Изучим, как менялась динамика проката по годам. В каком году сумма сборов была минимальной? А максимальной?\n",
    "- [ ] С помощью сводной таблицы посчитаем среднюю и медианную сумму сборов для каждого года. Сравним значения и сделаем выводы.\n",
    "- [ ] Определим, влияет ли возрастное ограничение аудитории («6+», «12+», «16+», «18+» и т. д.) на сборы фильма в прокате в период с 2015 по 2019 год? Фильмы с каким возрастным ограничением собрали больше всего денег в прокате? Меняется ли картина в зависимости от года?\n",
    "\n",
    "<b>Шаг 4. Исследование фильмов, которые получили государственную поддержку</b>\n",
    "- [ ] На этом этапе нет конкретных инструкций и заданий — ищем интересные закономерности в данных. Посмотрим, сколько выделяют средств на поддержку кино. Проверим, хорошо ли окупаются такие фильмы, какой у них рейтинг.\n",
    "\n",
    "<b>Шаг 5. Написание общего вывода</b>"
   ]
  },
  {
   "cell_type": "markdown",
   "metadata": {},
   "source": [
    "<b>Описание данных</b>  \n",
    "Таблица mkrf_movies содержит информацию из реестра прокатных удостоверений. У одного фильма может быть несколько прокатных удостоверений.  \n",
    "title — название фильма;  \n",
    "puNumber — номер прокатного удостоверения;  \n",
    "show_start_date — дата премьеры фильма;  \n",
    "type — тип фильма;  \n",
    "film_studio — студия-производитель;  \n",
    "production_country — страна-производитель;  \n",
    "director — режиссёр;  \n",
    "producer — продюсер;  \n",
    "age_restriction — возрастная категория;  \n",
    "refundable_support — объём возвратных средств государственной поддержки;  \n",
    "nonrefundable_support — объём невозвратных средств государственной поддержки;  \n",
    "financing_source — источник государственного финансирования;  \n",
    "budget — общий бюджет фильма;  \n",
    "ratings — рейтинг фильма на КиноПоиске;  \n",
    "genres — жанр фильма.  \n",
    "Обратите внимание, что столбец budget уже включает в себя полный объём государственной поддержки. Данные в этом столбце указаны только для тех фильмов, которые получили государственную поддержку.  \n",
    "Таблица mkrf_shows содержит сведения о показах фильмов в российских кинотеатрах.  \n",
    "puNumber — номер прокатного удостоверения;  \n",
    "box_office — сборы в рублях.  "
   ]
  },
  {
   "cell_type": "markdown",
   "metadata": {},
   "source": [
    "1. [Предобработка](#preprocessing)"
   ]
  },
  {
   "cell_type": "code",
   "execution_count": 2,
   "metadata": {},
   "outputs": [],
   "source": [
    "import pandas as pd\n",
    "import numpy as np\n",
    "import matplotlib.pyplot as plt\n",
    "import seaborn as sns"
   ]
  },
  {
   "cell_type": "markdown",
   "metadata": {
    "id": "sIfNaMOxgFyK"
   },
   "source": [
    "## Исследование данных о российском кинопрокате\n",
    "\n"
   ]
  },
  {
   "cell_type": "markdown",
   "metadata": {
    "id": "3bSlkCsbgFyL"
   },
   "source": [
    "### Шаг 1. Откройте файлы с данными и объедините их в один датафрейм. \n",
    "\n",
    "Объедините данные таким образом, чтобы все объекты из датасета `mkrf_movies` обязательно вошли в получившийся датафрейм. \n",
    "\n",
    "<div id=\"accordion\">\n",
    "    <div class=\"card\">\n",
    "        <div class=\"card-header\" id=\"headingThree\">\n",
    "            <button class=\"btn btn-link collapsed\" data-toggle=\"collapse\" data-target=\"#collapseHint_0\" aria-expanded=\"false\" aria-controls=\"collapseHint_0\">Подсказка</button>\n",
    "        </div>\n",
    "        <div id=\"collapseHint_0\" class=\"collapse\" aria-labelledby=\"headingThree\" data-parent=\"#accordion\">\n",
    "            <div class=\"card-body\">\n",
    "Обратите внимание на тип данных столбца, по которому будете соединять датафреймы. Тип данных этих столбцов должен быть одинаковым в обоих датафреймах.\n",
    "            </div>\n",
    "        </div>\n",
    "    </div>\n",
    "</div>"
   ]
  },
  {
   "cell_type": "markdown",
   "metadata": {},
   "source": [
    "Откроем два датафрема и посмотрим информацию о них."
   ]
  },
  {
   "cell_type": "code",
   "execution_count": 3,
   "metadata": {
    "id": "dw87FlzMgFyM",
    "scrolled": false
   },
   "outputs": [
    {
     "name": "stdout",
     "output_type": "stream",
     "text": [
      "<class 'pandas.core.frame.DataFrame'>\n",
      "RangeIndex: 7486 entries, 0 to 7485\n",
      "Data columns (total 15 columns):\n",
      " #   Column                 Non-Null Count  Dtype  \n",
      "---  ------                 --------------  -----  \n",
      " 0   title                  7486 non-null   object \n",
      " 1   puNumber               7486 non-null   object \n",
      " 2   show_start_date        7486 non-null   object \n",
      " 3   type                   7486 non-null   object \n",
      " 4   film_studio            7468 non-null   object \n",
      " 5   production_country     7484 non-null   object \n",
      " 6   director               7477 non-null   object \n",
      " 7   producer               6918 non-null   object \n",
      " 8   age_restriction        7486 non-null   object \n",
      " 9   refundable_support     332 non-null    float64\n",
      " 10  nonrefundable_support  332 non-null    float64\n",
      " 11  budget                 332 non-null    float64\n",
      " 12  financing_source       332 non-null    object \n",
      " 13  ratings                6519 non-null   object \n",
      " 14  genres                 6510 non-null   object \n",
      "dtypes: float64(3), object(12)\n",
      "memory usage: 877.4+ KB\n"
     ]
    },
    {
     "data": {
      "text/html": [
       "<div>\n",
       "<style scoped>\n",
       "    .dataframe tbody tr th:only-of-type {\n",
       "        vertical-align: middle;\n",
       "    }\n",
       "\n",
       "    .dataframe tbody tr th {\n",
       "        vertical-align: top;\n",
       "    }\n",
       "\n",
       "    .dataframe thead th {\n",
       "        text-align: right;\n",
       "    }\n",
       "</style>\n",
       "<table border=\"1\" class=\"dataframe\">\n",
       "  <thead>\n",
       "    <tr style=\"text-align: right;\">\n",
       "      <th></th>\n",
       "      <th>title</th>\n",
       "      <th>puNumber</th>\n",
       "      <th>show_start_date</th>\n",
       "      <th>type</th>\n",
       "      <th>film_studio</th>\n",
       "      <th>production_country</th>\n",
       "      <th>director</th>\n",
       "      <th>producer</th>\n",
       "      <th>age_restriction</th>\n",
       "      <th>refundable_support</th>\n",
       "      <th>nonrefundable_support</th>\n",
       "      <th>budget</th>\n",
       "      <th>financing_source</th>\n",
       "      <th>ratings</th>\n",
       "      <th>genres</th>\n",
       "    </tr>\n",
       "  </thead>\n",
       "  <tbody>\n",
       "    <tr>\n",
       "      <th>0</th>\n",
       "      <td>Открытый простор</td>\n",
       "      <td>221048915</td>\n",
       "      <td>2015-11-27T12:00:00.000Z</td>\n",
       "      <td>Художественный</td>\n",
       "      <td>Тачстоун Пикчерз, Кобальт Пикчерз, Бикон Пикче...</td>\n",
       "      <td>США</td>\n",
       "      <td>Кевин Костнер</td>\n",
       "      <td>Дэвид Валдес, Кевин Костнер, Джейк Эбертс</td>\n",
       "      <td>«18+» - запрещено для детей</td>\n",
       "      <td>NaN</td>\n",
       "      <td>NaN</td>\n",
       "      <td>NaN</td>\n",
       "      <td>NaN</td>\n",
       "      <td>7.2</td>\n",
       "      <td>боевик,драма,мелодрама</td>\n",
       "    </tr>\n",
       "    <tr>\n",
       "      <th>1</th>\n",
       "      <td>Особо важное задание</td>\n",
       "      <td>111013716</td>\n",
       "      <td>2016-09-13T12:00:00.000Z</td>\n",
       "      <td>Художественный</td>\n",
       "      <td>Киностудия \"Мосфильм\"</td>\n",
       "      <td>СССР</td>\n",
       "      <td>Е.Матвеев</td>\n",
       "      <td>NaN</td>\n",
       "      <td>«6+» - для детей старше 6 лет</td>\n",
       "      <td>NaN</td>\n",
       "      <td>NaN</td>\n",
       "      <td>NaN</td>\n",
       "      <td>NaN</td>\n",
       "      <td>6.6</td>\n",
       "      <td>драма,военный</td>\n",
       "    </tr>\n",
       "    <tr>\n",
       "      <th>2</th>\n",
       "      <td>Особо опасен</td>\n",
       "      <td>221038416</td>\n",
       "      <td>2016-10-10T12:00:00.000Z</td>\n",
       "      <td>Художественный</td>\n",
       "      <td>Юниверсал Пикчерз, Кикстарт Продакшнз, Марк Пл...</td>\n",
       "      <td>США</td>\n",
       "      <td>Тимур Бекмамбетов</td>\n",
       "      <td>Джим Лемли, Джейсон Нетер, Марк Е.Платт, Яйн Смит</td>\n",
       "      <td>«18+» - запрещено для детей</td>\n",
       "      <td>NaN</td>\n",
       "      <td>NaN</td>\n",
       "      <td>NaN</td>\n",
       "      <td>NaN</td>\n",
       "      <td>6.8</td>\n",
       "      <td>фантастика,боевик,триллер</td>\n",
       "    </tr>\n",
       "    <tr>\n",
       "      <th>3</th>\n",
       "      <td>Особо опасен</td>\n",
       "      <td>221026916</td>\n",
       "      <td>2016-06-10T12:00:00.000Z</td>\n",
       "      <td>Художественный</td>\n",
       "      <td>Юниверсал Пикчерз, Кикстарт Продакшнз, Марк Пл...</td>\n",
       "      <td>США</td>\n",
       "      <td>Тимур Бекмамбетов</td>\n",
       "      <td>Джим Лемли, Джейсон Нетер, Марк Е.Платт, Яйн Смит</td>\n",
       "      <td>«18+» - запрещено для детей</td>\n",
       "      <td>NaN</td>\n",
       "      <td>NaN</td>\n",
       "      <td>NaN</td>\n",
       "      <td>NaN</td>\n",
       "      <td>6.8</td>\n",
       "      <td>фантастика,боевик,триллер</td>\n",
       "    </tr>\n",
       "    <tr>\n",
       "      <th>4</th>\n",
       "      <td>Особо опасен</td>\n",
       "      <td>221030815</td>\n",
       "      <td>2015-07-29T12:00:00.000Z</td>\n",
       "      <td>Художественный</td>\n",
       "      <td>Юниверсал Пикчерз, Кикстарт Продакшнз, Марк Пл...</td>\n",
       "      <td>США</td>\n",
       "      <td>Тимур Бекмамбетов</td>\n",
       "      <td>Джим Лемли, Джейсон Нетер, Марк Е.Платт, Яйн Смит</td>\n",
       "      <td>«18+» - запрещено для детей</td>\n",
       "      <td>NaN</td>\n",
       "      <td>NaN</td>\n",
       "      <td>NaN</td>\n",
       "      <td>NaN</td>\n",
       "      <td>6.8</td>\n",
       "      <td>фантастика,боевик,триллер</td>\n",
       "    </tr>\n",
       "  </tbody>\n",
       "</table>\n",
       "</div>"
      ],
      "text/plain": [
       "                  title   puNumber           show_start_date            type  \\\n",
       "0      Открытый простор  221048915  2015-11-27T12:00:00.000Z  Художественный   \n",
       "1  Особо важное задание  111013716  2016-09-13T12:00:00.000Z  Художественный   \n",
       "2          Особо опасен  221038416  2016-10-10T12:00:00.000Z  Художественный   \n",
       "3          Особо опасен  221026916  2016-06-10T12:00:00.000Z  Художественный   \n",
       "4          Особо опасен  221030815  2015-07-29T12:00:00.000Z  Художественный   \n",
       "\n",
       "                                         film_studio production_country  \\\n",
       "0  Тачстоун Пикчерз, Кобальт Пикчерз, Бикон Пикче...                США   \n",
       "1                              Киностудия \"Мосфильм\"               СССР   \n",
       "2  Юниверсал Пикчерз, Кикстарт Продакшнз, Марк Пл...                США   \n",
       "3  Юниверсал Пикчерз, Кикстарт Продакшнз, Марк Пл...                США   \n",
       "4  Юниверсал Пикчерз, Кикстарт Продакшнз, Марк Пл...                США   \n",
       "\n",
       "            director                                           producer  \\\n",
       "0      Кевин Костнер          Дэвид Валдес, Кевин Костнер, Джейк Эбертс   \n",
       "1          Е.Матвеев                                                NaN   \n",
       "2  Тимур Бекмамбетов  Джим Лемли, Джейсон Нетер, Марк Е.Платт, Яйн Смит   \n",
       "3  Тимур Бекмамбетов  Джим Лемли, Джейсон Нетер, Марк Е.Платт, Яйн Смит   \n",
       "4  Тимур Бекмамбетов  Джим Лемли, Джейсон Нетер, Марк Е.Платт, Яйн Смит   \n",
       "\n",
       "                 age_restriction  refundable_support  nonrefundable_support  \\\n",
       "0    «18+» - запрещено для детей                 NaN                    NaN   \n",
       "1  «6+» - для детей старше 6 лет                 NaN                    NaN   \n",
       "2    «18+» - запрещено для детей                 NaN                    NaN   \n",
       "3    «18+» - запрещено для детей                 NaN                    NaN   \n",
       "4    «18+» - запрещено для детей                 NaN                    NaN   \n",
       "\n",
       "   budget financing_source ratings                     genres  \n",
       "0     NaN              NaN     7.2     боевик,драма,мелодрама  \n",
       "1     NaN              NaN     6.6              драма,военный  \n",
       "2     NaN              NaN     6.8  фантастика,боевик,триллер  \n",
       "3     NaN              NaN     6.8  фантастика,боевик,триллер  \n",
       "4     NaN              NaN     6.8  фантастика,боевик,триллер  "
      ]
     },
     "execution_count": 3,
     "metadata": {},
     "output_type": "execute_result"
    }
   ],
   "source": [
    "df_1 = pd.read_csv('/datasets/mkrf_movies.csv')\n",
    "df_1.info()\n",
    "df_1.head()"
   ]
  },
  {
   "cell_type": "code",
   "execution_count": 4,
   "metadata": {
    "scrolled": false
   },
   "outputs": [
    {
     "name": "stdout",
     "output_type": "stream",
     "text": [
      "<class 'pandas.core.frame.DataFrame'>\n",
      "RangeIndex: 3158 entries, 0 to 3157\n",
      "Data columns (total 2 columns):\n",
      " #   Column      Non-Null Count  Dtype  \n",
      "---  ------      --------------  -----  \n",
      " 0   puNumber    3158 non-null   int64  \n",
      " 1   box_office  3158 non-null   float64\n",
      "dtypes: float64(1), int64(1)\n",
      "memory usage: 49.5 KB\n"
     ]
    },
    {
     "data": {
      "text/html": [
       "<div>\n",
       "<style scoped>\n",
       "    .dataframe tbody tr th:only-of-type {\n",
       "        vertical-align: middle;\n",
       "    }\n",
       "\n",
       "    .dataframe tbody tr th {\n",
       "        vertical-align: top;\n",
       "    }\n",
       "\n",
       "    .dataframe thead th {\n",
       "        text-align: right;\n",
       "    }\n",
       "</style>\n",
       "<table border=\"1\" class=\"dataframe\">\n",
       "  <thead>\n",
       "    <tr style=\"text-align: right;\">\n",
       "      <th></th>\n",
       "      <th>puNumber</th>\n",
       "      <th>box_office</th>\n",
       "    </tr>\n",
       "  </thead>\n",
       "  <tbody>\n",
       "    <tr>\n",
       "      <th>0</th>\n",
       "      <td>111000113</td>\n",
       "      <td>2.450000e+03</td>\n",
       "    </tr>\n",
       "    <tr>\n",
       "      <th>1</th>\n",
       "      <td>111000115</td>\n",
       "      <td>6.104000e+04</td>\n",
       "    </tr>\n",
       "    <tr>\n",
       "      <th>2</th>\n",
       "      <td>111000116</td>\n",
       "      <td>1.530300e+08</td>\n",
       "    </tr>\n",
       "    <tr>\n",
       "      <th>3</th>\n",
       "      <td>111000117</td>\n",
       "      <td>1.226096e+07</td>\n",
       "    </tr>\n",
       "    <tr>\n",
       "      <th>4</th>\n",
       "      <td>111000118</td>\n",
       "      <td>1.636841e+08</td>\n",
       "    </tr>\n",
       "  </tbody>\n",
       "</table>\n",
       "</div>"
      ],
      "text/plain": [
       "    puNumber    box_office\n",
       "0  111000113  2.450000e+03\n",
       "1  111000115  6.104000e+04\n",
       "2  111000116  1.530300e+08\n",
       "3  111000117  1.226096e+07\n",
       "4  111000118  1.636841e+08"
      ]
     },
     "execution_count": 4,
     "metadata": {},
     "output_type": "execute_result"
    }
   ],
   "source": [
    "df_2 = pd.read_csv('/datasets/mkrf_shows.csv')\n",
    "df_2.info()\n",
    "df_2.head()"
   ]
  },
  {
   "cell_type": "markdown",
   "metadata": {},
   "source": [
    "Для объединения двух датафреймов мы будем использовать объединение по столбцу puNumber, однако для начала необходимо привести их к одинаковому типу."
   ]
  },
  {
   "cell_type": "code",
   "execution_count": 5,
   "metadata": {},
   "outputs": [],
   "source": [
    "#df_1['puNumber'] = df_1['puNumber'].astype('int') - получаем ValueError: invalid literal for int() with base 10: 'нет'"
   ]
  },
  {
   "cell_type": "markdown",
   "metadata": {},
   "source": [
    "Получаем ошибку и невозможность привести значения столбца puNumber к типу int из-за значения 'нет'. Заменим его на ноль."
   ]
  },
  {
   "cell_type": "code",
   "execution_count": 7,
   "metadata": {
    "scrolled": true
   },
   "outputs": [
    {
     "name": "stdout",
     "output_type": "stream",
     "text": [
      "<class 'pandas.core.frame.DataFrame'>\n",
      "RangeIndex: 7486 entries, 0 to 7485\n",
      "Data columns (total 15 columns):\n",
      " #   Column                 Non-Null Count  Dtype  \n",
      "---  ------                 --------------  -----  \n",
      " 0   title                  7486 non-null   object \n",
      " 1   puNumber               7486 non-null   int64  \n",
      " 2   show_start_date        7486 non-null   object \n",
      " 3   type                   7486 non-null   object \n",
      " 4   film_studio            7468 non-null   object \n",
      " 5   production_country     7484 non-null   object \n",
      " 6   director               7477 non-null   object \n",
      " 7   producer               6918 non-null   object \n",
      " 8   age_restriction        7486 non-null   object \n",
      " 9   refundable_support     332 non-null    float64\n",
      " 10  nonrefundable_support  332 non-null    float64\n",
      " 11  budget                 332 non-null    float64\n",
      " 12  financing_source       332 non-null    object \n",
      " 13  ratings                6519 non-null   object \n",
      " 14  genres                 6510 non-null   object \n",
      "dtypes: float64(3), int64(1), object(11)\n",
      "memory usage: 877.4+ KB\n"
     ]
    }
   ],
   "source": [
    "df_1['puNumber'] = df_1['puNumber'].replace('нет', '0')\n",
    "df_1['puNumber'] = df_1['puNumber'].astype('int')\n",
    "df_1.info()"
   ]
  },
  {
   "cell_type": "markdown",
   "metadata": {},
   "source": [
    "Замена значения на ноль повлияло на благополучную замену типа всего столбца. Пора объединять таблицы."
   ]
  },
  {
   "cell_type": "code",
   "execution_count": 8,
   "metadata": {},
   "outputs": [
    {
     "name": "stdout",
     "output_type": "stream",
     "text": [
      "<class 'pandas.core.frame.DataFrame'>\n",
      "Int64Index: 7486 entries, 0 to 7485\n",
      "Data columns (total 16 columns):\n",
      " #   Column                 Non-Null Count  Dtype  \n",
      "---  ------                 --------------  -----  \n",
      " 0   title                  7486 non-null   object \n",
      " 1   puNumber               7486 non-null   int64  \n",
      " 2   show_start_date        7486 non-null   object \n",
      " 3   type                   7486 non-null   object \n",
      " 4   film_studio            7468 non-null   object \n",
      " 5   production_country     7484 non-null   object \n",
      " 6   director               7477 non-null   object \n",
      " 7   producer               6918 non-null   object \n",
      " 8   age_restriction        7486 non-null   object \n",
      " 9   refundable_support     332 non-null    float64\n",
      " 10  nonrefundable_support  332 non-null    float64\n",
      " 11  budget                 332 non-null    float64\n",
      " 12  financing_source       332 non-null    object \n",
      " 13  ratings                6519 non-null   object \n",
      " 14  genres                 6510 non-null   object \n",
      " 15  box_office             3158 non-null   float64\n",
      "dtypes: float64(4), int64(1), object(11)\n",
      "memory usage: 994.2+ KB\n"
     ]
    },
    {
     "data": {
      "text/html": [
       "<div>\n",
       "<style scoped>\n",
       "    .dataframe tbody tr th:only-of-type {\n",
       "        vertical-align: middle;\n",
       "    }\n",
       "\n",
       "    .dataframe tbody tr th {\n",
       "        vertical-align: top;\n",
       "    }\n",
       "\n",
       "    .dataframe thead th {\n",
       "        text-align: right;\n",
       "    }\n",
       "</style>\n",
       "<table border=\"1\" class=\"dataframe\">\n",
       "  <thead>\n",
       "    <tr style=\"text-align: right;\">\n",
       "      <th></th>\n",
       "      <th>title</th>\n",
       "      <th>puNumber</th>\n",
       "      <th>show_start_date</th>\n",
       "      <th>type</th>\n",
       "      <th>film_studio</th>\n",
       "      <th>production_country</th>\n",
       "      <th>director</th>\n",
       "      <th>producer</th>\n",
       "      <th>age_restriction</th>\n",
       "      <th>refundable_support</th>\n",
       "      <th>nonrefundable_support</th>\n",
       "      <th>budget</th>\n",
       "      <th>financing_source</th>\n",
       "      <th>ratings</th>\n",
       "      <th>genres</th>\n",
       "      <th>box_office</th>\n",
       "    </tr>\n",
       "  </thead>\n",
       "  <tbody>\n",
       "    <tr>\n",
       "      <th>0</th>\n",
       "      <td>Открытый простор</td>\n",
       "      <td>221048915</td>\n",
       "      <td>2015-11-27T12:00:00.000Z</td>\n",
       "      <td>Художественный</td>\n",
       "      <td>Тачстоун Пикчерз, Кобальт Пикчерз, Бикон Пикче...</td>\n",
       "      <td>США</td>\n",
       "      <td>Кевин Костнер</td>\n",
       "      <td>Дэвид Валдес, Кевин Костнер, Джейк Эбертс</td>\n",
       "      <td>«18+» - запрещено для детей</td>\n",
       "      <td>NaN</td>\n",
       "      <td>NaN</td>\n",
       "      <td>NaN</td>\n",
       "      <td>NaN</td>\n",
       "      <td>7.2</td>\n",
       "      <td>боевик,драма,мелодрама</td>\n",
       "      <td>NaN</td>\n",
       "    </tr>\n",
       "    <tr>\n",
       "      <th>1</th>\n",
       "      <td>Особо важное задание</td>\n",
       "      <td>111013716</td>\n",
       "      <td>2016-09-13T12:00:00.000Z</td>\n",
       "      <td>Художественный</td>\n",
       "      <td>Киностудия \"Мосфильм\"</td>\n",
       "      <td>СССР</td>\n",
       "      <td>Е.Матвеев</td>\n",
       "      <td>NaN</td>\n",
       "      <td>«6+» - для детей старше 6 лет</td>\n",
       "      <td>NaN</td>\n",
       "      <td>NaN</td>\n",
       "      <td>NaN</td>\n",
       "      <td>NaN</td>\n",
       "      <td>6.6</td>\n",
       "      <td>драма,военный</td>\n",
       "      <td>NaN</td>\n",
       "    </tr>\n",
       "    <tr>\n",
       "      <th>2</th>\n",
       "      <td>Особо опасен</td>\n",
       "      <td>221038416</td>\n",
       "      <td>2016-10-10T12:00:00.000Z</td>\n",
       "      <td>Художественный</td>\n",
       "      <td>Юниверсал Пикчерз, Кикстарт Продакшнз, Марк Пл...</td>\n",
       "      <td>США</td>\n",
       "      <td>Тимур Бекмамбетов</td>\n",
       "      <td>Джим Лемли, Джейсон Нетер, Марк Е.Платт, Яйн Смит</td>\n",
       "      <td>«18+» - запрещено для детей</td>\n",
       "      <td>NaN</td>\n",
       "      <td>NaN</td>\n",
       "      <td>NaN</td>\n",
       "      <td>NaN</td>\n",
       "      <td>6.8</td>\n",
       "      <td>фантастика,боевик,триллер</td>\n",
       "      <td>NaN</td>\n",
       "    </tr>\n",
       "    <tr>\n",
       "      <th>3</th>\n",
       "      <td>Особо опасен</td>\n",
       "      <td>221026916</td>\n",
       "      <td>2016-06-10T12:00:00.000Z</td>\n",
       "      <td>Художественный</td>\n",
       "      <td>Юниверсал Пикчерз, Кикстарт Продакшнз, Марк Пл...</td>\n",
       "      <td>США</td>\n",
       "      <td>Тимур Бекмамбетов</td>\n",
       "      <td>Джим Лемли, Джейсон Нетер, Марк Е.Платт, Яйн Смит</td>\n",
       "      <td>«18+» - запрещено для детей</td>\n",
       "      <td>NaN</td>\n",
       "      <td>NaN</td>\n",
       "      <td>NaN</td>\n",
       "      <td>NaN</td>\n",
       "      <td>6.8</td>\n",
       "      <td>фантастика,боевик,триллер</td>\n",
       "      <td>NaN</td>\n",
       "    </tr>\n",
       "    <tr>\n",
       "      <th>4</th>\n",
       "      <td>Особо опасен</td>\n",
       "      <td>221030815</td>\n",
       "      <td>2015-07-29T12:00:00.000Z</td>\n",
       "      <td>Художественный</td>\n",
       "      <td>Юниверсал Пикчерз, Кикстарт Продакшнз, Марк Пл...</td>\n",
       "      <td>США</td>\n",
       "      <td>Тимур Бекмамбетов</td>\n",
       "      <td>Джим Лемли, Джейсон Нетер, Марк Е.Платт, Яйн Смит</td>\n",
       "      <td>«18+» - запрещено для детей</td>\n",
       "      <td>NaN</td>\n",
       "      <td>NaN</td>\n",
       "      <td>NaN</td>\n",
       "      <td>NaN</td>\n",
       "      <td>6.8</td>\n",
       "      <td>фантастика,боевик,триллер</td>\n",
       "      <td>NaN</td>\n",
       "    </tr>\n",
       "  </tbody>\n",
       "</table>\n",
       "</div>"
      ],
      "text/plain": [
       "                  title   puNumber           show_start_date            type  \\\n",
       "0      Открытый простор  221048915  2015-11-27T12:00:00.000Z  Художественный   \n",
       "1  Особо важное задание  111013716  2016-09-13T12:00:00.000Z  Художественный   \n",
       "2          Особо опасен  221038416  2016-10-10T12:00:00.000Z  Художественный   \n",
       "3          Особо опасен  221026916  2016-06-10T12:00:00.000Z  Художественный   \n",
       "4          Особо опасен  221030815  2015-07-29T12:00:00.000Z  Художественный   \n",
       "\n",
       "                                         film_studio production_country  \\\n",
       "0  Тачстоун Пикчерз, Кобальт Пикчерз, Бикон Пикче...                США   \n",
       "1                              Киностудия \"Мосфильм\"               СССР   \n",
       "2  Юниверсал Пикчерз, Кикстарт Продакшнз, Марк Пл...                США   \n",
       "3  Юниверсал Пикчерз, Кикстарт Продакшнз, Марк Пл...                США   \n",
       "4  Юниверсал Пикчерз, Кикстарт Продакшнз, Марк Пл...                США   \n",
       "\n",
       "            director                                           producer  \\\n",
       "0      Кевин Костнер          Дэвид Валдес, Кевин Костнер, Джейк Эбертс   \n",
       "1          Е.Матвеев                                                NaN   \n",
       "2  Тимур Бекмамбетов  Джим Лемли, Джейсон Нетер, Марк Е.Платт, Яйн Смит   \n",
       "3  Тимур Бекмамбетов  Джим Лемли, Джейсон Нетер, Марк Е.Платт, Яйн Смит   \n",
       "4  Тимур Бекмамбетов  Джим Лемли, Джейсон Нетер, Марк Е.Платт, Яйн Смит   \n",
       "\n",
       "                 age_restriction  refundable_support  nonrefundable_support  \\\n",
       "0    «18+» - запрещено для детей                 NaN                    NaN   \n",
       "1  «6+» - для детей старше 6 лет                 NaN                    NaN   \n",
       "2    «18+» - запрещено для детей                 NaN                    NaN   \n",
       "3    «18+» - запрещено для детей                 NaN                    NaN   \n",
       "4    «18+» - запрещено для детей                 NaN                    NaN   \n",
       "\n",
       "   budget financing_source ratings                     genres  box_office  \n",
       "0     NaN              NaN     7.2     боевик,драма,мелодрама         NaN  \n",
       "1     NaN              NaN     6.6              драма,военный         NaN  \n",
       "2     NaN              NaN     6.8  фантастика,боевик,триллер         NaN  \n",
       "3     NaN              NaN     6.8  фантастика,боевик,триллер         NaN  \n",
       "4     NaN              NaN     6.8  фантастика,боевик,триллер         NaN  "
      ]
     },
     "execution_count": 8,
     "metadata": {},
     "output_type": "execute_result"
    }
   ],
   "source": [
    "df = df_1.merge(df_2, on='puNumber', how='outer')\n",
    "df.info()\n",
    "df.head()"
   ]
  },
  {
   "cell_type": "markdown",
   "metadata": {},
   "source": [
    "Объединение таблиц прошло успешно, общее количество строк осталось без изменений - 7 486."
   ]
  },
  {
   "cell_type": "markdown",
   "metadata": {
    "id": "KLDGpPG0gFyM"
   },
   "source": [
    "<a id=\"preprocessing\"> </a>\n",
    "### Шаг 2. Предобработка данных"
   ]
  },
  {
   "cell_type": "markdown",
   "metadata": {
    "id": "ssWwKXsxgFyO"
   },
   "source": [
    "#### Шаг 2.1. Проверьте типы данных\n",
    "\n",
    "- Проверьте типы данных в датафрейме и преобразуйте их там, где это необходимо."
   ]
  },
  {
   "cell_type": "markdown",
   "metadata": {},
   "source": [
    "Заменим типы следующих столбцов:  \n",
    "show_start_date на datetime  \n",
    "ratings на float  "
   ]
  },
  {
   "cell_type": "code",
   "execution_count": 9,
   "metadata": {
    "id": "kVGSplJOgFyO",
    "scrolled": true
   },
   "outputs": [
    {
     "data": {
      "text/html": [
       "<div>\n",
       "<style scoped>\n",
       "    .dataframe tbody tr th:only-of-type {\n",
       "        vertical-align: middle;\n",
       "    }\n",
       "\n",
       "    .dataframe tbody tr th {\n",
       "        vertical-align: top;\n",
       "    }\n",
       "\n",
       "    .dataframe thead th {\n",
       "        text-align: right;\n",
       "    }\n",
       "</style>\n",
       "<table border=\"1\" class=\"dataframe\">\n",
       "  <thead>\n",
       "    <tr style=\"text-align: right;\">\n",
       "      <th></th>\n",
       "      <th>title</th>\n",
       "      <th>puNumber</th>\n",
       "      <th>show_start_date</th>\n",
       "      <th>type</th>\n",
       "      <th>film_studio</th>\n",
       "      <th>production_country</th>\n",
       "      <th>director</th>\n",
       "      <th>producer</th>\n",
       "      <th>age_restriction</th>\n",
       "      <th>refundable_support</th>\n",
       "      <th>nonrefundable_support</th>\n",
       "      <th>budget</th>\n",
       "      <th>financing_source</th>\n",
       "      <th>ratings</th>\n",
       "      <th>genres</th>\n",
       "      <th>box_office</th>\n",
       "    </tr>\n",
       "  </thead>\n",
       "  <tbody>\n",
       "    <tr>\n",
       "      <th>0</th>\n",
       "      <td>Открытый простор</td>\n",
       "      <td>221048915</td>\n",
       "      <td>2015-11-27 12:00:00+00:00</td>\n",
       "      <td>Художественный</td>\n",
       "      <td>Тачстоун Пикчерз, Кобальт Пикчерз, Бикон Пикче...</td>\n",
       "      <td>США</td>\n",
       "      <td>Кевин Костнер</td>\n",
       "      <td>Дэвид Валдес, Кевин Костнер, Джейк Эбертс</td>\n",
       "      <td>«18+» - запрещено для детей</td>\n",
       "      <td>NaN</td>\n",
       "      <td>NaN</td>\n",
       "      <td>NaN</td>\n",
       "      <td>NaN</td>\n",
       "      <td>7.2</td>\n",
       "      <td>боевик,драма,мелодрама</td>\n",
       "      <td>NaN</td>\n",
       "    </tr>\n",
       "    <tr>\n",
       "      <th>1</th>\n",
       "      <td>Особо важное задание</td>\n",
       "      <td>111013716</td>\n",
       "      <td>2016-09-13 12:00:00+00:00</td>\n",
       "      <td>Художественный</td>\n",
       "      <td>Киностудия \"Мосфильм\"</td>\n",
       "      <td>СССР</td>\n",
       "      <td>Е.Матвеев</td>\n",
       "      <td>NaN</td>\n",
       "      <td>«6+» - для детей старше 6 лет</td>\n",
       "      <td>NaN</td>\n",
       "      <td>NaN</td>\n",
       "      <td>NaN</td>\n",
       "      <td>NaN</td>\n",
       "      <td>6.6</td>\n",
       "      <td>драма,военный</td>\n",
       "      <td>NaN</td>\n",
       "    </tr>\n",
       "  </tbody>\n",
       "</table>\n",
       "</div>"
      ],
      "text/plain": [
       "                  title   puNumber           show_start_date            type  \\\n",
       "0      Открытый простор  221048915 2015-11-27 12:00:00+00:00  Художественный   \n",
       "1  Особо важное задание  111013716 2016-09-13 12:00:00+00:00  Художественный   \n",
       "\n",
       "                                         film_studio production_country  \\\n",
       "0  Тачстоун Пикчерз, Кобальт Пикчерз, Бикон Пикче...                США   \n",
       "1                              Киностудия \"Мосфильм\"               СССР   \n",
       "\n",
       "        director                                   producer  \\\n",
       "0  Кевин Костнер  Дэвид Валдес, Кевин Костнер, Джейк Эбертс   \n",
       "1      Е.Матвеев                                        NaN   \n",
       "\n",
       "                 age_restriction  refundable_support  nonrefundable_support  \\\n",
       "0    «18+» - запрещено для детей                 NaN                    NaN   \n",
       "1  «6+» - для детей старше 6 лет                 NaN                    NaN   \n",
       "\n",
       "   budget financing_source ratings                  genres  box_office  \n",
       "0     NaN              NaN     7.2  боевик,драма,мелодрама         NaN  \n",
       "1     NaN              NaN     6.6           драма,военный         NaN  "
      ]
     },
     "execution_count": 9,
     "metadata": {},
     "output_type": "execute_result"
    }
   ],
   "source": [
    "#Изменим тип столбца с датой в формат даты \n",
    "df['show_start_date'] = pd.to_datetime(df['show_start_date'], format = '%Y-%m-%dT%H:%M:%S')\n",
    "df.head(2)"
   ]
  },
  {
   "cell_type": "code",
   "execution_count": 10,
   "metadata": {},
   "outputs": [
    {
     "name": "stdout",
     "output_type": "stream",
     "text": [
      "<class 'pandas.core.frame.DataFrame'>\n",
      "Int64Index: 7486 entries, 0 to 7485\n",
      "Data columns (total 16 columns):\n",
      " #   Column                 Non-Null Count  Dtype              \n",
      "---  ------                 --------------  -----              \n",
      " 0   title                  7486 non-null   object             \n",
      " 1   puNumber               7486 non-null   int64              \n",
      " 2   show_start_date        7486 non-null   datetime64[ns, UTC]\n",
      " 3   type                   7486 non-null   object             \n",
      " 4   film_studio            7468 non-null   object             \n",
      " 5   production_country     7484 non-null   object             \n",
      " 6   director               7477 non-null   object             \n",
      " 7   producer               6918 non-null   object             \n",
      " 8   age_restriction        7486 non-null   object             \n",
      " 9   refundable_support     332 non-null    float64            \n",
      " 10  nonrefundable_support  332 non-null    float64            \n",
      " 11  budget                 332 non-null    float64            \n",
      " 12  financing_source       332 non-null    object             \n",
      " 13  ratings                6519 non-null   float64            \n",
      " 14  genres                 6510 non-null   object             \n",
      " 15  box_office             3158 non-null   float64            \n",
      "dtypes: datetime64[ns, UTC](1), float64(5), int64(1), object(9)\n",
      "memory usage: 994.2+ KB\n"
     ]
    }
   ],
   "source": [
    "#Изменим тип столбца ratings на float  \n",
    "#df['ratings'].unique()\n",
    "df['ratings'] = df['ratings'].replace('99%','9.9')\n",
    "df['ratings'] = df['ratings'].replace('28%','2.8')\n",
    "df['ratings'] = df['ratings'].replace('97%','9.7')\n",
    "df['ratings'] = df['ratings'].replace('83%','8.3')\n",
    "df['ratings'] = df['ratings'].replace('64%','6.4')\n",
    "df['ratings'] = df['ratings'].replace('91%','9.1')\n",
    "df['ratings'] = df['ratings'].replace('94%','9.4')\n",
    "df['ratings'] = df['ratings'].replace('62%','6.2')\n",
    "df['ratings'] = df['ratings'].replace('79%','7.9')\n",
    "df['ratings'] = df['ratings'].replace('90%','9.0')\n",
    "df['ratings'] = df['ratings'].replace('19%','1.9')\n",
    "df['ratings'] = df['ratings'].replace('88%','8.8')\n",
    "df['ratings'] = df['ratings'].replace('89%','8.9')\n",
    "df['ratings'] = df['ratings'].replace('98%','9.8')\n",
    "df['ratings'] = df['ratings'].astype('float')\n",
    "df['ratings'].unique() #Проверим уникальные значения\n",
    "df.info() #Проверим изменение типа данных"
   ]
  },
  {
   "cell_type": "code",
   "execution_count": 11,
   "metadata": {},
   "outputs": [
    {
     "data": {
      "text/plain": [
       "0    5.6\n",
       "1    5.5\n",
       "dtype: float64"
      ]
     },
     "execution_count": 11,
     "metadata": {},
     "output_type": "execute_result"
    }
   ],
   "source": [
    "pd.Series(['56%', 5.5]).astype('str').str.replace('%','e-1').astype(float)"
   ]
  },
  {
   "cell_type": "markdown",
   "metadata": {
    "id": "i0MOLbF-gFyP"
   },
   "source": [
    "#### Шаг 2.2. Изучите пропуски в датафрейме\n",
    "\n",
    "- Объясните, почему заполнили пропуски определённым образом или почему не стали этого делать."
   ]
  },
  {
   "cell_type": "code",
   "execution_count": 12,
   "metadata": {
    "id": "8MJD_lkngFyP"
   },
   "outputs": [
    {
     "data": {
      "text/html": [
       "<style  type=\"text/css\" >\n",
       "#T_45bca_row0_col0,#T_45bca_row1_col0,#T_45bca_row2_col0,#T_45bca_row3_col0,#T_45bca_row4_col0,#T_45bca_row5_col0,#T_45bca_row6_col0,#T_45bca_row8_col0{\n",
       "            background-color:  #3b4cc0;\n",
       "            color:  #f1f1f1;\n",
       "        }#T_45bca_row7_col0{\n",
       "            background-color:  #5470de;\n",
       "            color:  #000000;\n",
       "        }#T_45bca_row9_col0,#T_45bca_row10_col0,#T_45bca_row11_col0,#T_45bca_row12_col0{\n",
       "            background-color:  #b40426;\n",
       "            color:  #f1f1f1;\n",
       "        }#T_45bca_row13_col0,#T_45bca_row14_col0{\n",
       "            background-color:  #6485ec;\n",
       "            color:  #000000;\n",
       "        }#T_45bca_row15_col0{\n",
       "            background-color:  #f2cab5;\n",
       "            color:  #000000;\n",
       "        }</style><table id=\"T_45bca_\" ><thead>    <tr>        <th class=\"blank level0\" ></th>        <th class=\"col_heading level0 col0\" >0</th>    </tr></thead><tbody>\n",
       "                <tr>\n",
       "                        <th id=\"T_45bca_level0_row0\" class=\"row_heading level0 row0\" >title</th>\n",
       "                        <td id=\"T_45bca_row0_col0\" class=\"data row0 col0\" >0.000000</td>\n",
       "            </tr>\n",
       "            <tr>\n",
       "                        <th id=\"T_45bca_level0_row1\" class=\"row_heading level0 row1\" >puNumber</th>\n",
       "                        <td id=\"T_45bca_row1_col0\" class=\"data row1 col0\" >0.000000</td>\n",
       "            </tr>\n",
       "            <tr>\n",
       "                        <th id=\"T_45bca_level0_row2\" class=\"row_heading level0 row2\" >show_start_date</th>\n",
       "                        <td id=\"T_45bca_row2_col0\" class=\"data row2 col0\" >0.000000</td>\n",
       "            </tr>\n",
       "            <tr>\n",
       "                        <th id=\"T_45bca_level0_row3\" class=\"row_heading level0 row3\" >type</th>\n",
       "                        <td id=\"T_45bca_row3_col0\" class=\"data row3 col0\" >0.000000</td>\n",
       "            </tr>\n",
       "            <tr>\n",
       "                        <th id=\"T_45bca_level0_row4\" class=\"row_heading level0 row4\" >film_studio</th>\n",
       "                        <td id=\"T_45bca_row4_col0\" class=\"data row4 col0\" >0.000000</td>\n",
       "            </tr>\n",
       "            <tr>\n",
       "                        <th id=\"T_45bca_level0_row5\" class=\"row_heading level0 row5\" >production_country</th>\n",
       "                        <td id=\"T_45bca_row5_col0\" class=\"data row5 col0\" >0.000000</td>\n",
       "            </tr>\n",
       "            <tr>\n",
       "                        <th id=\"T_45bca_level0_row6\" class=\"row_heading level0 row6\" >director</th>\n",
       "                        <td id=\"T_45bca_row6_col0\" class=\"data row6 col0\" >0.000000</td>\n",
       "            </tr>\n",
       "            <tr>\n",
       "                        <th id=\"T_45bca_level0_row7\" class=\"row_heading level0 row7\" >producer</th>\n",
       "                        <td id=\"T_45bca_row7_col0\" class=\"data row7 col0\" >8.000000</td>\n",
       "            </tr>\n",
       "            <tr>\n",
       "                        <th id=\"T_45bca_level0_row8\" class=\"row_heading level0 row8\" >age_restriction</th>\n",
       "                        <td id=\"T_45bca_row8_col0\" class=\"data row8 col0\" >0.000000</td>\n",
       "            </tr>\n",
       "            <tr>\n",
       "                        <th id=\"T_45bca_level0_row9\" class=\"row_heading level0 row9\" >refundable_support</th>\n",
       "                        <td id=\"T_45bca_row9_col0\" class=\"data row9 col0\" >96.000000</td>\n",
       "            </tr>\n",
       "            <tr>\n",
       "                        <th id=\"T_45bca_level0_row10\" class=\"row_heading level0 row10\" >nonrefundable_support</th>\n",
       "                        <td id=\"T_45bca_row10_col0\" class=\"data row10 col0\" >96.000000</td>\n",
       "            </tr>\n",
       "            <tr>\n",
       "                        <th id=\"T_45bca_level0_row11\" class=\"row_heading level0 row11\" >budget</th>\n",
       "                        <td id=\"T_45bca_row11_col0\" class=\"data row11 col0\" >96.000000</td>\n",
       "            </tr>\n",
       "            <tr>\n",
       "                        <th id=\"T_45bca_level0_row12\" class=\"row_heading level0 row12\" >financing_source</th>\n",
       "                        <td id=\"T_45bca_row12_col0\" class=\"data row12 col0\" >96.000000</td>\n",
       "            </tr>\n",
       "            <tr>\n",
       "                        <th id=\"T_45bca_level0_row13\" class=\"row_heading level0 row13\" >ratings</th>\n",
       "                        <td id=\"T_45bca_row13_col0\" class=\"data row13 col0\" >13.000000</td>\n",
       "            </tr>\n",
       "            <tr>\n",
       "                        <th id=\"T_45bca_level0_row14\" class=\"row_heading level0 row14\" >genres</th>\n",
       "                        <td id=\"T_45bca_row14_col0\" class=\"data row14 col0\" >13.000000</td>\n",
       "            </tr>\n",
       "            <tr>\n",
       "                        <th id=\"T_45bca_level0_row15\" class=\"row_heading level0 row15\" >box_office</th>\n",
       "                        <td id=\"T_45bca_row15_col0\" class=\"data row15 col0\" >58.000000</td>\n",
       "            </tr>\n",
       "    </tbody></table>"
      ],
      "text/plain": [
       "<pandas.io.formats.style.Styler at 0x7f01e5ae2580>"
      ]
     },
     "execution_count": 12,
     "metadata": {},
     "output_type": "execute_result"
    }
   ],
   "source": [
    "#Проверим колличество пропусков в %\n",
    "pd.DataFrame(round(df.isna().mean()*100,)).style.background_gradient('coolwarm')"
   ]
  },
  {
   "cell_type": "markdown",
   "metadata": {},
   "source": [
    "В столбцах refundable_support, nonrefundable_support, budget, financing_source пропуски вызваны отсутсвием государственной поддержки, оставим без изменений.  \n",
    "В столбцах ratings, genres, producer пропцски не превышают 13% от общего количества, не считаю нужным их заполнять.  \n",
    "В столбце box_office пропуски указаны в фильмах, которые не вошли в таблицу сборов."
   ]
  },
  {
   "cell_type": "markdown",
   "metadata": {
    "id": "4c6k1t9ygFyQ"
   },
   "source": [
    "#### Шаг 2.3. Изучите дубликаты в датафрейме\n",
    "- Проверьте, есть ли в данных дубликаты. Опишите причины, которые могли повлиять на появление дублей."
   ]
  },
  {
   "cell_type": "code",
   "execution_count": 13,
   "metadata": {
    "id": "aKck8RIdgFyQ",
    "scrolled": true
   },
   "outputs": [
    {
     "data": {
      "text/plain": [
       "0"
      ]
     },
     "execution_count": 13,
     "metadata": {},
     "output_type": "execute_result"
    }
   ],
   "source": [
    "df.duplicated().sum()"
   ]
  },
  {
   "cell_type": "markdown",
   "metadata": {},
   "source": [
    "Явных дубликатов нет. Поищем неявные."
   ]
  },
  {
   "cell_type": "code",
   "execution_count": 14,
   "metadata": {},
   "outputs": [
    {
     "data": {
      "text/html": [
       "<div>\n",
       "<style scoped>\n",
       "    .dataframe tbody tr th:only-of-type {\n",
       "        vertical-align: middle;\n",
       "    }\n",
       "\n",
       "    .dataframe tbody tr th {\n",
       "        vertical-align: top;\n",
       "    }\n",
       "\n",
       "    .dataframe thead th {\n",
       "        text-align: right;\n",
       "    }\n",
       "</style>\n",
       "<table border=\"1\" class=\"dataframe\">\n",
       "  <thead>\n",
       "    <tr style=\"text-align: right;\">\n",
       "      <th></th>\n",
       "      <th>title</th>\n",
       "      <th>puNumber</th>\n",
       "      <th>show_start_date</th>\n",
       "      <th>type</th>\n",
       "      <th>film_studio</th>\n",
       "      <th>production_country</th>\n",
       "      <th>director</th>\n",
       "      <th>producer</th>\n",
       "      <th>age_restriction</th>\n",
       "      <th>refundable_support</th>\n",
       "      <th>nonrefundable_support</th>\n",
       "      <th>budget</th>\n",
       "      <th>financing_source</th>\n",
       "      <th>ratings</th>\n",
       "      <th>genres</th>\n",
       "      <th>box_office</th>\n",
       "    </tr>\n",
       "  </thead>\n",
       "  <tbody>\n",
       "    <tr>\n",
       "      <th>0</th>\n",
       "      <td>Открытый простор</td>\n",
       "      <td>221048915</td>\n",
       "      <td>2015-11-27 12:00:00+00:00</td>\n",
       "      <td>Художественный</td>\n",
       "      <td>Тачстоун Пикчерз, Кобальт Пикчерз, Бикон Пикче...</td>\n",
       "      <td>США</td>\n",
       "      <td>Кевин Костнер</td>\n",
       "      <td>Дэвид Валдес, Кевин Костнер, Джейк Эбертс</td>\n",
       "      <td>«18+» - запрещено для детей</td>\n",
       "      <td>NaN</td>\n",
       "      <td>NaN</td>\n",
       "      <td>NaN</td>\n",
       "      <td>NaN</td>\n",
       "      <td>7.2</td>\n",
       "      <td>боевик,драма,мелодрама</td>\n",
       "      <td>NaN</td>\n",
       "    </tr>\n",
       "    <tr>\n",
       "      <th>1</th>\n",
       "      <td>Особо важное задание</td>\n",
       "      <td>111013716</td>\n",
       "      <td>2016-09-13 12:00:00+00:00</td>\n",
       "      <td>Художественный</td>\n",
       "      <td>Киностудия \"Мосфильм\"</td>\n",
       "      <td>СССР</td>\n",
       "      <td>Е.Матвеев</td>\n",
       "      <td>NaN</td>\n",
       "      <td>«6+» - для детей старше 6 лет</td>\n",
       "      <td>NaN</td>\n",
       "      <td>NaN</td>\n",
       "      <td>NaN</td>\n",
       "      <td>NaN</td>\n",
       "      <td>6.6</td>\n",
       "      <td>драма,военный</td>\n",
       "      <td>NaN</td>\n",
       "    </tr>\n",
       "    <tr>\n",
       "      <th>2</th>\n",
       "      <td>Особо опасен</td>\n",
       "      <td>221038416</td>\n",
       "      <td>2016-10-10 12:00:00+00:00</td>\n",
       "      <td>Художественный</td>\n",
       "      <td>Юниверсал Пикчерз, Кикстарт Продакшнз, Марк Пл...</td>\n",
       "      <td>США</td>\n",
       "      <td>Тимур Бекмамбетов</td>\n",
       "      <td>Джим Лемли, Джейсон Нетер, Марк Е.Платт, Яйн Смит</td>\n",
       "      <td>«18+» - запрещено для детей</td>\n",
       "      <td>NaN</td>\n",
       "      <td>NaN</td>\n",
       "      <td>NaN</td>\n",
       "      <td>NaN</td>\n",
       "      <td>6.8</td>\n",
       "      <td>фантастика,боевик,триллер</td>\n",
       "      <td>NaN</td>\n",
       "    </tr>\n",
       "    <tr>\n",
       "      <th>3</th>\n",
       "      <td>Особо опасен</td>\n",
       "      <td>221026916</td>\n",
       "      <td>2016-06-10 12:00:00+00:00</td>\n",
       "      <td>Художественный</td>\n",
       "      <td>Юниверсал Пикчерз, Кикстарт Продакшнз, Марк Пл...</td>\n",
       "      <td>США</td>\n",
       "      <td>Тимур Бекмамбетов</td>\n",
       "      <td>Джим Лемли, Джейсон Нетер, Марк Е.Платт, Яйн Смит</td>\n",
       "      <td>«18+» - запрещено для детей</td>\n",
       "      <td>NaN</td>\n",
       "      <td>NaN</td>\n",
       "      <td>NaN</td>\n",
       "      <td>NaN</td>\n",
       "      <td>6.8</td>\n",
       "      <td>фантастика,боевик,триллер</td>\n",
       "      <td>NaN</td>\n",
       "    </tr>\n",
       "    <tr>\n",
       "      <th>4</th>\n",
       "      <td>Особо опасен</td>\n",
       "      <td>221030815</td>\n",
       "      <td>2015-07-29 12:00:00+00:00</td>\n",
       "      <td>Художественный</td>\n",
       "      <td>Юниверсал Пикчерз, Кикстарт Продакшнз, Марк Пл...</td>\n",
       "      <td>США</td>\n",
       "      <td>Тимур Бекмамбетов</td>\n",
       "      <td>Джим Лемли, Джейсон Нетер, Марк Е.Платт, Яйн Смит</td>\n",
       "      <td>«18+» - запрещено для детей</td>\n",
       "      <td>NaN</td>\n",
       "      <td>NaN</td>\n",
       "      <td>NaN</td>\n",
       "      <td>NaN</td>\n",
       "      <td>6.8</td>\n",
       "      <td>фантастика,боевик,триллер</td>\n",
       "      <td>NaN</td>\n",
       "    </tr>\n",
       "  </tbody>\n",
       "</table>\n",
       "</div>"
      ],
      "text/plain": [
       "                  title   puNumber           show_start_date            type  \\\n",
       "0      Открытый простор  221048915 2015-11-27 12:00:00+00:00  Художественный   \n",
       "1  Особо важное задание  111013716 2016-09-13 12:00:00+00:00  Художественный   \n",
       "2          Особо опасен  221038416 2016-10-10 12:00:00+00:00  Художественный   \n",
       "3          Особо опасен  221026916 2016-06-10 12:00:00+00:00  Художественный   \n",
       "4          Особо опасен  221030815 2015-07-29 12:00:00+00:00  Художественный   \n",
       "\n",
       "                                         film_studio production_country  \\\n",
       "0  Тачстоун Пикчерз, Кобальт Пикчерз, Бикон Пикче...                США   \n",
       "1                              Киностудия \"Мосфильм\"               СССР   \n",
       "2  Юниверсал Пикчерз, Кикстарт Продакшнз, Марк Пл...                США   \n",
       "3  Юниверсал Пикчерз, Кикстарт Продакшнз, Марк Пл...                США   \n",
       "4  Юниверсал Пикчерз, Кикстарт Продакшнз, Марк Пл...                США   \n",
       "\n",
       "            director                                           producer  \\\n",
       "0      Кевин Костнер          Дэвид Валдес, Кевин Костнер, Джейк Эбертс   \n",
       "1          Е.Матвеев                                                NaN   \n",
       "2  Тимур Бекмамбетов  Джим Лемли, Джейсон Нетер, Марк Е.Платт, Яйн Смит   \n",
       "3  Тимур Бекмамбетов  Джим Лемли, Джейсон Нетер, Марк Е.Платт, Яйн Смит   \n",
       "4  Тимур Бекмамбетов  Джим Лемли, Джейсон Нетер, Марк Е.Платт, Яйн Смит   \n",
       "\n",
       "                 age_restriction  refundable_support  nonrefundable_support  \\\n",
       "0    «18+» - запрещено для детей                 NaN                    NaN   \n",
       "1  «6+» - для детей старше 6 лет                 NaN                    NaN   \n",
       "2    «18+» - запрещено для детей                 NaN                    NaN   \n",
       "3    «18+» - запрещено для детей                 NaN                    NaN   \n",
       "4    «18+» - запрещено для детей                 NaN                    NaN   \n",
       "\n",
       "   budget financing_source  ratings                     genres  box_office  \n",
       "0     NaN              NaN      7.2     боевик,драма,мелодрама         NaN  \n",
       "1     NaN              NaN      6.6              драма,военный         NaN  \n",
       "2     NaN              NaN      6.8  фантастика,боевик,триллер         NaN  \n",
       "3     NaN              NaN      6.8  фантастика,боевик,триллер         NaN  \n",
       "4     NaN              NaN      6.8  фантастика,боевик,триллер         NaN  "
      ]
     },
     "execution_count": 14,
     "metadata": {},
     "output_type": "execute_result"
    }
   ],
   "source": [
    "df.duplicated(subset=['title', 'director'], keep='first')\n",
    "df.head()"
   ]
  },
  {
   "cell_type": "markdown",
   "metadata": {},
   "source": [
    "Видим повторяющиеся строки с одинаковым названием фильма и одним и тем же режиссером (например строки 3 и 4). Можно сгуппировать таблицу по таким фильмам, если прокаты были в одном году, а бюджеты и сборы таких строк объеденить. Сделаем это на этапе создания отдельного столбца с годом проката, чтобы объеденить данные о прокате фильма в один год."
   ]
  },
  {
   "cell_type": "code",
   "execution_count": 15,
   "metadata": {},
   "outputs": [
    {
     "data": {
      "text/html": [
       "<div>\n",
       "<style scoped>\n",
       "    .dataframe tbody tr th:only-of-type {\n",
       "        vertical-align: middle;\n",
       "    }\n",
       "\n",
       "    .dataframe tbody tr th {\n",
       "        vertical-align: top;\n",
       "    }\n",
       "\n",
       "    .dataframe thead th {\n",
       "        text-align: right;\n",
       "    }\n",
       "</style>\n",
       "<table border=\"1\" class=\"dataframe\">\n",
       "  <thead>\n",
       "    <tr style=\"text-align: right;\">\n",
       "      <th></th>\n",
       "      <th>title</th>\n",
       "      <th>puNumber</th>\n",
       "      <th>show_start_date</th>\n",
       "      <th>type</th>\n",
       "      <th>film_studio</th>\n",
       "      <th>production_country</th>\n",
       "      <th>director</th>\n",
       "      <th>producer</th>\n",
       "      <th>age_restriction</th>\n",
       "      <th>refundable_support</th>\n",
       "      <th>nonrefundable_support</th>\n",
       "      <th>budget</th>\n",
       "      <th>financing_source</th>\n",
       "      <th>ratings</th>\n",
       "      <th>genres</th>\n",
       "      <th>box_office</th>\n",
       "    </tr>\n",
       "  </thead>\n",
       "  <tbody>\n",
       "    <tr>\n",
       "      <th>4639</th>\n",
       "      <td>Иоанна - женщина на папском престоле /По роман...</td>\n",
       "      <td>221154310</td>\n",
       "      <td>2010-12-17 12:00:00+00:00</td>\n",
       "      <td>Художественный</td>\n",
       "      <td>Константин Фильм, А Эр Ди Дегето Фильм, Дюне ...</td>\n",
       "      <td>Германия - Великобритания - Италия - Испания</td>\n",
       "      <td>Зенке Вортманн</td>\n",
       "      <td>Оливер Бербен, Дорис Д.Хайнце, Фарук Элтан</td>\n",
       "      <td>«16+» - для детей старше 16 лет</td>\n",
       "      <td>NaN</td>\n",
       "      <td>NaN</td>\n",
       "      <td>NaN</td>\n",
       "      <td>NaN</td>\n",
       "      <td>7.6</td>\n",
       "      <td>драма,мелодрама,история</td>\n",
       "      <td>NaN</td>\n",
       "    </tr>\n",
       "    <tr>\n",
       "      <th>5068</th>\n",
       "      <td>Анализируй то!</td>\n",
       "      <td>221054410</td>\n",
       "      <td>2010-05-25 12:00:00+00:00</td>\n",
       "      <td>Художественный</td>\n",
       "      <td>Уорнер Бразерс, Виллидж Роадшоу Пикчерз, Эн-Пи...</td>\n",
       "      <td>США</td>\n",
       "      <td>Гарольд Реймис</td>\n",
       "      <td>Джейн Розенталь, Паул Уэйнстейн</td>\n",
       "      <td>«12+» - для детей старше 12 лет</td>\n",
       "      <td>NaN</td>\n",
       "      <td>NaN</td>\n",
       "      <td>NaN</td>\n",
       "      <td>NaN</td>\n",
       "      <td>6.8</td>\n",
       "      <td>комедия,криминал</td>\n",
       "      <td>NaN</td>\n",
       "    </tr>\n",
       "  </tbody>\n",
       "</table>\n",
       "</div>"
      ],
      "text/plain": [
       "                                                  title   puNumber  \\\n",
       "4639  Иоанна - женщина на папском престоле /По роман...  221154310   \n",
       "5068                                     Анализируй то!  221054410   \n",
       "\n",
       "               show_start_date            type  \\\n",
       "4639 2010-12-17 12:00:00+00:00  Художественный   \n",
       "5068 2010-05-25 12:00:00+00:00  Художественный   \n",
       "\n",
       "                                            film_studio  \\\n",
       "4639   Константин Фильм, А Эр Ди Дегето Фильм, Дюне ...   \n",
       "5068  Уорнер Бразерс, Виллидж Роадшоу Пикчерз, Эн-Пи...   \n",
       "\n",
       "                                production_country        director  \\\n",
       "4639  Германия - Великобритания - Италия - Испания  Зенке Вортманн   \n",
       "5068                                           США  Гарольд Реймис   \n",
       "\n",
       "                                        producer  \\\n",
       "4639  Оливер Бербен, Дорис Д.Хайнце, Фарук Элтан   \n",
       "5068             Джейн Розенталь, Паул Уэйнстейн   \n",
       "\n",
       "                      age_restriction  refundable_support  \\\n",
       "4639  «16+» - для детей старше 16 лет                 NaN   \n",
       "5068  «12+» - для детей старше 12 лет                 NaN   \n",
       "\n",
       "      nonrefundable_support  budget financing_source  ratings  \\\n",
       "4639                    NaN     NaN              NaN      7.6   \n",
       "5068                    NaN     NaN              NaN      6.8   \n",
       "\n",
       "                       genres  box_office  \n",
       "4639  драма,мелодрама,история         NaN  \n",
       "5068         комедия,криминал         NaN  "
      ]
     },
     "execution_count": 15,
     "metadata": {},
     "output_type": "execute_result"
    }
   ],
   "source": [
    "df[df.duplicated(subset=['puNumber'], keep='first')].head()"
   ]
  },
  {
   "cell_type": "code",
   "execution_count": 16,
   "metadata": {
    "scrolled": true
   },
   "outputs": [
    {
     "data": {
      "text/html": [
       "<div>\n",
       "<style scoped>\n",
       "    .dataframe tbody tr th:only-of-type {\n",
       "        vertical-align: middle;\n",
       "    }\n",
       "\n",
       "    .dataframe tbody tr th {\n",
       "        vertical-align: top;\n",
       "    }\n",
       "\n",
       "    .dataframe thead th {\n",
       "        text-align: right;\n",
       "    }\n",
       "</style>\n",
       "<table border=\"1\" class=\"dataframe\">\n",
       "  <thead>\n",
       "    <tr style=\"text-align: right;\">\n",
       "      <th></th>\n",
       "      <th>title</th>\n",
       "      <th>puNumber</th>\n",
       "      <th>show_start_date</th>\n",
       "      <th>type</th>\n",
       "      <th>film_studio</th>\n",
       "      <th>production_country</th>\n",
       "      <th>director</th>\n",
       "      <th>producer</th>\n",
       "      <th>age_restriction</th>\n",
       "      <th>refundable_support</th>\n",
       "      <th>nonrefundable_support</th>\n",
       "      <th>budget</th>\n",
       "      <th>financing_source</th>\n",
       "      <th>ratings</th>\n",
       "      <th>genres</th>\n",
       "      <th>box_office</th>\n",
       "    </tr>\n",
       "  </thead>\n",
       "  <tbody>\n",
       "    <tr>\n",
       "      <th>4638</th>\n",
       "      <td>Как жениться и остаться холостым</td>\n",
       "      <td>221154310</td>\n",
       "      <td>2010-12-17 12:00:00+00:00</td>\n",
       "      <td>Художественный</td>\n",
       "      <td>Ше Вам, Скрипт Ассосье, Тэ Фэ 1 Фильм Продюксь...</td>\n",
       "      <td>Франция</td>\n",
       "      <td>Эрик Лартиго</td>\n",
       "      <td>Амандин Било, Алан Шаба</td>\n",
       "      <td>«16+» - для детей старше 16 лет</td>\n",
       "      <td>NaN</td>\n",
       "      <td>NaN</td>\n",
       "      <td>NaN</td>\n",
       "      <td>NaN</td>\n",
       "      <td>7.0</td>\n",
       "      <td>мелодрама,комедия</td>\n",
       "      <td>NaN</td>\n",
       "    </tr>\n",
       "    <tr>\n",
       "      <th>4639</th>\n",
       "      <td>Иоанна - женщина на папском престоле /По роман...</td>\n",
       "      <td>221154310</td>\n",
       "      <td>2010-12-17 12:00:00+00:00</td>\n",
       "      <td>Художественный</td>\n",
       "      <td>Константин Фильм, А Эр Ди Дегето Фильм, Дюне ...</td>\n",
       "      <td>Германия - Великобритания - Италия - Испания</td>\n",
       "      <td>Зенке Вортманн</td>\n",
       "      <td>Оливер Бербен, Дорис Д.Хайнце, Фарук Элтан</td>\n",
       "      <td>«16+» - для детей старше 16 лет</td>\n",
       "      <td>NaN</td>\n",
       "      <td>NaN</td>\n",
       "      <td>NaN</td>\n",
       "      <td>NaN</td>\n",
       "      <td>7.6</td>\n",
       "      <td>драма,мелодрама,история</td>\n",
       "      <td>NaN</td>\n",
       "    </tr>\n",
       "    <tr>\n",
       "      <th>5067</th>\n",
       "      <td>Анализируй это!</td>\n",
       "      <td>221054410</td>\n",
       "      <td>2010-05-25 12:00:00+00:00</td>\n",
       "      <td>Художественный</td>\n",
       "      <td>Уорнер Бразерс, Вилладж Роудшоу Филмз ЛТД</td>\n",
       "      <td>США-Австралия</td>\n",
       "      <td>ХЭрольд Рэмис</td>\n",
       "      <td>Джейн Розенталь, Пола Уейнстейн</td>\n",
       "      <td>«16+» - для детей старше 16 лет</td>\n",
       "      <td>NaN</td>\n",
       "      <td>NaN</td>\n",
       "      <td>NaN</td>\n",
       "      <td>NaN</td>\n",
       "      <td>7.4</td>\n",
       "      <td>комедия,криминал</td>\n",
       "      <td>NaN</td>\n",
       "    </tr>\n",
       "    <tr>\n",
       "      <th>5068</th>\n",
       "      <td>Анализируй то!</td>\n",
       "      <td>221054410</td>\n",
       "      <td>2010-05-25 12:00:00+00:00</td>\n",
       "      <td>Художественный</td>\n",
       "      <td>Уорнер Бразерс, Виллидж Роадшоу Пикчерз, Эн-Пи...</td>\n",
       "      <td>США</td>\n",
       "      <td>Гарольд Реймис</td>\n",
       "      <td>Джейн Розенталь, Паул Уэйнстейн</td>\n",
       "      <td>«12+» - для детей старше 12 лет</td>\n",
       "      <td>NaN</td>\n",
       "      <td>NaN</td>\n",
       "      <td>NaN</td>\n",
       "      <td>NaN</td>\n",
       "      <td>6.8</td>\n",
       "      <td>комедия,криминал</td>\n",
       "      <td>NaN</td>\n",
       "    </tr>\n",
       "  </tbody>\n",
       "</table>\n",
       "</div>"
      ],
      "text/plain": [
       "                                                  title   puNumber  \\\n",
       "4638                   Как жениться и остаться холостым  221154310   \n",
       "4639  Иоанна - женщина на папском престоле /По роман...  221154310   \n",
       "5067                                    Анализируй это!  221054410   \n",
       "5068                                     Анализируй то!  221054410   \n",
       "\n",
       "               show_start_date            type  \\\n",
       "4638 2010-12-17 12:00:00+00:00  Художественный   \n",
       "4639 2010-12-17 12:00:00+00:00  Художественный   \n",
       "5067 2010-05-25 12:00:00+00:00  Художественный   \n",
       "5068 2010-05-25 12:00:00+00:00  Художественный   \n",
       "\n",
       "                                            film_studio  \\\n",
       "4638  Ше Вам, Скрипт Ассосье, Тэ Фэ 1 Фильм Продюксь...   \n",
       "4639   Константин Фильм, А Эр Ди Дегето Фильм, Дюне ...   \n",
       "5067          Уорнер Бразерс, Вилладж Роудшоу Филмз ЛТД   \n",
       "5068  Уорнер Бразерс, Виллидж Роадшоу Пикчерз, Эн-Пи...   \n",
       "\n",
       "                                production_country        director  \\\n",
       "4638                                       Франция    Эрик Лартиго   \n",
       "4639  Германия - Великобритания - Италия - Испания  Зенке Вортманн   \n",
       "5067                                 США-Австралия   ХЭрольд Рэмис   \n",
       "5068                                           США  Гарольд Реймис   \n",
       "\n",
       "                                        producer  \\\n",
       "4638                     Амандин Било, Алан Шаба   \n",
       "4639  Оливер Бербен, Дорис Д.Хайнце, Фарук Элтан   \n",
       "5067             Джейн Розенталь, Пола Уейнстейн   \n",
       "5068             Джейн Розенталь, Паул Уэйнстейн   \n",
       "\n",
       "                      age_restriction  refundable_support  \\\n",
       "4638  «16+» - для детей старше 16 лет                 NaN   \n",
       "4639  «16+» - для детей старше 16 лет                 NaN   \n",
       "5067  «16+» - для детей старше 16 лет                 NaN   \n",
       "5068  «12+» - для детей старше 12 лет                 NaN   \n",
       "\n",
       "      nonrefundable_support  budget financing_source  ratings  \\\n",
       "4638                    NaN     NaN              NaN      7.0   \n",
       "4639                    NaN     NaN              NaN      7.6   \n",
       "5067                    NaN     NaN              NaN      7.4   \n",
       "5068                    NaN     NaN              NaN      6.8   \n",
       "\n",
       "                       genres  box_office  \n",
       "4638        мелодрама,комедия         NaN  \n",
       "4639  драма,мелодрама,история         NaN  \n",
       "5067         комедия,криминал         NaN  \n",
       "5068         комедия,криминал         NaN  "
      ]
     },
     "execution_count": 16,
     "metadata": {},
     "output_type": "execute_result"
    }
   ],
   "source": [
    "df.query('puNumber == 221154310 or puNumber == 221054410')"
   ]
  },
  {
   "cell_type": "markdown",
   "metadata": {},
   "source": [
    "Первый и второй фильмы разные, но имеют одинаковый номер прокатных удостоверений - 221154310. Какой-то номер ошибочный, удалять эти строки нельзя.\n",
    "\n",
    "Третий и четвертый фильмы тоже разные, но с одинаковым прокатным удостоверением 221054410. Опятьмы наблюдаем ошибку, удалять эти строки нельзя."
   ]
  },
  {
   "cell_type": "markdown",
   "metadata": {
    "id": "52fOPrEBgFyQ"
   },
   "source": [
    "#### Шаг 2.4. Изучите категориальные значения\n",
    "\n",
    "- Посмотрите, какая общая проблема встречается почти во всех категориальных столбцах;\n",
    "- Исправьте проблемные значения в поле `type`.\n",
    "\n",
    "<div id=\"accordion\">\n",
    "    <div class=\"card\">\n",
    "        <div class=\"card-header\" id=\"headingThree\">\n",
    "            <button class=\"btn btn-link collapsed\" data-toggle=\"collapse\" data-target=\"#collapseHint_1\" aria-expanded=\"false\" aria-controls=\"collapseHint_1\">Подсказка</button>\n",
    "        </div>\n",
    "        <div id=\"collapseHint_1\" class=\"collapse\" aria-labelledby=\"headingThree\" data-parent=\"#accordion\">\n",
    "            <div class=\"card-body\">\n",
    "В поле <code>type</code> есть несколько значений, у которых появился пробел в начале строки. Самый простой способ их «починить» -- использовать метод <a href=\"https://pandas.pydata.org/docs/reference/api/pandas.Series.str.strip.html#pandas.Series.str.strip\">.str.strip</a>. Этот метод удаляет все пробелы, которые встречаются в начале и в конце строки. Применяют его таким образом:<br>\n",
    "<code>df['type'].str.strip()</code>\n",
    "            </div>\n",
    "        </div>\n",
    "    </div>\n",
    "</div>"
   ]
  },
  {
   "cell_type": "code",
   "execution_count": 17,
   "metadata": {
    "id": "PnXKIVdFgFyR",
    "scrolled": true
   },
   "outputs": [
    {
     "data": {
      "text/plain": [
       "title                    6772\n",
       "puNumber                 7484\n",
       "show_start_date          1965\n",
       "type                        8\n",
       "film_studio              5490\n",
       "production_country        950\n",
       "director                 4811\n",
       "producer                 5349\n",
       "age_restriction             5\n",
       "refundable_support         34\n",
       "nonrefundable_support      75\n",
       "budget                    290\n",
       "financing_source            3\n",
       "ratings                    84\n",
       "genres                    742\n",
       "box_office               2938\n",
       "dtype: int64"
      ]
     },
     "execution_count": 17,
     "metadata": {},
     "output_type": "execute_result"
    }
   ],
   "source": [
    "df.nunique()"
   ]
  },
  {
   "cell_type": "code",
   "execution_count": 18,
   "metadata": {
    "scrolled": true
   },
   "outputs": [
    {
     "data": {
      "text/plain": [
       "Художественный                4520\n",
       " Художественный               1389\n",
       "Анимационный                   828\n",
       "Прочие                         406\n",
       "Документальный                 288\n",
       "Научно-популярный               53\n",
       "Музыкально-развлекательный       1\n",
       " Анимационный                    1\n",
       "Name: type, dtype: int64"
      ]
     },
     "execution_count": 18,
     "metadata": {},
     "output_type": "execute_result"
    }
   ],
   "source": [
    "df['type'].value_counts()"
   ]
  },
  {
   "cell_type": "code",
   "execution_count": 19,
   "metadata": {},
   "outputs": [
    {
     "data": {
      "text/plain": [
       "Киностудия \"Мосфильм\"                                                                                                                                                                     341\n",
       "ООО \"Мульт в кино\"                                                                                                                                                                         57\n",
       "Анимаккорд Лтд                                                                                                                                                                             23\n",
       "ООО \"Мульт в кино\"                                                                                                                                                                         18\n",
       "ФГУП \"ТПО \"Киностудия \"Союзмультфильм\"                                                                                                                                                     16\n",
       "                                                                                                                                                                                         ... \n",
       "Супер Олрайт, Хеликотрон, Венгерский Фильмофонд, Лайт Чоп, Кэвиар                                                                                                                           1\n",
       "Релевант Филм, Традуинд Пикчерз                                                                                                                                                             1\n",
       "Каре Продюксьон, Франс 3 Синема, Национальный центр кинематографии, Нувей Аквитэн, Банк Посталь Имаж 9, Синевентюр 2, Кофимаж 28, Плюс Имаж 7, Канал +, Франс Телевизьон, Оранж Синема      1\n",
       "ООО \"Продюсерский центр А.С.Кончаловского\", Drife Filmproduktion GmbH & Co.KG                                                                                                               1\n",
       "Уолт Дисней Пикчерз, Силвер Скрин Партнерс IV, Уолт Дисней Фиче Анимейшн                                                                                                                    1\n",
       "Name: film_studio, Length: 5490, dtype: int64"
      ]
     },
     "execution_count": 19,
     "metadata": {},
     "output_type": "execute_result"
    }
   ],
   "source": [
    "df['film_studio'].value_counts()"
   ]
  },
  {
   "cell_type": "code",
   "execution_count": 20,
   "metadata": {},
   "outputs": [
    {
     "data": {
      "text/plain": [
       "США                                                           2172\n",
       "Россия                                                        1821\n",
       "СССР                                                           347\n",
       "Франция                                                        301\n",
       "Великобритания                                                 257\n",
       "                                                              ... \n",
       "Таиланд-Великобритания-Франция-Германия-Испания-Нидерланды       1\n",
       "США - Канада - КНР                                               1\n",
       "Великобритания - Испания - Германия                              1\n",
       "Нидерланды - Россия - Германия                                   1\n",
       "Канада-Великобритания                                            1\n",
       "Name: production_country, Length: 950, dtype: int64"
      ]
     },
     "execution_count": 20,
     "metadata": {},
     "output_type": "execute_result"
    }
   ],
   "source": [
    "df['production_country'].value_counts()"
   ]
  },
  {
   "cell_type": "code",
   "execution_count": 21,
   "metadata": {},
   "outputs": [
    {
     "data": {
      "text/plain": [
       "драма                         476\n",
       "комедия                       352\n",
       "мелодрама,комедия             222\n",
       "драма,мелодрама,комедия       189\n",
       "драма,мелодрама               183\n",
       "                             ... \n",
       "реальное ТВ                     1\n",
       "боевик,военный,драма            1\n",
       "спорт,мелодрама,криминал        1\n",
       "биография,криминал,драма        1\n",
       "фантастика,боевик,криминал      1\n",
       "Name: genres, Length: 742, dtype: int64"
      ]
     },
     "execution_count": 21,
     "metadata": {},
     "output_type": "execute_result"
    }
   ],
   "source": [
    "df['genres'].value_counts()"
   ]
  },
  {
   "cell_type": "code",
   "execution_count": 22,
   "metadata": {},
   "outputs": [
    {
     "data": {
      "text/plain": [
       "«16+» - для детей старше 16 лет           2851\n",
       "«18+» - запрещено для детей               1605\n",
       "«12+» - для детей старше 12 лет           1593\n",
       "«0+» - для любой зрительской аудитории     811\n",
       "«6+» - для детей старше 6 лет              626\n",
       "Name: age_restriction, dtype: int64"
      ]
     },
     "execution_count": 22,
     "metadata": {},
     "output_type": "execute_result"
    }
   ],
   "source": [
    "df['age_restriction'].value_counts()"
   ]
  },
  {
   "cell_type": "code",
   "execution_count": 23,
   "metadata": {},
   "outputs": [
    {
     "data": {
      "text/plain": [
       "Министерство культуры               164\n",
       "Фонд кино                           146\n",
       "Министерство культуры, Фонд кино     22\n",
       "Name: financing_source, dtype: int64"
      ]
     },
     "execution_count": 23,
     "metadata": {},
     "output_type": "execute_result"
    }
   ],
   "source": [
    "df['financing_source'].value_counts()"
   ]
  },
  {
   "cell_type": "code",
   "execution_count": 24,
   "metadata": {},
   "outputs": [],
   "source": [
    "df['type'] = df['type'].str.lower().str.strip()\n",
    "df['film_studio'] = df['film_studio'].str.lower().str.strip()\n",
    "df['production_country'] = df['production_country'].str.lower().str.strip()\n",
    "df['genres'] = df['genres'].str.lower().str.strip()\n",
    "df['age_restriction'] = df['age_restriction'].str.lower().str.strip()\n",
    "df['financing_source'] = df['financing_source'].str.lower().str.strip()"
   ]
  },
  {
   "cell_type": "code",
   "execution_count": 25,
   "metadata": {},
   "outputs": [
    {
     "data": {
      "text/plain": [
       "(array(['\"'], dtype=object),\n",
       " array(['\"', ')', '+', '.', ',', '»'], dtype=object))"
      ]
     },
     "execution_count": 25,
     "metadata": {},
     "output_type": "execute_result"
    }
   ],
   "source": [
    "demo = df['film_studio'].str.extract('(^\\W)|(\\W$)')\n",
    "demo[0].dropna().unique(),  demo[1].dropna().unique()"
   ]
  },
  {
   "cell_type": "code",
   "execution_count": 26,
   "metadata": {
    "scrolled": true
   },
   "outputs": [
    {
     "data": {
      "text/plain": [
       "title                    6772\n",
       "puNumber                 7484\n",
       "show_start_date          1965\n",
       "type                        6\n",
       "film_studio              5422\n",
       "production_country        933\n",
       "director                 4811\n",
       "producer                 5349\n",
       "age_restriction             5\n",
       "refundable_support         34\n",
       "nonrefundable_support      75\n",
       "budget                    290\n",
       "financing_source            3\n",
       "ratings                    84\n",
       "genres                    742\n",
       "box_office               2938\n",
       "dtype: int64"
      ]
     },
     "execution_count": 26,
     "metadata": {},
     "output_type": "execute_result"
    }
   ],
   "source": [
    "df.nunique()"
   ]
  },
  {
   "cell_type": "markdown",
   "metadata": {},
   "source": [
    "Выявлена общая проблема в столбцах с категориальными значениями. Она связана с лишними знаками препинания и пробелами, разный регистр и сокращённые имена режисёров.  \n",
    "\n",
    "Чтобы привести данные в правильный для анализа формат мы удалили лишние знаки препинания, пробелы и привели к нижнему регистру нуждающиеся в этом столбцы.  "
   ]
  },
  {
   "cell_type": "markdown",
   "metadata": {
    "id": "XFSN5lrEgFyR"
   },
   "source": [
    "#### Шаг 2.5. Проверьте количественные значения\n",
    "\n",
    "- Проверьте, обнаружились ли в таких столбцах подозрительные данные. Как с такими данными лучше поступить?\n",
    "\n",
    "<div id=\"accordion\">\n",
    "    <div class=\"card\">\n",
    "        <div class=\"card-header\" id=\"headingThree\">\n",
    "            <button class=\"btn btn-link collapsed\" data-toggle=\"collapse\" data-target=\"#collapseHint_budget\" aria-expanded=\"false\" aria-controls=\"collapseHint_budget\">Подсказка</button>\n",
    "        </div>\n",
    "        <div id=\"collapseHint_budget\" class=\"collapse\" aria-labelledby=\"headingThree\" data-parent=\"#accordion\">\n",
    "            <div class=\"card-body\">\n",
    "Обратите внимание на описание столбца <code>budget</code>. Как этот столбец соотносится с двумя другими: <code>refundable_support</code> и <code>nonrefundable_support</code>?\n",
    "            </div>\n",
    "        </div>\n",
    "    </div>\n",
    "</div>"
   ]
  },
  {
   "cell_type": "code",
   "execution_count": 27,
   "metadata": {
    "id": "YbzClBxagFyS"
   },
   "outputs": [
    {
     "data": {
      "text/plain": [
       "221054410    2\n",
       "221154310    2\n",
       "0            1\n",
       "111008518    1\n",
       "114002716    1\n",
       "            ..\n",
       "121021814    1\n",
       "224028210    1\n",
       "121013618    1\n",
       "121017712    1\n",
       "126002916    1\n",
       "Name: puNumber, Length: 7484, dtype: int64"
      ]
     },
     "execution_count": 27,
     "metadata": {},
     "output_type": "execute_result"
    }
   ],
   "source": [
    "df['puNumber'].value_counts()"
   ]
  },
  {
   "cell_type": "markdown",
   "metadata": {},
   "source": [
    "В столбце 'puNumber' подозрительные данныене обнаружены. Одному прокатному номеру соответствует одна строка датафрейма. Лишь у одного фильма нет прокатного номера."
   ]
  },
  {
   "cell_type": "code",
   "execution_count": 28,
   "metadata": {},
   "outputs": [
    {
     "data": {
      "text/plain": [
       "0.0            221\n",
       "20000000.0      12\n",
       "10000000.0      10\n",
       "25000000.0      10\n",
       "15000000.0       9\n",
       "5000000.0        9\n",
       "50000000.0       8\n",
       "40000000.0       8\n",
       "30000000.0       7\n",
       "60000000.0       6\n",
       "100000000.0      5\n",
       "110000000.0      2\n",
       "55000000.0       2\n",
       "19000000.0       2\n",
       "75000000.0       2\n",
       "7153119.0        1\n",
       "35000000.0       1\n",
       "9000000.0        1\n",
       "150000000.0      1\n",
       "36000000.0       1\n",
       "29000000.0       1\n",
       "17000000.0       1\n",
       "180000000.0      1\n",
       "115000000.0      1\n",
       "41000000.0       1\n",
       "26000000.0       1\n",
       "7000000.0        1\n",
       "7346881.0        1\n",
       "3500000.0        1\n",
       "8000000.0        1\n",
       "38000000.0       1\n",
       "44000000.0       1\n",
       "28000000.0       1\n",
       "80000000.0       1\n",
       "Name: refundable_support, dtype: int64"
      ]
     },
     "execution_count": 28,
     "metadata": {},
     "output_type": "execute_result"
    }
   ],
   "source": [
    "df['refundable_support'].value_counts()"
   ]
  },
  {
   "cell_type": "markdown",
   "metadata": {},
   "source": [
    "БОльшая доля значений в столбце 'refundable_support' приходится на ноль, что означает, что фильмы получали госфинансирование на невозвратной основе."
   ]
  },
  {
   "cell_type": "code",
   "execution_count": 29,
   "metadata": {},
   "outputs": [
    {
     "data": {
      "text/plain": [
       "25000000.0     53\n",
       "30000000.0     48\n",
       "35000000.0     29\n",
       "40000000.0     26\n",
       "20000000.0     19\n",
       "               ..\n",
       "31000000.0      1\n",
       "29000000.0      1\n",
       "138969465.0     1\n",
       "3000000.0       1\n",
       "25900000.0      1\n",
       "Name: nonrefundable_support, Length: 75, dtype: int64"
      ]
     },
     "execution_count": 29,
     "metadata": {},
     "output_type": "execute_result"
    }
   ],
   "source": [
    "df['nonrefundable_support'].value_counts()"
   ]
  },
  {
   "cell_type": "markdown",
   "metadata": {},
   "source": [
    "В столбце 'nonrefundable_support' наблюдаем похожую ситуацию."
   ]
  },
  {
   "cell_type": "code",
   "execution_count": 30,
   "metadata": {},
   "outputs": [
    {
     "data": {
      "text/plain": [
       "7154"
      ]
     },
     "execution_count": 30,
     "metadata": {},
     "output_type": "execute_result"
    }
   ],
   "source": [
    "df['budget'].isna().sum()"
   ]
  },
  {
   "cell_type": "markdown",
   "metadata": {},
   "source": [
    "Согласно заданию, в столбце 'budget' хранятся данные о бюджетах только тех фильмов, что получали господдержку. Соответственно, здесь представлены те же самые строки, что и в refundable_support и nonrefundable_support."
   ]
  },
  {
   "cell_type": "code",
   "execution_count": 31,
   "metadata": {},
   "outputs": [
    {
     "data": {
      "text/html": [
       "<div>\n",
       "<style scoped>\n",
       "    .dataframe tbody tr th:only-of-type {\n",
       "        vertical-align: middle;\n",
       "    }\n",
       "\n",
       "    .dataframe tbody tr th {\n",
       "        vertical-align: top;\n",
       "    }\n",
       "\n",
       "    .dataframe thead th {\n",
       "        text-align: right;\n",
       "    }\n",
       "</style>\n",
       "<table border=\"1\" class=\"dataframe\">\n",
       "  <thead>\n",
       "    <tr style=\"text-align: right;\">\n",
       "      <th></th>\n",
       "      <th>title</th>\n",
       "      <th>puNumber</th>\n",
       "      <th>show_start_date</th>\n",
       "      <th>type</th>\n",
       "      <th>film_studio</th>\n",
       "      <th>production_country</th>\n",
       "      <th>director</th>\n",
       "      <th>producer</th>\n",
       "      <th>age_restriction</th>\n",
       "      <th>refundable_support</th>\n",
       "      <th>nonrefundable_support</th>\n",
       "      <th>budget</th>\n",
       "      <th>financing_source</th>\n",
       "      <th>ratings</th>\n",
       "      <th>genres</th>\n",
       "      <th>box_office</th>\n",
       "    </tr>\n",
       "  </thead>\n",
       "  <tbody>\n",
       "    <tr>\n",
       "      <th>2053</th>\n",
       "      <td>14+</td>\n",
       "      <td>111023614</td>\n",
       "      <td>2014-12-19 12:00:00+00:00</td>\n",
       "      <td>художественный</td>\n",
       "      <td>ооо киностудия  \"сентябрь\"</td>\n",
       "      <td>россия</td>\n",
       "      <td>А.Зайцев</td>\n",
       "      <td>О.Гранина, А.Зайцев</td>\n",
       "      <td>«16+» - для детей старше 16 лет</td>\n",
       "      <td>0.0</td>\n",
       "      <td>23000000.0</td>\n",
       "      <td>0.0</td>\n",
       "      <td>министерство культуры, фонд кино</td>\n",
       "      <td>6.6</td>\n",
       "      <td>мелодрама</td>\n",
       "      <td>1.023402e+07</td>\n",
       "    </tr>\n",
       "    <tr>\n",
       "      <th>2058</th>\n",
       "      <td>Дуxless 2</td>\n",
       "      <td>111000415</td>\n",
       "      <td>2015-01-26 12:00:00+00:00</td>\n",
       "      <td>художественный</td>\n",
       "      <td>ооо \"киностудия \"слово\", ооо \"арт пикчерс студия\"</td>\n",
       "      <td>россия</td>\n",
       "      <td>Р.Прыгунов</td>\n",
       "      <td>П.Ануров, Ф.Бондарчук, Д.Рудовский</td>\n",
       "      <td>«16+» - для детей старше 16 лет</td>\n",
       "      <td>0.0</td>\n",
       "      <td>75000000.0</td>\n",
       "      <td>0.0</td>\n",
       "      <td>фонд кино</td>\n",
       "      <td>6.6</td>\n",
       "      <td>драма</td>\n",
       "      <td>4.461635e+08</td>\n",
       "    </tr>\n",
       "    <tr>\n",
       "      <th>2472</th>\n",
       "      <td>Воин (2015)</td>\n",
       "      <td>111017315</td>\n",
       "      <td>2015-09-28 12:00:00+00:00</td>\n",
       "      <td>художественный</td>\n",
       "      <td>ооо \"форпост продакшн\", ооо \"арт пикчерс студия\"</td>\n",
       "      <td>россия</td>\n",
       "      <td>А.Андрианов</td>\n",
       "      <td>ООО \"Арт Пикчерс Студия\"</td>\n",
       "      <td>«12+» - для детей старше 12 лет</td>\n",
       "      <td>10000000.0</td>\n",
       "      <td>70000000.0</td>\n",
       "      <td>0.0</td>\n",
       "      <td>фонд кино</td>\n",
       "      <td>7.8</td>\n",
       "      <td>боевик,драма,криминал</td>\n",
       "      <td>1.965724e+08</td>\n",
       "    </tr>\n",
       "    <tr>\n",
       "      <th>2532</th>\n",
       "      <td>Бармен.</td>\n",
       "      <td>111009615</td>\n",
       "      <td>2015-05-26 12:00:00+00:00</td>\n",
       "      <td>художественный</td>\n",
       "      <td>ао \"вайт медиа\", ооо \"арт пикчерс студия\"</td>\n",
       "      <td>россия</td>\n",
       "      <td>Д.Штурманова</td>\n",
       "      <td>Т.Вайнштейн</td>\n",
       "      <td>«16+» - для детей старше 16 лет</td>\n",
       "      <td>20000000.0</td>\n",
       "      <td>0.0</td>\n",
       "      <td>0.0</td>\n",
       "      <td>фонд кино</td>\n",
       "      <td>6.2</td>\n",
       "      <td>комедия,фэнтези</td>\n",
       "      <td>6.741897e+07</td>\n",
       "    </tr>\n",
       "    <tr>\n",
       "      <th>2615</th>\n",
       "      <td>Савва. Сердце воина</td>\n",
       "      <td>114001715</td>\n",
       "      <td>2015-07-21 12:00:00+00:00</td>\n",
       "      <td>анимационный</td>\n",
       "      <td>ооо \"глюкоза продакшн\", ооо \"арт пикчерс студия\"</td>\n",
       "      <td>россия</td>\n",
       "      <td>М.Фадеев</td>\n",
       "      <td>А.Чистяков</td>\n",
       "      <td>«6+» - для детей старше 6 лет</td>\n",
       "      <td>60000000.0</td>\n",
       "      <td>100000000.0</td>\n",
       "      <td>0.0</td>\n",
       "      <td>фонд кино</td>\n",
       "      <td>4.6</td>\n",
       "      <td>мультфильм,приключения,фэнтези</td>\n",
       "      <td>1.844876e+08</td>\n",
       "    </tr>\n",
       "    <tr>\n",
       "      <th>2684</th>\n",
       "      <td>Тряпичный союз</td>\n",
       "      <td>111010215</td>\n",
       "      <td>2015-06-08 12:00:00+00:00</td>\n",
       "      <td>художественный</td>\n",
       "      <td>ооо \"кинокомпания \"коктебель\"</td>\n",
       "      <td>россия</td>\n",
       "      <td>М.Местецкий</td>\n",
       "      <td>Р.Борисевич, А.Кушаев</td>\n",
       "      <td>«18+» - запрещено для детей</td>\n",
       "      <td>0.0</td>\n",
       "      <td>59000000.0</td>\n",
       "      <td>0.0</td>\n",
       "      <td>фонд кино</td>\n",
       "      <td>6.3</td>\n",
       "      <td>комедия,драма</td>\n",
       "      <td>1.957739e+06</td>\n",
       "    </tr>\n",
       "    <tr>\n",
       "      <th>2788</th>\n",
       "      <td>Срочно выйду замуж</td>\n",
       "      <td>111017115</td>\n",
       "      <td>2015-09-30 12:00:00+00:00</td>\n",
       "      <td>художественный</td>\n",
       "      <td>ао \"вайт медиа\", ооо \"арт пикчерс студия\"</td>\n",
       "      <td>россия</td>\n",
       "      <td>С Чекалов</td>\n",
       "      <td>Ф.Бондарчук, Т.Вайнштейн, Д.Рудовский</td>\n",
       "      <td>«16+» - для детей старше 16 лет</td>\n",
       "      <td>0.0</td>\n",
       "      <td>35000000.0</td>\n",
       "      <td>0.0</td>\n",
       "      <td>фонд кино</td>\n",
       "      <td>5.1</td>\n",
       "      <td>комедия,мелодрама</td>\n",
       "      <td>7.293778e+07</td>\n",
       "    </tr>\n",
       "    <tr>\n",
       "      <th>2874</th>\n",
       "      <td>Помню - не помню!</td>\n",
       "      <td>111004916</td>\n",
       "      <td>2016-03-01 12:00:00+00:00</td>\n",
       "      <td>художественный</td>\n",
       "      <td>ооо \"кинофирма\"</td>\n",
       "      <td>россия</td>\n",
       "      <td>В.Ровенский</td>\n",
       "      <td>ООО \"КиноФирма\"</td>\n",
       "      <td>«12+» - для детей старше 12 лет</td>\n",
       "      <td>0.0</td>\n",
       "      <td>6000000.0</td>\n",
       "      <td>0.0</td>\n",
       "      <td>министерство культуры</td>\n",
       "      <td>4.3</td>\n",
       "      <td>комедия</td>\n",
       "      <td>1.536293e+07</td>\n",
       "    </tr>\n",
       "    <tr>\n",
       "      <th>3047</th>\n",
       "      <td>Любовь с ограничениями</td>\n",
       "      <td>111008216</td>\n",
       "      <td>2016-04-29 12:00:00+00:00</td>\n",
       "      <td>художественный</td>\n",
       "      <td>ао \"вайт медиа\", ооо \"арт пикчерс студия\"</td>\n",
       "      <td>россия</td>\n",
       "      <td>Д.Тюрин</td>\n",
       "      <td>Ф.Бондарчук, Т.Вайнштейн, Д.Рудовский</td>\n",
       "      <td>«16+» - для детей старше 16 лет</td>\n",
       "      <td>19000000.0</td>\n",
       "      <td>51000000.0</td>\n",
       "      <td>0.0</td>\n",
       "      <td>фонд кино</td>\n",
       "      <td>6.3</td>\n",
       "      <td>комедия,мелодрама</td>\n",
       "      <td>7.029905e+07</td>\n",
       "    </tr>\n",
       "    <tr>\n",
       "      <th>3565</th>\n",
       "      <td>Притяжение (2016)</td>\n",
       "      <td>111018116</td>\n",
       "      <td>2016-12-16 12:00:00+00:00</td>\n",
       "      <td>художественный</td>\n",
       "      <td>ооо \"водород 2011\",  ооо \"арт пикчерс студия\"</td>\n",
       "      <td>россия</td>\n",
       "      <td>Ф.Бондарчук</td>\n",
       "      <td>ООО \"Арт Пикчерс Студия\"</td>\n",
       "      <td>«12+» - для детей старше 12 лет</td>\n",
       "      <td>0.0</td>\n",
       "      <td>250000000.0</td>\n",
       "      <td>0.0</td>\n",
       "      <td>фонд кино</td>\n",
       "      <td>5.6</td>\n",
       "      <td>фантастика</td>\n",
       "      <td>1.038321e+09</td>\n",
       "    </tr>\n",
       "    <tr>\n",
       "      <th>3675</th>\n",
       "      <td>Чудо-юдо</td>\n",
       "      <td>114001817</td>\n",
       "      <td>2017-06-27 12:00:00+00:00</td>\n",
       "      <td>анимационный</td>\n",
       "      <td>ооо \"кинофирма\"</td>\n",
       "      <td>россия</td>\n",
       "      <td>А.Лукичев</td>\n",
       "      <td>ООО \"КиноФирма\"</td>\n",
       "      <td>«6+» - для детей старше 6 лет</td>\n",
       "      <td>20000000.0</td>\n",
       "      <td>20000000.0</td>\n",
       "      <td>0.0</td>\n",
       "      <td>фонд кино</td>\n",
       "      <td>5.2</td>\n",
       "      <td>мультфильм,фэнтези,семейный</td>\n",
       "      <td>5.510801e+07</td>\n",
       "    </tr>\n",
       "    <tr>\n",
       "      <th>3739</th>\n",
       "      <td>Мифы</td>\n",
       "      <td>111004317</td>\n",
       "      <td>2017-06-07 12:00:00+00:00</td>\n",
       "      <td>художественный</td>\n",
       "      <td>ооо \"хайпфилм\", ооо \"арт пикчерс студия\"</td>\n",
       "      <td>россия</td>\n",
       "      <td>А.Молочников</td>\n",
       "      <td>Ф.Бондарчук, Д.Рудовский, И.Стюарт, М.Османн, ...</td>\n",
       "      <td>«16+» - для детей старше 16 лет</td>\n",
       "      <td>25000000.0</td>\n",
       "      <td>20000000.0</td>\n",
       "      <td>0.0</td>\n",
       "      <td>фонд кино</td>\n",
       "      <td>4.8</td>\n",
       "      <td>комедия</td>\n",
       "      <td>5.045195e+07</td>\n",
       "    </tr>\n",
       "    <tr>\n",
       "      <th>5673</th>\n",
       "      <td>Селфи</td>\n",
       "      <td>111012117</td>\n",
       "      <td>2018-02-01 12:00:00+00:00</td>\n",
       "      <td>художественный</td>\n",
       "      <td>ооо \"киностудия \"слово\", ооо \"арт пикчерс студия\"</td>\n",
       "      <td>россия</td>\n",
       "      <td>Н.Хомерики</td>\n",
       "      <td>П.Ануров, Ф.Бондарчук, Д.Рудовский</td>\n",
       "      <td>«16+» - для детей старше 16 лет</td>\n",
       "      <td>20000000.0</td>\n",
       "      <td>40000000.0</td>\n",
       "      <td>0.0</td>\n",
       "      <td>фонд кино</td>\n",
       "      <td>5.8</td>\n",
       "      <td>триллер,драма</td>\n",
       "      <td>2.251964e+08</td>\n",
       "    </tr>\n",
       "    <tr>\n",
       "      <th>5806</th>\n",
       "      <td>Два хвоста</td>\n",
       "      <td>114001018</td>\n",
       "      <td>2018-05-31 12:00:00+00:00</td>\n",
       "      <td>анимационный</td>\n",
       "      <td>ооо \"лицензионные бренды\"</td>\n",
       "      <td>россия</td>\n",
       "      <td>В.Ровенский, Н.Лопато, В.Азеев</td>\n",
       "      <td>ООО \"ЛИЦЕНЗИОННЫЕ БРЕНДЫ\"</td>\n",
       "      <td>«6+» - для детей старше 6 лет</td>\n",
       "      <td>10000000.0</td>\n",
       "      <td>60000000.0</td>\n",
       "      <td>0.0</td>\n",
       "      <td>фонд кино</td>\n",
       "      <td>5.0</td>\n",
       "      <td>мультфильм,детский</td>\n",
       "      <td>1.065143e+08</td>\n",
       "    </tr>\n",
       "    <tr>\n",
       "      <th>6008</th>\n",
       "      <td>Принцесса и дракон</td>\n",
       "      <td>114003018</td>\n",
       "      <td>2018-08-23 12:00:00+00:00</td>\n",
       "      <td>анимационный</td>\n",
       "      <td>ооо \"лицензионные бренды\"</td>\n",
       "      <td>россия</td>\n",
       "      <td>М.Нефедова</td>\n",
       "      <td>ООО \"ЛИЦЕНЗИОННЫЕ БРЕНДЫ\"</td>\n",
       "      <td>«6+» - для детей старше 6 лет</td>\n",
       "      <td>40000000.0</td>\n",
       "      <td>40000000.0</td>\n",
       "      <td>0.0</td>\n",
       "      <td>фонд кино</td>\n",
       "      <td>5.2</td>\n",
       "      <td>мультфильм,фэнтези,детский</td>\n",
       "      <td>8.336633e+07</td>\n",
       "    </tr>\n",
       "    <tr>\n",
       "      <th>6323</th>\n",
       "      <td>Баба Яга</td>\n",
       "      <td>114006518</td>\n",
       "      <td>2018-11-08 12:00:00+00:00</td>\n",
       "      <td>анимационный</td>\n",
       "      <td>ооо \"арт пикчерс студия\"</td>\n",
       "      <td>россия</td>\n",
       "      <td>В.Саков</td>\n",
       "      <td>ООО \"Арт Пикчерс Студия\", ООО \"КРИЭЙТИВ АНИМЭЙ...</td>\n",
       "      <td>«6+» - для детей старше 6 лет</td>\n",
       "      <td>0.0</td>\n",
       "      <td>138969465.0</td>\n",
       "      <td>0.0</td>\n",
       "      <td>фонд кино</td>\n",
       "      <td>NaN</td>\n",
       "      <td>NaN</td>\n",
       "      <td>1.334699e+06</td>\n",
       "    </tr>\n",
       "    <tr>\n",
       "      <th>6823</th>\n",
       "      <td>Большое путешествие</td>\n",
       "      <td>114002419</td>\n",
       "      <td>2019-04-20 12:00:00+00:00</td>\n",
       "      <td>анимационный</td>\n",
       "      <td>ооо \"лицензионные бренды\"</td>\n",
       "      <td>россия</td>\n",
       "      <td>Н.Лопато, В.Ровенский</td>\n",
       "      <td>ООО \"ЛИЦЕНЗИОННЫЕ БРЕНДЫ\"</td>\n",
       "      <td>«6+» - для детей старше 6 лет</td>\n",
       "      <td>60000000.0</td>\n",
       "      <td>120000000.0</td>\n",
       "      <td>0.0</td>\n",
       "      <td>фонд кино</td>\n",
       "      <td>6.2</td>\n",
       "      <td>мультфильм,комедия,приключения</td>\n",
       "      <td>1.476068e+08</td>\n",
       "    </tr>\n",
       "  </tbody>\n",
       "</table>\n",
       "</div>"
      ],
      "text/plain": [
       "                       title   puNumber           show_start_date  \\\n",
       "2053                     14+  111023614 2014-12-19 12:00:00+00:00   \n",
       "2058               Дуxless 2  111000415 2015-01-26 12:00:00+00:00   \n",
       "2472             Воин (2015)  111017315 2015-09-28 12:00:00+00:00   \n",
       "2532                 Бармен.  111009615 2015-05-26 12:00:00+00:00   \n",
       "2615     Савва. Сердце воина  114001715 2015-07-21 12:00:00+00:00   \n",
       "2684          Тряпичный союз  111010215 2015-06-08 12:00:00+00:00   \n",
       "2788      Срочно выйду замуж  111017115 2015-09-30 12:00:00+00:00   \n",
       "2874       Помню - не помню!  111004916 2016-03-01 12:00:00+00:00   \n",
       "3047  Любовь с ограничениями  111008216 2016-04-29 12:00:00+00:00   \n",
       "3565       Притяжение (2016)  111018116 2016-12-16 12:00:00+00:00   \n",
       "3675                Чудо-юдо  114001817 2017-06-27 12:00:00+00:00   \n",
       "3739                    Мифы  111004317 2017-06-07 12:00:00+00:00   \n",
       "5673                   Селфи  111012117 2018-02-01 12:00:00+00:00   \n",
       "5806              Два хвоста  114001018 2018-05-31 12:00:00+00:00   \n",
       "6008      Принцесса и дракон  114003018 2018-08-23 12:00:00+00:00   \n",
       "6323                Баба Яга  114006518 2018-11-08 12:00:00+00:00   \n",
       "6823     Большое путешествие  114002419 2019-04-20 12:00:00+00:00   \n",
       "\n",
       "                type                                        film_studio  \\\n",
       "2053  художественный                         ооо киностудия  \"сентябрь\"   \n",
       "2058  художественный  ооо \"киностудия \"слово\", ооо \"арт пикчерс студия\"   \n",
       "2472  художественный   ооо \"форпост продакшн\", ооо \"арт пикчерс студия\"   \n",
       "2532  художественный          ао \"вайт медиа\", ооо \"арт пикчерс студия\"   \n",
       "2615    анимационный   ооо \"глюкоза продакшн\", ооо \"арт пикчерс студия\"   \n",
       "2684  художественный                      ооо \"кинокомпания \"коктебель\"   \n",
       "2788  художественный          ао \"вайт медиа\", ооо \"арт пикчерс студия\"   \n",
       "2874  художественный                                    ооо \"кинофирма\"   \n",
       "3047  художественный          ао \"вайт медиа\", ооо \"арт пикчерс студия\"   \n",
       "3565  художественный      ооо \"водород 2011\",  ооо \"арт пикчерс студия\"   \n",
       "3675    анимационный                                    ооо \"кинофирма\"   \n",
       "3739  художественный           ооо \"хайпфилм\", ооо \"арт пикчерс студия\"   \n",
       "5673  художественный  ооо \"киностудия \"слово\", ооо \"арт пикчерс студия\"   \n",
       "5806    анимационный                          ооо \"лицензионные бренды\"   \n",
       "6008    анимационный                          ооо \"лицензионные бренды\"   \n",
       "6323    анимационный                           ооо \"арт пикчерс студия\"   \n",
       "6823    анимационный                          ооо \"лицензионные бренды\"   \n",
       "\n",
       "     production_country                        director  \\\n",
       "2053             россия                        А.Зайцев   \n",
       "2058             россия                      Р.Прыгунов   \n",
       "2472             россия                     А.Андрианов   \n",
       "2532             россия                    Д.Штурманова   \n",
       "2615             россия                        М.Фадеев   \n",
       "2684             россия                     М.Местецкий   \n",
       "2788             россия                       С Чекалов   \n",
       "2874             россия                     В.Ровенский   \n",
       "3047             россия                         Д.Тюрин   \n",
       "3565             россия                     Ф.Бондарчук   \n",
       "3675             россия                       А.Лукичев   \n",
       "3739             россия                    А.Молочников   \n",
       "5673             россия                      Н.Хомерики   \n",
       "5806             россия  В.Ровенский, Н.Лопато, В.Азеев   \n",
       "6008             россия                      М.Нефедова   \n",
       "6323             россия                         В.Саков   \n",
       "6823             россия           Н.Лопато, В.Ровенский   \n",
       "\n",
       "                                               producer  \\\n",
       "2053                                О.Гранина, А.Зайцев   \n",
       "2058                 П.Ануров, Ф.Бондарчук, Д.Рудовский   \n",
       "2472                           ООО \"Арт Пикчерс Студия\"   \n",
       "2532                                        Т.Вайнштейн   \n",
       "2615                                         А.Чистяков   \n",
       "2684                              Р.Борисевич, А.Кушаев   \n",
       "2788              Ф.Бондарчук, Т.Вайнштейн, Д.Рудовский   \n",
       "2874                                    ООО \"КиноФирма\"   \n",
       "3047              Ф.Бондарчук, Т.Вайнштейн, Д.Рудовский   \n",
       "3565                           ООО \"Арт Пикчерс Студия\"   \n",
       "3675                                    ООО \"КиноФирма\"   \n",
       "3739  Ф.Бондарчук, Д.Рудовский, И.Стюарт, М.Османн, ...   \n",
       "5673                 П.Ануров, Ф.Бондарчук, Д.Рудовский   \n",
       "5806                          ООО \"ЛИЦЕНЗИОННЫЕ БРЕНДЫ\"   \n",
       "6008                          ООО \"ЛИЦЕНЗИОННЫЕ БРЕНДЫ\"   \n",
       "6323  ООО \"Арт Пикчерс Студия\", ООО \"КРИЭЙТИВ АНИМЭЙ...   \n",
       "6823                          ООО \"ЛИЦЕНЗИОННЫЕ БРЕНДЫ\"   \n",
       "\n",
       "                      age_restriction  refundable_support  \\\n",
       "2053  «16+» - для детей старше 16 лет                 0.0   \n",
       "2058  «16+» - для детей старше 16 лет                 0.0   \n",
       "2472  «12+» - для детей старше 12 лет          10000000.0   \n",
       "2532  «16+» - для детей старше 16 лет          20000000.0   \n",
       "2615    «6+» - для детей старше 6 лет          60000000.0   \n",
       "2684      «18+» - запрещено для детей                 0.0   \n",
       "2788  «16+» - для детей старше 16 лет                 0.0   \n",
       "2874  «12+» - для детей старше 12 лет                 0.0   \n",
       "3047  «16+» - для детей старше 16 лет          19000000.0   \n",
       "3565  «12+» - для детей старше 12 лет                 0.0   \n",
       "3675    «6+» - для детей старше 6 лет          20000000.0   \n",
       "3739  «16+» - для детей старше 16 лет          25000000.0   \n",
       "5673  «16+» - для детей старше 16 лет          20000000.0   \n",
       "5806    «6+» - для детей старше 6 лет          10000000.0   \n",
       "6008    «6+» - для детей старше 6 лет          40000000.0   \n",
       "6323    «6+» - для детей старше 6 лет                 0.0   \n",
       "6823    «6+» - для детей старше 6 лет          60000000.0   \n",
       "\n",
       "      nonrefundable_support  budget                  financing_source  \\\n",
       "2053             23000000.0     0.0  министерство культуры, фонд кино   \n",
       "2058             75000000.0     0.0                         фонд кино   \n",
       "2472             70000000.0     0.0                         фонд кино   \n",
       "2532                    0.0     0.0                         фонд кино   \n",
       "2615            100000000.0     0.0                         фонд кино   \n",
       "2684             59000000.0     0.0                         фонд кино   \n",
       "2788             35000000.0     0.0                         фонд кино   \n",
       "2874              6000000.0     0.0             министерство культуры   \n",
       "3047             51000000.0     0.0                         фонд кино   \n",
       "3565            250000000.0     0.0                         фонд кино   \n",
       "3675             20000000.0     0.0                         фонд кино   \n",
       "3739             20000000.0     0.0                         фонд кино   \n",
       "5673             40000000.0     0.0                         фонд кино   \n",
       "5806             60000000.0     0.0                         фонд кино   \n",
       "6008             40000000.0     0.0                         фонд кино   \n",
       "6323            138969465.0     0.0                         фонд кино   \n",
       "6823            120000000.0     0.0                         фонд кино   \n",
       "\n",
       "      ratings                          genres    box_office  \n",
       "2053      6.6                       мелодрама  1.023402e+07  \n",
       "2058      6.6                           драма  4.461635e+08  \n",
       "2472      7.8           боевик,драма,криминал  1.965724e+08  \n",
       "2532      6.2                 комедия,фэнтези  6.741897e+07  \n",
       "2615      4.6  мультфильм,приключения,фэнтези  1.844876e+08  \n",
       "2684      6.3                   комедия,драма  1.957739e+06  \n",
       "2788      5.1               комедия,мелодрама  7.293778e+07  \n",
       "2874      4.3                         комедия  1.536293e+07  \n",
       "3047      6.3               комедия,мелодрама  7.029905e+07  \n",
       "3565      5.6                      фантастика  1.038321e+09  \n",
       "3675      5.2     мультфильм,фэнтези,семейный  5.510801e+07  \n",
       "3739      4.8                         комедия  5.045195e+07  \n",
       "5673      5.8                   триллер,драма  2.251964e+08  \n",
       "5806      5.0              мультфильм,детский  1.065143e+08  \n",
       "6008      5.2      мультфильм,фэнтези,детский  8.336633e+07  \n",
       "6323      NaN                             NaN  1.334699e+06  \n",
       "6823      6.2  мультфильм,комедия,приключения  1.476068e+08  "
      ]
     },
     "execution_count": 31,
     "metadata": {},
     "output_type": "execute_result"
    }
   ],
   "source": [
    "df.query('budget == 0')"
   ]
  },
  {
   "cell_type": "markdown",
   "metadata": {},
   "source": [
    "Заполнить пропуски в обнаруженных 17 строках с нулевым бюджетом мы можем суммой возвратных и невозвратных средств государственной поддержки."
   ]
  },
  {
   "cell_type": "code",
   "execution_count": 32,
   "metadata": {},
   "outputs": [],
   "source": [
    "df.loc[df['budget'] == 0.0, 'budget'] = df['refundable_support']+df['nonrefundable_support']"
   ]
  },
  {
   "cell_type": "markdown",
   "metadata": {},
   "source": [
    "Проверим заполнение нулевых значений."
   ]
  },
  {
   "cell_type": "code",
   "execution_count": 33,
   "metadata": {},
   "outputs": [
    {
     "data": {
      "text/html": [
       "<div>\n",
       "<style scoped>\n",
       "    .dataframe tbody tr th:only-of-type {\n",
       "        vertical-align: middle;\n",
       "    }\n",
       "\n",
       "    .dataframe tbody tr th {\n",
       "        vertical-align: top;\n",
       "    }\n",
       "\n",
       "    .dataframe thead th {\n",
       "        text-align: right;\n",
       "    }\n",
       "</style>\n",
       "<table border=\"1\" class=\"dataframe\">\n",
       "  <thead>\n",
       "    <tr style=\"text-align: right;\">\n",
       "      <th></th>\n",
       "      <th>title</th>\n",
       "      <th>puNumber</th>\n",
       "      <th>show_start_date</th>\n",
       "      <th>type</th>\n",
       "      <th>film_studio</th>\n",
       "      <th>production_country</th>\n",
       "      <th>director</th>\n",
       "      <th>producer</th>\n",
       "      <th>age_restriction</th>\n",
       "      <th>refundable_support</th>\n",
       "      <th>nonrefundable_support</th>\n",
       "      <th>budget</th>\n",
       "      <th>financing_source</th>\n",
       "      <th>ratings</th>\n",
       "      <th>genres</th>\n",
       "      <th>box_office</th>\n",
       "    </tr>\n",
       "  </thead>\n",
       "  <tbody>\n",
       "  </tbody>\n",
       "</table>\n",
       "</div>"
      ],
      "text/plain": [
       "Empty DataFrame\n",
       "Columns: [title, puNumber, show_start_date, type, film_studio, production_country, director, producer, age_restriction, refundable_support, nonrefundable_support, budget, financing_source, ratings, genres, box_office]\n",
       "Index: []"
      ]
     },
     "execution_count": 33,
     "metadata": {},
     "output_type": "execute_result"
    }
   ],
   "source": [
    "df.query('budget == 0')"
   ]
  },
  {
   "cell_type": "code",
   "execution_count": 34,
   "metadata": {},
   "outputs": [],
   "source": [
    "#df.loc[df['budget'] == 0] = None"
   ]
  },
  {
   "cell_type": "code",
   "execution_count": 35,
   "metadata": {},
   "outputs": [
    {
     "data": {
      "text/plain": [
       "7154"
      ]
     },
     "execution_count": 35,
     "metadata": {},
     "output_type": "execute_result"
    }
   ],
   "source": [
    "df['budget'].isna().sum()"
   ]
  },
  {
   "cell_type": "markdown",
   "metadata": {},
   "source": [
    "Посмотрим на распределение значений в столбце box_office с помощью гистограммы. "
   ]
  },
  {
   "cell_type": "code",
   "execution_count": 36,
   "metadata": {},
   "outputs": [
    {
     "data": {
      "image/png": "[encoded data removed]",
      "text/plain": [
       "<Figure size 432x288 with 1 Axes>"
      ]
     },
     "metadata": {
      "needs_background": "light"
     },
     "output_type": "display_data"
    }
   ],
   "source": [
    "df['box_office'].hist(bins=100, range=(0, 500000))\n",
    "plt.show()"
   ]
  },
  {
   "cell_type": "markdown",
   "metadata": {},
   "source": [
    "Обнаружили много фильмов с небольшими сборами. Ничего с этим делать не будем, может и правда фильм оказался не очень, что часто бывает."
   ]
  },
  {
   "cell_type": "markdown",
   "metadata": {
    "id": "Eu6oWp2CgFyS"
   },
   "source": [
    "#### Шаг 2.6. Добавьте новые столбцы\n",
    "\n",
    "\n",
    "\n"
   ]
  },
  {
   "cell_type": "markdown",
   "metadata": {
    "id": "7GgW-UpAgFyS"
   },
   "source": [
    "- Создайте столбец с информацией о годе проката. Выделите год из даты премьеры фильма."
   ]
  },
  {
   "cell_type": "code",
   "execution_count": 37,
   "metadata": {
    "id": "I-yd1DkWgFyT",
    "scrolled": true
   },
   "outputs": [
    {
     "data": {
      "text/html": [
       "<div>\n",
       "<style scoped>\n",
       "    .dataframe tbody tr th:only-of-type {\n",
       "        vertical-align: middle;\n",
       "    }\n",
       "\n",
       "    .dataframe tbody tr th {\n",
       "        vertical-align: top;\n",
       "    }\n",
       "\n",
       "    .dataframe thead th {\n",
       "        text-align: right;\n",
       "    }\n",
       "</style>\n",
       "<table border=\"1\" class=\"dataframe\">\n",
       "  <thead>\n",
       "    <tr style=\"text-align: right;\">\n",
       "      <th></th>\n",
       "      <th>title</th>\n",
       "      <th>puNumber</th>\n",
       "      <th>show_start_date</th>\n",
       "      <th>type</th>\n",
       "      <th>film_studio</th>\n",
       "      <th>production_country</th>\n",
       "      <th>director</th>\n",
       "      <th>producer</th>\n",
       "      <th>age_restriction</th>\n",
       "      <th>refundable_support</th>\n",
       "      <th>nonrefundable_support</th>\n",
       "      <th>budget</th>\n",
       "      <th>financing_source</th>\n",
       "      <th>ratings</th>\n",
       "      <th>genres</th>\n",
       "      <th>box_office</th>\n",
       "      <th>show_start_year</th>\n",
       "    </tr>\n",
       "  </thead>\n",
       "  <tbody>\n",
       "    <tr>\n",
       "      <th>0</th>\n",
       "      <td>Открытый простор</td>\n",
       "      <td>221048915</td>\n",
       "      <td>2015-11-27 12:00:00+00:00</td>\n",
       "      <td>художественный</td>\n",
       "      <td>тачстоун пикчерз, кобальт пикчерз, бикон пикче...</td>\n",
       "      <td>сша</td>\n",
       "      <td>Кевин Костнер</td>\n",
       "      <td>Дэвид Валдес, Кевин Костнер, Джейк Эбертс</td>\n",
       "      <td>«18+» - запрещено для детей</td>\n",
       "      <td>NaN</td>\n",
       "      <td>NaN</td>\n",
       "      <td>NaN</td>\n",
       "      <td>NaN</td>\n",
       "      <td>7.2</td>\n",
       "      <td>боевик,драма,мелодрама</td>\n",
       "      <td>NaN</td>\n",
       "      <td>2015</td>\n",
       "    </tr>\n",
       "    <tr>\n",
       "      <th>1</th>\n",
       "      <td>Особо важное задание</td>\n",
       "      <td>111013716</td>\n",
       "      <td>2016-09-13 12:00:00+00:00</td>\n",
       "      <td>художественный</td>\n",
       "      <td>киностудия \"мосфильм\"</td>\n",
       "      <td>ссср</td>\n",
       "      <td>Е.Матвеев</td>\n",
       "      <td>NaN</td>\n",
       "      <td>«6+» - для детей старше 6 лет</td>\n",
       "      <td>NaN</td>\n",
       "      <td>NaN</td>\n",
       "      <td>NaN</td>\n",
       "      <td>NaN</td>\n",
       "      <td>6.6</td>\n",
       "      <td>драма,военный</td>\n",
       "      <td>NaN</td>\n",
       "      <td>2016</td>\n",
       "    </tr>\n",
       "    <tr>\n",
       "      <th>2</th>\n",
       "      <td>Особо опасен</td>\n",
       "      <td>221038416</td>\n",
       "      <td>2016-10-10 12:00:00+00:00</td>\n",
       "      <td>художественный</td>\n",
       "      <td>юниверсал пикчерз, кикстарт продакшнз, марк пл...</td>\n",
       "      <td>сша</td>\n",
       "      <td>Тимур Бекмамбетов</td>\n",
       "      <td>Джим Лемли, Джейсон Нетер, Марк Е.Платт, Яйн Смит</td>\n",
       "      <td>«18+» - запрещено для детей</td>\n",
       "      <td>NaN</td>\n",
       "      <td>NaN</td>\n",
       "      <td>NaN</td>\n",
       "      <td>NaN</td>\n",
       "      <td>6.8</td>\n",
       "      <td>фантастика,боевик,триллер</td>\n",
       "      <td>NaN</td>\n",
       "      <td>2016</td>\n",
       "    </tr>\n",
       "    <tr>\n",
       "      <th>3</th>\n",
       "      <td>Особо опасен</td>\n",
       "      <td>221026916</td>\n",
       "      <td>2016-06-10 12:00:00+00:00</td>\n",
       "      <td>художественный</td>\n",
       "      <td>юниверсал пикчерз, кикстарт продакшнз, марк пл...</td>\n",
       "      <td>сша</td>\n",
       "      <td>Тимур Бекмамбетов</td>\n",
       "      <td>Джим Лемли, Джейсон Нетер, Марк Е.Платт, Яйн Смит</td>\n",
       "      <td>«18+» - запрещено для детей</td>\n",
       "      <td>NaN</td>\n",
       "      <td>NaN</td>\n",
       "      <td>NaN</td>\n",
       "      <td>NaN</td>\n",
       "      <td>6.8</td>\n",
       "      <td>фантастика,боевик,триллер</td>\n",
       "      <td>NaN</td>\n",
       "      <td>2016</td>\n",
       "    </tr>\n",
       "    <tr>\n",
       "      <th>4</th>\n",
       "      <td>Особо опасен</td>\n",
       "      <td>221030815</td>\n",
       "      <td>2015-07-29 12:00:00+00:00</td>\n",
       "      <td>художественный</td>\n",
       "      <td>юниверсал пикчерз, кикстарт продакшнз, марк пл...</td>\n",
       "      <td>сша</td>\n",
       "      <td>Тимур Бекмамбетов</td>\n",
       "      <td>Джим Лемли, Джейсон Нетер, Марк Е.Платт, Яйн Смит</td>\n",
       "      <td>«18+» - запрещено для детей</td>\n",
       "      <td>NaN</td>\n",
       "      <td>NaN</td>\n",
       "      <td>NaN</td>\n",
       "      <td>NaN</td>\n",
       "      <td>6.8</td>\n",
       "      <td>фантастика,боевик,триллер</td>\n",
       "      <td>NaN</td>\n",
       "      <td>2015</td>\n",
       "    </tr>\n",
       "  </tbody>\n",
       "</table>\n",
       "</div>"
      ],
      "text/plain": [
       "                  title   puNumber           show_start_date            type  \\\n",
       "0      Открытый простор  221048915 2015-11-27 12:00:00+00:00  художественный   \n",
       "1  Особо важное задание  111013716 2016-09-13 12:00:00+00:00  художественный   \n",
       "2          Особо опасен  221038416 2016-10-10 12:00:00+00:00  художественный   \n",
       "3          Особо опасен  221026916 2016-06-10 12:00:00+00:00  художественный   \n",
       "4          Особо опасен  221030815 2015-07-29 12:00:00+00:00  художественный   \n",
       "\n",
       "                                         film_studio production_country  \\\n",
       "0  тачстоун пикчерз, кобальт пикчерз, бикон пикче...                сша   \n",
       "1                              киностудия \"мосфильм\"               ссср   \n",
       "2  юниверсал пикчерз, кикстарт продакшнз, марк пл...                сша   \n",
       "3  юниверсал пикчерз, кикстарт продакшнз, марк пл...                сша   \n",
       "4  юниверсал пикчерз, кикстарт продакшнз, марк пл...                сша   \n",
       "\n",
       "            director                                           producer  \\\n",
       "0      Кевин Костнер          Дэвид Валдес, Кевин Костнер, Джейк Эбертс   \n",
       "1          Е.Матвеев                                                NaN   \n",
       "2  Тимур Бекмамбетов  Джим Лемли, Джейсон Нетер, Марк Е.Платт, Яйн Смит   \n",
       "3  Тимур Бекмамбетов  Джим Лемли, Джейсон Нетер, Марк Е.Платт, Яйн Смит   \n",
       "4  Тимур Бекмамбетов  Джим Лемли, Джейсон Нетер, Марк Е.Платт, Яйн Смит   \n",
       "\n",
       "                 age_restriction  refundable_support  nonrefundable_support  \\\n",
       "0    «18+» - запрещено для детей                 NaN                    NaN   \n",
       "1  «6+» - для детей старше 6 лет                 NaN                    NaN   \n",
       "2    «18+» - запрещено для детей                 NaN                    NaN   \n",
       "3    «18+» - запрещено для детей                 NaN                    NaN   \n",
       "4    «18+» - запрещено для детей                 NaN                    NaN   \n",
       "\n",
       "   budget financing_source  ratings                     genres  box_office  \\\n",
       "0     NaN              NaN      7.2     боевик,драма,мелодрама         NaN   \n",
       "1     NaN              NaN      6.6              драма,военный         NaN   \n",
       "2     NaN              NaN      6.8  фантастика,боевик,триллер         NaN   \n",
       "3     NaN              NaN      6.8  фантастика,боевик,триллер         NaN   \n",
       "4     NaN              NaN      6.8  фантастика,боевик,триллер         NaN   \n",
       "\n",
       "   show_start_year  \n",
       "0             2015  \n",
       "1             2016  \n",
       "2             2016  \n",
       "3             2016  \n",
       "4             2015  "
      ]
     },
     "execution_count": 37,
     "metadata": {},
     "output_type": "execute_result"
    }
   ],
   "source": [
    "df['show_start_year'] = df['show_start_date'].dt.year\n",
    "df.head(5)"
   ]
  },
  {
   "cell_type": "markdown",
   "metadata": {
    "id": "nFTDLDYOgFyT"
   },
   "source": [
    "- Создайте два столбца: с именем и фамилией главного режиссёра и основным жанром фильма. В столбцы войдут первые значения из списка режиссёров и жанров соответственно.\n",
    "\n",
    "<div id=\"accordion\">\n",
    "    <div class=\"card\">\n",
    "        <div class=\"card-header\" id=\"headingThree\">\n",
    "            <button class=\"btn btn-link collapsed\" data-toggle=\"collapse\" data-target=\"#collapseHint_2\" aria-expanded=\"false\" aria-controls=\"collapseHint_2\">Подсказка</button>\n",
    "        </div>\n",
    "        <div id=\"collapseHint_2\" class=\"collapse\" aria-labelledby=\"headingThree\" data-parent=\"#accordion\">\n",
    "            <div class=\"card-body\">\n",
    "Чтобы создать такие столбцы, лучше всего использовать собственную функцию. Эту функцию можно применить к двум столбцам сразу. \n",
    "            </div>\n",
    "        </div>\n",
    "    </div>\n",
    "</div>"
   ]
  },
  {
   "cell_type": "code",
   "execution_count": 38,
   "metadata": {
    "id": "LSbRZKbMgFyU"
   },
   "outputs": [],
   "source": [
    "def get_first_value(s, sep = ','):\n",
    "    value_lst = s.split(sep=sep)\n",
    "    return value_lst[0]"
   ]
  },
  {
   "cell_type": "code",
   "execution_count": 39,
   "metadata": {},
   "outputs": [],
   "source": [
    "#df['main_director'] = df['director'].apply(get_first_value)\n",
    "df['main_director'] = df['director'].str.split(',').str[0]"
   ]
  },
  {
   "cell_type": "code",
   "execution_count": 40,
   "metadata": {},
   "outputs": [],
   "source": [
    "df['main_genre'] = df['genres'].str.split(',').str[0]"
   ]
  },
  {
   "cell_type": "code",
   "execution_count": 41,
   "metadata": {},
   "outputs": [
    {
     "data": {
      "text/html": [
       "<div>\n",
       "<style scoped>\n",
       "    .dataframe tbody tr th:only-of-type {\n",
       "        vertical-align: middle;\n",
       "    }\n",
       "\n",
       "    .dataframe tbody tr th {\n",
       "        vertical-align: top;\n",
       "    }\n",
       "\n",
       "    .dataframe thead th {\n",
       "        text-align: right;\n",
       "    }\n",
       "</style>\n",
       "<table border=\"1\" class=\"dataframe\">\n",
       "  <thead>\n",
       "    <tr style=\"text-align: right;\">\n",
       "      <th></th>\n",
       "      <th>title</th>\n",
       "      <th>puNumber</th>\n",
       "      <th>show_start_date</th>\n",
       "      <th>type</th>\n",
       "      <th>film_studio</th>\n",
       "      <th>production_country</th>\n",
       "      <th>director</th>\n",
       "      <th>producer</th>\n",
       "      <th>age_restriction</th>\n",
       "      <th>refundable_support</th>\n",
       "      <th>nonrefundable_support</th>\n",
       "      <th>budget</th>\n",
       "      <th>financing_source</th>\n",
       "      <th>ratings</th>\n",
       "      <th>genres</th>\n",
       "      <th>box_office</th>\n",
       "      <th>show_start_year</th>\n",
       "      <th>main_director</th>\n",
       "      <th>main_genre</th>\n",
       "    </tr>\n",
       "  </thead>\n",
       "  <tbody>\n",
       "    <tr>\n",
       "      <th>0</th>\n",
       "      <td>Открытый простор</td>\n",
       "      <td>221048915</td>\n",
       "      <td>2015-11-27 12:00:00+00:00</td>\n",
       "      <td>художественный</td>\n",
       "      <td>тачстоун пикчерз, кобальт пикчерз, бикон пикче...</td>\n",
       "      <td>сша</td>\n",
       "      <td>Кевин Костнер</td>\n",
       "      <td>Дэвид Валдес, Кевин Костнер, Джейк Эбертс</td>\n",
       "      <td>«18+» - запрещено для детей</td>\n",
       "      <td>NaN</td>\n",
       "      <td>NaN</td>\n",
       "      <td>NaN</td>\n",
       "      <td>NaN</td>\n",
       "      <td>7.2</td>\n",
       "      <td>боевик,драма,мелодрама</td>\n",
       "      <td>NaN</td>\n",
       "      <td>2015</td>\n",
       "      <td>Кевин Костнер</td>\n",
       "      <td>боевик</td>\n",
       "    </tr>\n",
       "    <tr>\n",
       "      <th>1</th>\n",
       "      <td>Особо важное задание</td>\n",
       "      <td>111013716</td>\n",
       "      <td>2016-09-13 12:00:00+00:00</td>\n",
       "      <td>художественный</td>\n",
       "      <td>киностудия \"мосфильм\"</td>\n",
       "      <td>ссср</td>\n",
       "      <td>Е.Матвеев</td>\n",
       "      <td>NaN</td>\n",
       "      <td>«6+» - для детей старше 6 лет</td>\n",
       "      <td>NaN</td>\n",
       "      <td>NaN</td>\n",
       "      <td>NaN</td>\n",
       "      <td>NaN</td>\n",
       "      <td>6.6</td>\n",
       "      <td>драма,военный</td>\n",
       "      <td>NaN</td>\n",
       "      <td>2016</td>\n",
       "      <td>Е.Матвеев</td>\n",
       "      <td>драма</td>\n",
       "    </tr>\n",
       "    <tr>\n",
       "      <th>2</th>\n",
       "      <td>Особо опасен</td>\n",
       "      <td>221038416</td>\n",
       "      <td>2016-10-10 12:00:00+00:00</td>\n",
       "      <td>художественный</td>\n",
       "      <td>юниверсал пикчерз, кикстарт продакшнз, марк пл...</td>\n",
       "      <td>сша</td>\n",
       "      <td>Тимур Бекмамбетов</td>\n",
       "      <td>Джим Лемли, Джейсон Нетер, Марк Е.Платт, Яйн Смит</td>\n",
       "      <td>«18+» - запрещено для детей</td>\n",
       "      <td>NaN</td>\n",
       "      <td>NaN</td>\n",
       "      <td>NaN</td>\n",
       "      <td>NaN</td>\n",
       "      <td>6.8</td>\n",
       "      <td>фантастика,боевик,триллер</td>\n",
       "      <td>NaN</td>\n",
       "      <td>2016</td>\n",
       "      <td>Тимур Бекмамбетов</td>\n",
       "      <td>фантастика</td>\n",
       "    </tr>\n",
       "    <tr>\n",
       "      <th>3</th>\n",
       "      <td>Особо опасен</td>\n",
       "      <td>221026916</td>\n",
       "      <td>2016-06-10 12:00:00+00:00</td>\n",
       "      <td>художественный</td>\n",
       "      <td>юниверсал пикчерз, кикстарт продакшнз, марк пл...</td>\n",
       "      <td>сша</td>\n",
       "      <td>Тимур Бекмамбетов</td>\n",
       "      <td>Джим Лемли, Джейсон Нетер, Марк Е.Платт, Яйн Смит</td>\n",
       "      <td>«18+» - запрещено для детей</td>\n",
       "      <td>NaN</td>\n",
       "      <td>NaN</td>\n",
       "      <td>NaN</td>\n",
       "      <td>NaN</td>\n",
       "      <td>6.8</td>\n",
       "      <td>фантастика,боевик,триллер</td>\n",
       "      <td>NaN</td>\n",
       "      <td>2016</td>\n",
       "      <td>Тимур Бекмамбетов</td>\n",
       "      <td>фантастика</td>\n",
       "    </tr>\n",
       "    <tr>\n",
       "      <th>4</th>\n",
       "      <td>Особо опасен</td>\n",
       "      <td>221030815</td>\n",
       "      <td>2015-07-29 12:00:00+00:00</td>\n",
       "      <td>художественный</td>\n",
       "      <td>юниверсал пикчерз, кикстарт продакшнз, марк пл...</td>\n",
       "      <td>сша</td>\n",
       "      <td>Тимур Бекмамбетов</td>\n",
       "      <td>Джим Лемли, Джейсон Нетер, Марк Е.Платт, Яйн Смит</td>\n",
       "      <td>«18+» - запрещено для детей</td>\n",
       "      <td>NaN</td>\n",
       "      <td>NaN</td>\n",
       "      <td>NaN</td>\n",
       "      <td>NaN</td>\n",
       "      <td>6.8</td>\n",
       "      <td>фантастика,боевик,триллер</td>\n",
       "      <td>NaN</td>\n",
       "      <td>2015</td>\n",
       "      <td>Тимур Бекмамбетов</td>\n",
       "      <td>фантастика</td>\n",
       "    </tr>\n",
       "  </tbody>\n",
       "</table>\n",
       "</div>"
      ],
      "text/plain": [
       "                  title   puNumber           show_start_date            type  \\\n",
       "0      Открытый простор  221048915 2015-11-27 12:00:00+00:00  художественный   \n",
       "1  Особо важное задание  111013716 2016-09-13 12:00:00+00:00  художественный   \n",
       "2          Особо опасен  221038416 2016-10-10 12:00:00+00:00  художественный   \n",
       "3          Особо опасен  221026916 2016-06-10 12:00:00+00:00  художественный   \n",
       "4          Особо опасен  221030815 2015-07-29 12:00:00+00:00  художественный   \n",
       "\n",
       "                                         film_studio production_country  \\\n",
       "0  тачстоун пикчерз, кобальт пикчерз, бикон пикче...                сша   \n",
       "1                              киностудия \"мосфильм\"               ссср   \n",
       "2  юниверсал пикчерз, кикстарт продакшнз, марк пл...                сша   \n",
       "3  юниверсал пикчерз, кикстарт продакшнз, марк пл...                сша   \n",
       "4  юниверсал пикчерз, кикстарт продакшнз, марк пл...                сша   \n",
       "\n",
       "            director                                           producer  \\\n",
       "0      Кевин Костнер          Дэвид Валдес, Кевин Костнер, Джейк Эбертс   \n",
       "1          Е.Матвеев                                                NaN   \n",
       "2  Тимур Бекмамбетов  Джим Лемли, Джейсон Нетер, Марк Е.Платт, Яйн Смит   \n",
       "3  Тимур Бекмамбетов  Джим Лемли, Джейсон Нетер, Марк Е.Платт, Яйн Смит   \n",
       "4  Тимур Бекмамбетов  Джим Лемли, Джейсон Нетер, Марк Е.Платт, Яйн Смит   \n",
       "\n",
       "                 age_restriction  refundable_support  nonrefundable_support  \\\n",
       "0    «18+» - запрещено для детей                 NaN                    NaN   \n",
       "1  «6+» - для детей старше 6 лет                 NaN                    NaN   \n",
       "2    «18+» - запрещено для детей                 NaN                    NaN   \n",
       "3    «18+» - запрещено для детей                 NaN                    NaN   \n",
       "4    «18+» - запрещено для детей                 NaN                    NaN   \n",
       "\n",
       "   budget financing_source  ratings                     genres  box_office  \\\n",
       "0     NaN              NaN      7.2     боевик,драма,мелодрама         NaN   \n",
       "1     NaN              NaN      6.6              драма,военный         NaN   \n",
       "2     NaN              NaN      6.8  фантастика,боевик,триллер         NaN   \n",
       "3     NaN              NaN      6.8  фантастика,боевик,триллер         NaN   \n",
       "4     NaN              NaN      6.8  фантастика,боевик,триллер         NaN   \n",
       "\n",
       "   show_start_year      main_director  main_genre  \n",
       "0             2015      Кевин Костнер      боевик  \n",
       "1             2016          Е.Матвеев       драма  \n",
       "2             2016  Тимур Бекмамбетов  фантастика  \n",
       "3             2016  Тимур Бекмамбетов  фантастика  \n",
       "4             2015  Тимур Бекмамбетов  фантастика  "
      ]
     },
     "execution_count": 41,
     "metadata": {},
     "output_type": "execute_result"
    }
   ],
   "source": [
    "df.head()"
   ]
  },
  {
   "cell_type": "markdown",
   "metadata": {
    "id": "1FsCXHwdgFyU"
   },
   "source": [
    "- Посчитайте, какую долю от общего бюджета фильма составляет государственная поддержка."
   ]
  },
  {
   "cell_type": "markdown",
   "metadata": {
    "id": "LV6qFuZLgFyV"
   },
   "source": [
    "Чтобы подсчитать долю поддержки от общего бюджета сложим значения refundable_support и nonrefundable_support и разделим их на budget."
   ]
  },
  {
   "cell_type": "code",
   "execution_count": 42,
   "metadata": {},
   "outputs": [],
   "source": [
    "df['gos_share'] = ((df['refundable_support'] + df['nonrefundable_support']) / df['budget'])*100"
   ]
  },
  {
   "cell_type": "code",
   "execution_count": 43,
   "metadata": {},
   "outputs": [
    {
     "data": {
      "text/plain": [
       "count    332.000000\n",
       "mean      54.209799\n",
       "std       19.692515\n",
       "min        4.404305\n",
       "25%       38.461538\n",
       "50%       61.403763\n",
       "75%       66.141160\n",
       "max      100.000000\n",
       "Name: gos_share, dtype: float64"
      ]
     },
     "execution_count": 43,
     "metadata": {},
     "output_type": "execute_result"
    }
   ],
   "source": [
    "df['gos_share'].describe()"
   ]
  },
  {
   "cell_type": "code",
   "execution_count": 44,
   "metadata": {},
   "outputs": [
    {
     "data": {
      "text/html": [
       "<div>\n",
       "<style scoped>\n",
       "    .dataframe tbody tr th:only-of-type {\n",
       "        vertical-align: middle;\n",
       "    }\n",
       "\n",
       "    .dataframe tbody tr th {\n",
       "        vertical-align: top;\n",
       "    }\n",
       "\n",
       "    .dataframe thead th {\n",
       "        text-align: right;\n",
       "    }\n",
       "</style>\n",
       "<table border=\"1\" class=\"dataframe\">\n",
       "  <thead>\n",
       "    <tr style=\"text-align: right;\">\n",
       "      <th></th>\n",
       "      <th>title</th>\n",
       "      <th>puNumber</th>\n",
       "      <th>show_start_date</th>\n",
       "      <th>type</th>\n",
       "      <th>film_studio</th>\n",
       "      <th>production_country</th>\n",
       "      <th>director</th>\n",
       "      <th>producer</th>\n",
       "      <th>age_restriction</th>\n",
       "      <th>refundable_support</th>\n",
       "      <th>nonrefundable_support</th>\n",
       "      <th>budget</th>\n",
       "      <th>financing_source</th>\n",
       "      <th>ratings</th>\n",
       "      <th>genres</th>\n",
       "      <th>box_office</th>\n",
       "      <th>show_start_year</th>\n",
       "      <th>main_director</th>\n",
       "      <th>main_genre</th>\n",
       "      <th>gos_share</th>\n",
       "    </tr>\n",
       "  </thead>\n",
       "  <tbody>\n",
       "    <tr>\n",
       "      <th>0</th>\n",
       "      <td>Открытый простор</td>\n",
       "      <td>221048915</td>\n",
       "      <td>2015-11-27 12:00:00+00:00</td>\n",
       "      <td>художественный</td>\n",
       "      <td>тачстоун пикчерз, кобальт пикчерз, бикон пикче...</td>\n",
       "      <td>сша</td>\n",
       "      <td>Кевин Костнер</td>\n",
       "      <td>Дэвид Валдес, Кевин Костнер, Джейк Эбертс</td>\n",
       "      <td>«18+» - запрещено для детей</td>\n",
       "      <td>NaN</td>\n",
       "      <td>NaN</td>\n",
       "      <td>NaN</td>\n",
       "      <td>NaN</td>\n",
       "      <td>7.2</td>\n",
       "      <td>боевик,драма,мелодрама</td>\n",
       "      <td>NaN</td>\n",
       "      <td>2015</td>\n",
       "      <td>Кевин Костнер</td>\n",
       "      <td>боевик</td>\n",
       "      <td>NaN</td>\n",
       "    </tr>\n",
       "    <tr>\n",
       "      <th>1</th>\n",
       "      <td>Особо важное задание</td>\n",
       "      <td>111013716</td>\n",
       "      <td>2016-09-13 12:00:00+00:00</td>\n",
       "      <td>художественный</td>\n",
       "      <td>киностудия \"мосфильм\"</td>\n",
       "      <td>ссср</td>\n",
       "      <td>Е.Матвеев</td>\n",
       "      <td>NaN</td>\n",
       "      <td>«6+» - для детей старше 6 лет</td>\n",
       "      <td>NaN</td>\n",
       "      <td>NaN</td>\n",
       "      <td>NaN</td>\n",
       "      <td>NaN</td>\n",
       "      <td>6.6</td>\n",
       "      <td>драма,военный</td>\n",
       "      <td>NaN</td>\n",
       "      <td>2016</td>\n",
       "      <td>Е.Матвеев</td>\n",
       "      <td>драма</td>\n",
       "      <td>NaN</td>\n",
       "    </tr>\n",
       "    <tr>\n",
       "      <th>2</th>\n",
       "      <td>Особо опасен</td>\n",
       "      <td>221038416</td>\n",
       "      <td>2016-10-10 12:00:00+00:00</td>\n",
       "      <td>художественный</td>\n",
       "      <td>юниверсал пикчерз, кикстарт продакшнз, марк пл...</td>\n",
       "      <td>сша</td>\n",
       "      <td>Тимур Бекмамбетов</td>\n",
       "      <td>Джим Лемли, Джейсон Нетер, Марк Е.Платт, Яйн Смит</td>\n",
       "      <td>«18+» - запрещено для детей</td>\n",
       "      <td>NaN</td>\n",
       "      <td>NaN</td>\n",
       "      <td>NaN</td>\n",
       "      <td>NaN</td>\n",
       "      <td>6.8</td>\n",
       "      <td>фантастика,боевик,триллер</td>\n",
       "      <td>NaN</td>\n",
       "      <td>2016</td>\n",
       "      <td>Тимур Бекмамбетов</td>\n",
       "      <td>фантастика</td>\n",
       "      <td>NaN</td>\n",
       "    </tr>\n",
       "    <tr>\n",
       "      <th>3</th>\n",
       "      <td>Особо опасен</td>\n",
       "      <td>221026916</td>\n",
       "      <td>2016-06-10 12:00:00+00:00</td>\n",
       "      <td>художественный</td>\n",
       "      <td>юниверсал пикчерз, кикстарт продакшнз, марк пл...</td>\n",
       "      <td>сша</td>\n",
       "      <td>Тимур Бекмамбетов</td>\n",
       "      <td>Джим Лемли, Джейсон Нетер, Марк Е.Платт, Яйн Смит</td>\n",
       "      <td>«18+» - запрещено для детей</td>\n",
       "      <td>NaN</td>\n",
       "      <td>NaN</td>\n",
       "      <td>NaN</td>\n",
       "      <td>NaN</td>\n",
       "      <td>6.8</td>\n",
       "      <td>фантастика,боевик,триллер</td>\n",
       "      <td>NaN</td>\n",
       "      <td>2016</td>\n",
       "      <td>Тимур Бекмамбетов</td>\n",
       "      <td>фантастика</td>\n",
       "      <td>NaN</td>\n",
       "    </tr>\n",
       "    <tr>\n",
       "      <th>4</th>\n",
       "      <td>Особо опасен</td>\n",
       "      <td>221030815</td>\n",
       "      <td>2015-07-29 12:00:00+00:00</td>\n",
       "      <td>художественный</td>\n",
       "      <td>юниверсал пикчерз, кикстарт продакшнз, марк пл...</td>\n",
       "      <td>сша</td>\n",
       "      <td>Тимур Бекмамбетов</td>\n",
       "      <td>Джим Лемли, Джейсон Нетер, Марк Е.Платт, Яйн Смит</td>\n",
       "      <td>«18+» - запрещено для детей</td>\n",
       "      <td>NaN</td>\n",
       "      <td>NaN</td>\n",
       "      <td>NaN</td>\n",
       "      <td>NaN</td>\n",
       "      <td>6.8</td>\n",
       "      <td>фантастика,боевик,триллер</td>\n",
       "      <td>NaN</td>\n",
       "      <td>2015</td>\n",
       "      <td>Тимур Бекмамбетов</td>\n",
       "      <td>фантастика</td>\n",
       "      <td>NaN</td>\n",
       "    </tr>\n",
       "  </tbody>\n",
       "</table>\n",
       "</div>"
      ],
      "text/plain": [
       "                  title   puNumber           show_start_date            type  \\\n",
       "0      Открытый простор  221048915 2015-11-27 12:00:00+00:00  художественный   \n",
       "1  Особо важное задание  111013716 2016-09-13 12:00:00+00:00  художественный   \n",
       "2          Особо опасен  221038416 2016-10-10 12:00:00+00:00  художественный   \n",
       "3          Особо опасен  221026916 2016-06-10 12:00:00+00:00  художественный   \n",
       "4          Особо опасен  221030815 2015-07-29 12:00:00+00:00  художественный   \n",
       "\n",
       "                                         film_studio production_country  \\\n",
       "0  тачстоун пикчерз, кобальт пикчерз, бикон пикче...                сша   \n",
       "1                              киностудия \"мосфильм\"               ссср   \n",
       "2  юниверсал пикчерз, кикстарт продакшнз, марк пл...                сша   \n",
       "3  юниверсал пикчерз, кикстарт продакшнз, марк пл...                сша   \n",
       "4  юниверсал пикчерз, кикстарт продакшнз, марк пл...                сша   \n",
       "\n",
       "            director                                           producer  \\\n",
       "0      Кевин Костнер          Дэвид Валдес, Кевин Костнер, Джейк Эбертс   \n",
       "1          Е.Матвеев                                                NaN   \n",
       "2  Тимур Бекмамбетов  Джим Лемли, Джейсон Нетер, Марк Е.Платт, Яйн Смит   \n",
       "3  Тимур Бекмамбетов  Джим Лемли, Джейсон Нетер, Марк Е.Платт, Яйн Смит   \n",
       "4  Тимур Бекмамбетов  Джим Лемли, Джейсон Нетер, Марк Е.Платт, Яйн Смит   \n",
       "\n",
       "                 age_restriction  refundable_support  nonrefundable_support  \\\n",
       "0    «18+» - запрещено для детей                 NaN                    NaN   \n",
       "1  «6+» - для детей старше 6 лет                 NaN                    NaN   \n",
       "2    «18+» - запрещено для детей                 NaN                    NaN   \n",
       "3    «18+» - запрещено для детей                 NaN                    NaN   \n",
       "4    «18+» - запрещено для детей                 NaN                    NaN   \n",
       "\n",
       "   budget financing_source  ratings                     genres  box_office  \\\n",
       "0     NaN              NaN      7.2     боевик,драма,мелодрама         NaN   \n",
       "1     NaN              NaN      6.6              драма,военный         NaN   \n",
       "2     NaN              NaN      6.8  фантастика,боевик,триллер         NaN   \n",
       "3     NaN              NaN      6.8  фантастика,боевик,триллер         NaN   \n",
       "4     NaN              NaN      6.8  фантастика,боевик,триллер         NaN   \n",
       "\n",
       "   show_start_year      main_director  main_genre  gos_share  \n",
       "0             2015      Кевин Костнер      боевик        NaN  \n",
       "1             2016          Е.Матвеев       драма        NaN  \n",
       "2             2016  Тимур Бекмамбетов  фантастика        NaN  \n",
       "3             2016  Тимур Бекмамбетов  фантастика        NaN  \n",
       "4             2015  Тимур Бекмамбетов  фантастика        NaN  "
      ]
     },
     "execution_count": 44,
     "metadata": {},
     "output_type": "execute_result"
    }
   ],
   "source": [
    "df.head(5)"
   ]
  },
  {
   "cell_type": "markdown",
   "metadata": {},
   "source": [
    "Требуемые ТЗ столбцы добавлены."
   ]
  },
  {
   "cell_type": "markdown",
   "metadata": {
    "id": "6t4EukPLgFyV"
   },
   "source": [
    "### Шаг 3. Проведите исследовательский анализ данных\n"
   ]
  },
  {
   "cell_type": "markdown",
   "metadata": {
    "id": "vAH8WCzugFyV"
   },
   "source": [
    "- Посмотрите, сколько фильмов выходило в прокат каждый год. Обратите внимание, что данные о прокате в кинотеатрах известны не для всех фильмов. Посчитайте, какую долю составляют фильмы с указанной информацией о прокате в кинотеатрах."
   ]
  },
  {
   "cell_type": "code",
   "execution_count": 45,
   "metadata": {
    "id": "ABeV47y7gFyW",
    "scrolled": true
   },
   "outputs": [
    {
     "data": {
      "text/html": [
       "<div>\n",
       "<style scoped>\n",
       "    .dataframe tbody tr th:only-of-type {\n",
       "        vertical-align: middle;\n",
       "    }\n",
       "\n",
       "    .dataframe tbody tr th {\n",
       "        vertical-align: top;\n",
       "    }\n",
       "\n",
       "    .dataframe thead th {\n",
       "        text-align: right;\n",
       "    }\n",
       "</style>\n",
       "<table border=\"1\" class=\"dataframe\">\n",
       "  <thead>\n",
       "    <tr style=\"text-align: right;\">\n",
       "      <th></th>\n",
       "      <th>box_office</th>\n",
       "      <th>title</th>\n",
       "      <th>share</th>\n",
       "    </tr>\n",
       "    <tr>\n",
       "      <th>show_start_year</th>\n",
       "      <th></th>\n",
       "      <th></th>\n",
       "      <th></th>\n",
       "    </tr>\n",
       "  </thead>\n",
       "  <tbody>\n",
       "    <tr>\n",
       "      <th>2010</th>\n",
       "      <td>105</td>\n",
       "      <td>985</td>\n",
       "      <td>10.659898</td>\n",
       "    </tr>\n",
       "    <tr>\n",
       "      <th>2011</th>\n",
       "      <td>109</td>\n",
       "      <td>622</td>\n",
       "      <td>17.524116</td>\n",
       "    </tr>\n",
       "    <tr>\n",
       "      <th>2012</th>\n",
       "      <td>128</td>\n",
       "      <td>593</td>\n",
       "      <td>21.585160</td>\n",
       "    </tr>\n",
       "    <tr>\n",
       "      <th>2013</th>\n",
       "      <td>184</td>\n",
       "      <td>630</td>\n",
       "      <td>29.206349</td>\n",
       "    </tr>\n",
       "    <tr>\n",
       "      <th>2014</th>\n",
       "      <td>279</td>\n",
       "      <td>807</td>\n",
       "      <td>34.572491</td>\n",
       "    </tr>\n",
       "    <tr>\n",
       "      <th>2015</th>\n",
       "      <td>465</td>\n",
       "      <td>705</td>\n",
       "      <td>65.957447</td>\n",
       "    </tr>\n",
       "    <tr>\n",
       "      <th>2016</th>\n",
       "      <td>526</td>\n",
       "      <td>818</td>\n",
       "      <td>64.303178</td>\n",
       "    </tr>\n",
       "    <tr>\n",
       "      <th>2017</th>\n",
       "      <td>357</td>\n",
       "      <td>505</td>\n",
       "      <td>70.693069</td>\n",
       "    </tr>\n",
       "    <tr>\n",
       "      <th>2018</th>\n",
       "      <td>475</td>\n",
       "      <td>891</td>\n",
       "      <td>53.310887</td>\n",
       "    </tr>\n",
       "    <tr>\n",
       "      <th>2019</th>\n",
       "      <td>530</td>\n",
       "      <td>930</td>\n",
       "      <td>56.989247</td>\n",
       "    </tr>\n",
       "  </tbody>\n",
       "</table>\n",
       "</div>"
      ],
      "text/plain": [
       "                 box_office  title      share\n",
       "show_start_year                              \n",
       "2010                    105    985  10.659898\n",
       "2011                    109    622  17.524116\n",
       "2012                    128    593  21.585160\n",
       "2013                    184    630  29.206349\n",
       "2014                    279    807  34.572491\n",
       "2015                    465    705  65.957447\n",
       "2016                    526    818  64.303178\n",
       "2017                    357    505  70.693069\n",
       "2018                    475    891  53.310887\n",
       "2019                    530    930  56.989247"
      ]
     },
     "execution_count": 45,
     "metadata": {},
     "output_type": "execute_result"
    }
   ],
   "source": [
    "df_prokat = df.pivot_table(index='show_start_year', values=('title','box_office'), aggfunc ='count')\n",
    "df_prokat['share'] = (df_prokat['box_office'] / df_prokat['title'])*100\n",
    "df_prokat"
   ]
  },
  {
   "cell_type": "markdown",
   "metadata": {},
   "source": [
    "Доля сборов с годами растёт. Однако наблюдается спад сборов в 2018 и 2019 годах."
   ]
  },
  {
   "cell_type": "code",
   "execution_count": 46,
   "metadata": {
    "scrolled": true
   },
   "outputs": [
    {
     "data": {
      "text/html": [
       "<style  type=\"text/css\" >\n",
       "</style><table id=\"T_e8b13_\" ><thead>    <tr>        <th class=\"blank level0\" ></th>        <th class=\"col_heading level0 col0\" >title_count</th>        <th class=\"col_heading level0 col1\" >box_office_count</th>        <th class=\"col_heading level0 col2\" >box_share</th>    </tr>    <tr>        <th class=\"index_name level0\" >show_start_year</th>        <th class=\"blank\" ></th>        <th class=\"blank\" ></th>        <th class=\"blank\" ></th>    </tr></thead><tbody>\n",
       "                <tr>\n",
       "                        <th id=\"T_e8b13_level0_row0\" class=\"row_heading level0 row0\" >2010</th>\n",
       "                        <td id=\"T_e8b13_row0_col0\" class=\"data row0 col0\" >985</td>\n",
       "                        <td id=\"T_e8b13_row0_col1\" class=\"data row0 col1\" >105</td>\n",
       "                        <td id=\"T_e8b13_row0_col2\" class=\"data row0 col2\" >89%</td>\n",
       "            </tr>\n",
       "            <tr>\n",
       "                        <th id=\"T_e8b13_level0_row1\" class=\"row_heading level0 row1\" >2011</th>\n",
       "                        <td id=\"T_e8b13_row1_col0\" class=\"data row1 col0\" >622</td>\n",
       "                        <td id=\"T_e8b13_row1_col1\" class=\"data row1 col1\" >109</td>\n",
       "                        <td id=\"T_e8b13_row1_col2\" class=\"data row1 col2\" >82%</td>\n",
       "            </tr>\n",
       "            <tr>\n",
       "                        <th id=\"T_e8b13_level0_row2\" class=\"row_heading level0 row2\" >2012</th>\n",
       "                        <td id=\"T_e8b13_row2_col0\" class=\"data row2 col0\" >593</td>\n",
       "                        <td id=\"T_e8b13_row2_col1\" class=\"data row2 col1\" >128</td>\n",
       "                        <td id=\"T_e8b13_row2_col2\" class=\"data row2 col2\" >78%</td>\n",
       "            </tr>\n",
       "            <tr>\n",
       "                        <th id=\"T_e8b13_level0_row3\" class=\"row_heading level0 row3\" >2013</th>\n",
       "                        <td id=\"T_e8b13_row3_col0\" class=\"data row3 col0\" >630</td>\n",
       "                        <td id=\"T_e8b13_row3_col1\" class=\"data row3 col1\" >184</td>\n",
       "                        <td id=\"T_e8b13_row3_col2\" class=\"data row3 col2\" >71%</td>\n",
       "            </tr>\n",
       "            <tr>\n",
       "                        <th id=\"T_e8b13_level0_row4\" class=\"row_heading level0 row4\" >2014</th>\n",
       "                        <td id=\"T_e8b13_row4_col0\" class=\"data row4 col0\" >807</td>\n",
       "                        <td id=\"T_e8b13_row4_col1\" class=\"data row4 col1\" >279</td>\n",
       "                        <td id=\"T_e8b13_row4_col2\" class=\"data row4 col2\" >65%</td>\n",
       "            </tr>\n",
       "            <tr>\n",
       "                        <th id=\"T_e8b13_level0_row5\" class=\"row_heading level0 row5\" >2015</th>\n",
       "                        <td id=\"T_e8b13_row5_col0\" class=\"data row5 col0\" >705</td>\n",
       "                        <td id=\"T_e8b13_row5_col1\" class=\"data row5 col1\" >465</td>\n",
       "                        <td id=\"T_e8b13_row5_col2\" class=\"data row5 col2\" >34%</td>\n",
       "            </tr>\n",
       "            <tr>\n",
       "                        <th id=\"T_e8b13_level0_row6\" class=\"row_heading level0 row6\" >2016</th>\n",
       "                        <td id=\"T_e8b13_row6_col0\" class=\"data row6 col0\" >818</td>\n",
       "                        <td id=\"T_e8b13_row6_col1\" class=\"data row6 col1\" >526</td>\n",
       "                        <td id=\"T_e8b13_row6_col2\" class=\"data row6 col2\" >36%</td>\n",
       "            </tr>\n",
       "            <tr>\n",
       "                        <th id=\"T_e8b13_level0_row7\" class=\"row_heading level0 row7\" >2017</th>\n",
       "                        <td id=\"T_e8b13_row7_col0\" class=\"data row7 col0\" >505</td>\n",
       "                        <td id=\"T_e8b13_row7_col1\" class=\"data row7 col1\" >357</td>\n",
       "                        <td id=\"T_e8b13_row7_col2\" class=\"data row7 col2\" >29%</td>\n",
       "            </tr>\n",
       "            <tr>\n",
       "                        <th id=\"T_e8b13_level0_row8\" class=\"row_heading level0 row8\" >2018</th>\n",
       "                        <td id=\"T_e8b13_row8_col0\" class=\"data row8 col0\" >891</td>\n",
       "                        <td id=\"T_e8b13_row8_col1\" class=\"data row8 col1\" >475</td>\n",
       "                        <td id=\"T_e8b13_row8_col2\" class=\"data row8 col2\" >47%</td>\n",
       "            </tr>\n",
       "            <tr>\n",
       "                        <th id=\"T_e8b13_level0_row9\" class=\"row_heading level0 row9\" >2019</th>\n",
       "                        <td id=\"T_e8b13_row9_col0\" class=\"data row9 col0\" >930</td>\n",
       "                        <td id=\"T_e8b13_row9_col1\" class=\"data row9 col1\" >530</td>\n",
       "                        <td id=\"T_e8b13_row9_col2\" class=\"data row9 col2\" >43%</td>\n",
       "            </tr>\n",
       "    </tbody></table>"
      ],
      "text/plain": [
       "<pandas.io.formats.style.Styler at 0x7f01dcf3f640>"
      ]
     },
     "execution_count": 46,
     "metadata": {},
     "output_type": "execute_result"
    }
   ],
   "source": [
    "df.groupby('show_start_year').agg(title_count=('title','count'),\n",
    "                                  box_office_count=('box_office','count'),\n",
    "                                  box_share=('box_office', lambda x : x.isna().mean()))\\\n",
    "                             .style.format({'box_share' : '{:.0%}'})"
   ]
  },
  {
   "cell_type": "markdown",
   "metadata": {
    "id": "BEOdcIrIgFyW"
   },
   "source": [
    "- Изучите, как менялась динамика проката по годам. В каком году сумма сборов была минимальной? А максимальной?"
   ]
  },
  {
   "cell_type": "code",
   "execution_count": 47,
   "metadata": {
    "id": "tfEhofYvgFyX",
    "scrolled": true
   },
   "outputs": [
    {
     "data": {
      "text/plain": [
       "<AxesSubplot:xlabel='show_start_year'>"
      ]
     },
     "execution_count": 47,
     "metadata": {},
     "output_type": "execute_result"
    },
    {
     "data": {
      "image/png": "[encoded data removed]",
      "text/plain": [
       "<Figure size 792x432 with 1 Axes>"
      ]
     },
     "metadata": {
      "needs_background": "light"
     },
     "output_type": "display_data"
    }
   ],
   "source": [
    "df_prokat_year = df.pivot_table(index='show_start_year', values='box_office', aggfunc ='sum')\n",
    "df_prokat_year\n",
    "df_prokat_year.plot(kind='bar',grid=True, figsize=(11,6))"
   ]
  },
  {
   "cell_type": "code",
   "execution_count": 64,
   "metadata": {},
   "outputs": [
    {
     "data": {
      "text/html": [
       "<style  type=\"text/css\" >\n",
       "#T_254aa_row0_col0{\n",
       "            background-color:  lime;\n",
       "        }#T_254aa_row8_col0{\n",
       "            background-color:  orange;\n",
       "        }</style><table id=\"T_254aa_\" ><thead>    <tr>        <th class=\"blank level0\" ></th>        <th class=\"col_heading level0 col0\" >box_office</th>    </tr>    <tr>        <th class=\"index_name level0\" >show_start_year</th>        <th class=\"blank\" ></th>    </tr></thead><tbody>\n",
       "                <tr>\n",
       "                        <th id=\"T_254aa_level0_row0\" class=\"row_heading level0 row0\" >2010</th>\n",
       "                        <td id=\"T_254aa_row0_col0\" class=\"data row0 col0\" >2,428,654</td>\n",
       "            </tr>\n",
       "            <tr>\n",
       "                        <th id=\"T_254aa_level0_row1\" class=\"row_heading level0 row1\" >2011</th>\n",
       "                        <td id=\"T_254aa_row1_col0\" class=\"data row1 col0\" >14,102,765</td>\n",
       "            </tr>\n",
       "            <tr>\n",
       "                        <th id=\"T_254aa_level0_row2\" class=\"row_heading level0 row2\" >2012</th>\n",
       "                        <td id=\"T_254aa_row2_col0\" class=\"data row2 col0\" >6,955,423</td>\n",
       "            </tr>\n",
       "            <tr>\n",
       "                        <th id=\"T_254aa_level0_row3\" class=\"row_heading level0 row3\" >2013</th>\n",
       "                        <td id=\"T_254aa_row3_col0\" class=\"data row3 col0\" >29,799,706</td>\n",
       "            </tr>\n",
       "            <tr>\n",
       "                        <th id=\"T_254aa_level0_row4\" class=\"row_heading level0 row4\" >2014</th>\n",
       "                        <td id=\"T_254aa_row4_col0\" class=\"data row4 col0\" >7,444,951,859</td>\n",
       "            </tr>\n",
       "            <tr>\n",
       "                        <th id=\"T_254aa_level0_row5\" class=\"row_heading level0 row5\" >2015</th>\n",
       "                        <td id=\"T_254aa_row5_col0\" class=\"data row5 col0\" >39,497,365,196</td>\n",
       "            </tr>\n",
       "            <tr>\n",
       "                        <th id=\"T_254aa_level0_row6\" class=\"row_heading level0 row6\" >2016</th>\n",
       "                        <td id=\"T_254aa_row6_col0\" class=\"data row6 col0\" >47,866,299,742</td>\n",
       "            </tr>\n",
       "            <tr>\n",
       "                        <th id=\"T_254aa_level0_row7\" class=\"row_heading level0 row7\" >2017</th>\n",
       "                        <td id=\"T_254aa_row7_col0\" class=\"data row7 col0\" >48,563,707,218</td>\n",
       "            </tr>\n",
       "            <tr>\n",
       "                        <th id=\"T_254aa_level0_row8\" class=\"row_heading level0 row8\" >2018</th>\n",
       "                        <td id=\"T_254aa_row8_col0\" class=\"data row8 col0\" >49,668,403,134</td>\n",
       "            </tr>\n",
       "            <tr>\n",
       "                        <th id=\"T_254aa_level0_row9\" class=\"row_heading level0 row9\" >2019</th>\n",
       "                        <td id=\"T_254aa_row9_col0\" class=\"data row9 col0\" >48,425,708,780</td>\n",
       "            </tr>\n",
       "    </tbody></table>"
      ],
      "text/plain": [
       "<pandas.io.formats.style.Styler at 0x7f01e50f32b0>"
      ]
     },
     "execution_count": 64,
     "metadata": {},
     "output_type": "execute_result"
    }
   ],
   "source": [
    "df_prokat_year.style.format('{:,.0f}').highlight_min(color='lime').highlight_max(color='orange')"
   ]
  },
  {
   "cell_type": "markdown",
   "metadata": {},
   "source": [
    "С годами количество прокатов растёт. Исключением является спад в 2018 году."
   ]
  },
  {
   "cell_type": "markdown",
   "metadata": {
    "id": "G-7qS-N-gFyY"
   },
   "source": [
    "- С помощью сводной таблицы посчитайте среднюю и медианную сумму сборов для каждого года."
   ]
  },
  {
   "cell_type": "code",
   "execution_count": 49,
   "metadata": {
    "id": "jmp-rgg9gFyY"
   },
   "outputs": [
    {
     "data": {
      "text/plain": [
       "<AxesSubplot:xlabel='show_start_year'>"
      ]
     },
     "execution_count": 49,
     "metadata": {},
     "output_type": "execute_result"
    },
    {
     "data": {
      "image/png": "[encoded data removed]",
      "text/plain": [
       "<Figure size 864x432 with 1 Axes>"
      ]
     },
     "metadata": {
      "needs_background": "light"
     },
     "output_type": "display_data"
    }
   ],
   "source": [
    "df.pivot_table(index = 'show_start_year', values= 'box_office', aggfunc = ['mean','median']).plot(\n",
    "    kind='line',\n",
    "    grid=True, \n",
    "    figsize=(12, 6),\n",
    ")"
   ]
  },
  {
   "cell_type": "markdown",
   "metadata": {},
   "source": [
    "Медиана выглядит относительно ровной. Среднее значение резко растёт в 2013 году и достигает пика в 2017 году, а далее постепенно снижается. Отображённая разница в значениях средней и медианы скорее всего вызвана отсутствием информации о сборах по многим фильмам или наличием большого количества фильмов с небольшой суммой сборов."
   ]
  },
  {
   "cell_type": "markdown",
   "metadata": {
    "id": "Ok89WFwJgFyZ"
   },
   "source": [
    "- Определите, влияет ли возрастное ограничение аудитории («6+», «12+», «16+», «18+» и т. д.) на сборы фильма в прокате в период с 2015 по 2019 год? Фильмы с каким возрастным ограничением собрали больше всего денег в прокате? Меняется ли картина в зависимости от года? Если да, предположите, с чем это может быть связано."
   ]
  },
  {
   "cell_type": "code",
   "execution_count": 50,
   "metadata": {
    "id": "jsSbEqfjgFya",
    "scrolled": true
   },
   "outputs": [
    {
     "data": {
      "text/plain": [
       "<AxesSubplot:xlabel='show_start_year'>"
      ]
     },
     "execution_count": 50,
     "metadata": {},
     "output_type": "execute_result"
    },
    {
     "data": {
      "image/png": "[encoded data removed]",
      "text/plain": [
       "<Figure size 864x432 with 1 Axes>"
      ]
     },
     "metadata": {
      "needs_background": "light"
     },
     "output_type": "display_data"
    }
   ],
   "source": [
    "df.pivot_table(index = 'show_start_year', columns='age_restriction', values= 'box_office', aggfunc = 'sum').plot(\n",
    "    kind='line',\n",
    "    grid=True, \n",
    "    figsize=(12, 6),\n",
    "    xlim = [2015,2019]\n",
    ")"
   ]
  },
  {
   "cell_type": "markdown",
   "metadata": {},
   "source": [
    "На графике можем наблюдать влияние возрастного ограничения на кассовые сборы. Больше всех собирают фильмы с ограничением 16+,12+,6+. Меньше всех собирают фильмы с ограничениями 0+ и 18+."
   ]
  },
  {
   "cell_type": "code",
   "execution_count": 51,
   "metadata": {
    "scrolled": true
   },
   "outputs": [
    {
     "data": {
      "text/plain": [
       "<AxesSubplot:xlabel='show_start_year'>"
      ]
     },
     "execution_count": 51,
     "metadata": {},
     "output_type": "execute_result"
    },
    {
     "data": {
      "image/png": "[encoded data removed]",
      "text/plain": [
       "<Figure size 2250x900 with 1 Axes>"
      ]
     },
     "metadata": {
      "needs_background": "light"
     },
     "output_type": "display_data"
    }
   ],
   "source": [
    "import matplotlib.ticker as ticker\n",
    "\n",
    "fig, ax = plt.subplots(figsize=(15,6), dpi=150)\n",
    "\n",
    "df[df['show_start_year'] >= 2015].pivot_table(index = 'show_start_year', columns='age_restriction', values= 'box_office', aggfunc = 'sum').plot(\n",
    "    kind='bar',\n",
    "    grid=True, \n",
    "    ax=ax\n",
    ")\n",
    "\n"
   ]
  },
  {
   "cell_type": "code",
   "execution_count": 52,
   "metadata": {},
   "outputs": [
    {
     "data": {
      "image/png": "[encoded data removed]",
      "text/plain": [
       "<Figure size 864x432 with 1 Axes>"
      ]
     },
     "metadata": {
      "needs_background": "light"
     },
     "output_type": "display_data"
    }
   ],
   "source": [
    "ax = df.pivot_table(index = 'show_start_year', columns='age_restriction', values= 'box_office', aggfunc = 'sum').plot(\n",
    "    kind='line',\n",
    "    grid=True, \n",
    "    figsize=(12, 6),\n",
    "    xlim = [2015,2019]\n",
    ")\n",
    "\n",
    "ax.xaxis.set_major_locator(ticker.MultipleLocator(1))"
   ]
  },
  {
   "cell_type": "markdown",
   "metadata": {
    "id": "l_Kg6Ku4gFya"
   },
   "source": [
    "### Шаг 4. Исследуйте фильмы, которые получили государственную поддержку\n",
    "\n",
    "На этом этапе нет конкретных инструкций и заданий — поищите интересные закономерности в данных. Посмотрите, сколько выделяют средств на поддержку кино. Проверьте, хорошо ли окупаются такие фильмы, какой у них рейтинг."
   ]
  },
  {
   "cell_type": "markdown",
   "metadata": {
    "id": "W9QKpjUdgFyb"
   },
   "source": [
    "Рассмотрим число фильмов, которые снимаются на бюджетные деньги."
   ]
  },
  {
   "cell_type": "code",
   "execution_count": 53,
   "metadata": {},
   "outputs": [],
   "source": [
    "df['budget_support'] = df['refundable_support'] + df['nonrefundable_support']\n",
    "# Создадим новый столбец 'budget_support' с информацией об итоговой сумме госфинансирования"
   ]
  },
  {
   "cell_type": "code",
   "execution_count": 54,
   "metadata": {},
   "outputs": [
    {
     "data": {
      "text/plain": [
       "<AxesSubplot:xlabel='main_genre'>"
      ]
     },
     "execution_count": 54,
     "metadata": {},
     "output_type": "execute_result"
    },
    {
     "data": {
      "image/png": "[encoded data removed]",
      "text/plain": [
       "<Figure size 864x432 with 1 Axes>"
      ]
     },
     "metadata": {
      "needs_background": "light"
     },
     "output_type": "display_data"
    }
   ],
   "source": [
    "df.groupby('main_genre').agg('sum').sort_values(by='budget_support').plot(\n",
    "    kind='bar',\n",
    "    grid=True, \n",
    "    figsize=(12, 6),\n",
    "    stacked=True,\n",
    "    y=['refundable_support', 'nonrefundable_support'],\n",
    ")"
   ]
  },
  {
   "cell_type": "markdown",
   "metadata": {},
   "source": [
    "Фильмов с невозвратной поддержкой гораздо больше, чем с возвратной. Исключением являются мюзиклы, но их в целом не так много."
   ]
  },
  {
   "cell_type": "code",
   "execution_count": 55,
   "metadata": {
    "scrolled": true
   },
   "outputs": [
    {
     "data": {
      "image/png": "[encoded data removed]",
      "text/plain": [
       "<Figure size 1800x900 with 1 Axes>"
      ]
     },
     "metadata": {
      "needs_background": "light"
     },
     "output_type": "display_data"
    }
   ],
   "source": [
    "fig, ax = plt.subplots(figsize=(15,6), dpi=150)\n",
    "\n",
    "df.groupby('main_genre').agg('sum').sort_values(by='budget_support').plot(\n",
    "    kind='bar',\n",
    "    grid=True, \n",
    "    figsize=(12, 6),\n",
    "    stacked=True,\n",
    "    y=['refundable_support', 'nonrefundable_support'],\n",
    "    ax=ax\n",
    ")\n",
    "\n",
    "ax.yaxis.set_major_formatter(ticker.FuncFormatter(lambda x, pos : '{:,.0f}'.format(x)))"
   ]
  },
  {
   "cell_type": "markdown",
   "metadata": {},
   "source": [
    "Посмотрим как распределяется рейтинг между разными жанрами кино."
   ]
  },
  {
   "cell_type": "code",
   "execution_count": 56,
   "metadata": {},
   "outputs": [
    {
     "data": {
      "image/png": "[encoded data removed]",
      "text/plain": [
       "<Figure size 1000x400 with 1 Axes>"
      ]
     },
     "metadata": {
      "needs_background": "light"
     },
     "output_type": "display_data"
    }
   ],
   "source": [
    "df_rai = df.query('refundable_support > 0 or nonrefundable_support > 0')\n",
    "\n",
    "fig, ax = plt.subplots(figsize=(10,4), dpi=100)\n",
    "\n",
    "df_rai.groupby('main_genre').agg('median').sort_values(by='budget_support').plot(\n",
    "    kind='bar',\n",
    "    grid=True, \n",
    "    figsize=(10, 4),\n",
    "    stacked=True,\n",
    "    y=['ratings'],\n",
    "    ax=ax\n",
    ")\n",
    "\n",
    "ax.yaxis.set_major_formatter(ticker.FuncFormatter(lambda x, pos : '{:,.0f}'.format(x)))\n"
   ]
  },
  {
   "cell_type": "markdown",
   "metadata": {},
   "source": [
    "Наивысшая оценка рейтинга у фильмов с государственной поддержкой в жарнах: криминал, детский и спорт. Наименьшая оценка рейтинга у фильмов с государственной поддержкой в жарнах: семейный и ужасы."
   ]
  },
  {
   "cell_type": "code",
   "execution_count": 71,
   "metadata": {},
   "outputs": [
    {
     "data": {
      "text/plain": [
       "<AxesSubplot:xlabel='main_genre'>"
      ]
     },
     "execution_count": 71,
     "metadata": {},
     "output_type": "execute_result"
    },
    {
     "data": {
      "image/png": "[encoded data removed]",
      "text/plain": [
       "<Figure size 2250x900 with 1 Axes>"
      ]
     },
     "metadata": {
      "needs_background": "light"
     },
     "output_type": "display_data"
    }
   ],
   "source": [
    "fig, ax = plt.subplots(figsize=(15,6), dpi=150)\n",
    "df.pivot_table(index='main_genre', columns=df['financing_source'].isna(), values='ratings', aggfunc='median').plot(kind='bar', ax=ax)\n"
   ]
  },
  {
   "cell_type": "markdown",
   "metadata": {},
   "source": [
    "Посмотрим окупаемость фильмов."
   ]
  },
  {
   "cell_type": "code",
   "execution_count": 57,
   "metadata": {},
   "outputs": [
    {
     "data": {
      "text/plain": [
       "<AxesSubplot:xlabel='main_genre'>"
      ]
     },
     "execution_count": 57,
     "metadata": {},
     "output_type": "execute_result"
    },
    {
     "data": {
      "image/png": "[encoded data removed]",
      "text/plain": [
       "<Figure size 864x432 with 1 Axes>"
      ]
     },
     "metadata": {
      "needs_background": "light"
     },
     "output_type": "display_data"
    }
   ],
   "source": [
    "df['profit'] = df['box_office'] - df['budget']\n",
    "# Столбец `profit` с информацией о прибыле фильма\n",
    "df.groupby('main_genre').agg('mean').sort_values(by='budget').plot(\n",
    "    kind='bar',\n",
    "    grid=True, \n",
    "    figsize=(12, 6),\n",
    "    stacked=True,\n",
    "    y='profit',\n",
    ")"
   ]
  },
  {
   "cell_type": "code",
   "execution_count": 74,
   "metadata": {},
   "outputs": [
    {
     "data": {
      "text/html": [
       "<div>\n",
       "<style scoped>\n",
       "    .dataframe tbody tr th:only-of-type {\n",
       "        vertical-align: middle;\n",
       "    }\n",
       "\n",
       "    .dataframe tbody tr th {\n",
       "        vertical-align: top;\n",
       "    }\n",
       "\n",
       "    .dataframe thead th {\n",
       "        text-align: right;\n",
       "    }\n",
       "</style>\n",
       "<table border=\"1\" class=\"dataframe\">\n",
       "  <thead>\n",
       "    <tr style=\"text-align: right;\">\n",
       "      <th></th>\n",
       "      <th>title</th>\n",
       "      <th>puNumber</th>\n",
       "      <th>show_start_date</th>\n",
       "      <th>type</th>\n",
       "      <th>film_studio</th>\n",
       "      <th>production_country</th>\n",
       "      <th>director</th>\n",
       "      <th>producer</th>\n",
       "      <th>age_restriction</th>\n",
       "      <th>refundable_support</th>\n",
       "      <th>...</th>\n",
       "      <th>ratings</th>\n",
       "      <th>genres</th>\n",
       "      <th>box_office</th>\n",
       "      <th>show_start_year</th>\n",
       "      <th>main_director</th>\n",
       "      <th>main_genre</th>\n",
       "      <th>gos_share</th>\n",
       "      <th>budget_support</th>\n",
       "      <th>profit</th>\n",
       "      <th>payback_percent</th>\n",
       "    </tr>\n",
       "  </thead>\n",
       "  <tbody>\n",
       "    <tr>\n",
       "      <th>7456</th>\n",
       "      <td>Холоп</td>\n",
       "      <td>111021719</td>\n",
       "      <td>2019-12-19 12:00:00+00:00</td>\n",
       "      <td>художественный</td>\n",
       "      <td>ооо \"мем-медиа\" по заказу ао \"вбд груп\"</td>\n",
       "      <td>россия</td>\n",
       "      <td>К.Шипенко</td>\n",
       "      <td>Э.Илоян, Д.Жалинский, В.Дусмухаметов, Т.Бадзие...</td>\n",
       "      <td>«12+» - для детей старше 12 лет</td>\n",
       "      <td>25000000.0</td>\n",
       "      <td>...</td>\n",
       "      <td>6.8</td>\n",
       "      <td>комедия</td>\n",
       "      <td>3.073569e+09</td>\n",
       "      <td>2019</td>\n",
       "      <td>К.Шипенко</td>\n",
       "      <td>комедия</td>\n",
       "      <td>37.5</td>\n",
       "      <td>60000000.0</td>\n",
       "      <td>2.913569e+09</td>\n",
       "      <td>19.209804</td>\n",
       "    </tr>\n",
       "    <tr>\n",
       "      <th>7485</th>\n",
       "      <td>Машины песенки. Серия \"Когда цветут кактусы\"</td>\n",
       "      <td>124010719</td>\n",
       "      <td>2019-12-30 12:00:00+00:00</td>\n",
       "      <td>анимационный</td>\n",
       "      <td>анимаккорд лтд., ооо студия \"анимаккорд\"</td>\n",
       "      <td>республика кипр, россия</td>\n",
       "      <td>И.Трусов</td>\n",
       "      <td>Д.Ловейко</td>\n",
       "      <td>«0+» - для любой зрительской аудитории</td>\n",
       "      <td>NaN</td>\n",
       "      <td>...</td>\n",
       "      <td>6.3</td>\n",
       "      <td>комедия,вестерн</td>\n",
       "      <td>NaN</td>\n",
       "      <td>2019</td>\n",
       "      <td>И.Трусов</td>\n",
       "      <td>комедия</td>\n",
       "      <td>NaN</td>\n",
       "      <td>NaN</td>\n",
       "      <td>NaN</td>\n",
       "      <td>NaN</td>\n",
       "    </tr>\n",
       "  </tbody>\n",
       "</table>\n",
       "<p>2 rows × 23 columns</p>\n",
       "</div>"
      ],
      "text/plain": [
       "                                             title   puNumber  \\\n",
       "7456                                         Холоп  111021719   \n",
       "7485  Машины песенки. Серия \"Когда цветут кактусы\"  124010719   \n",
       "\n",
       "               show_start_date            type  \\\n",
       "7456 2019-12-19 12:00:00+00:00  художественный   \n",
       "7485 2019-12-30 12:00:00+00:00    анимационный   \n",
       "\n",
       "                                   film_studio       production_country  \\\n",
       "7456   ооо \"мем-медиа\" по заказу ао \"вбд груп\"                   россия   \n",
       "7485  анимаккорд лтд., ооо студия \"анимаккорд\"  республика кипр, россия   \n",
       "\n",
       "       director                                           producer  \\\n",
       "7456  К.Шипенко  Э.Илоян, Д.Жалинский, В.Дусмухаметов, Т.Бадзие...   \n",
       "7485   И.Трусов                                          Д.Ловейко   \n",
       "\n",
       "                             age_restriction  refundable_support  ...  \\\n",
       "7456         «12+» - для детей старше 12 лет          25000000.0  ...   \n",
       "7485  «0+» - для любой зрительской аудитории                 NaN  ...   \n",
       "\n",
       "      ratings           genres    box_office  show_start_year main_director  \\\n",
       "7456      6.8          комедия  3.073569e+09             2019     К.Шипенко   \n",
       "7485      6.3  комедия,вестерн           NaN             2019      И.Трусов   \n",
       "\n",
       "      main_genre  gos_share budget_support        profit  payback_percent  \n",
       "7456     комедия       37.5     60000000.0  2.913569e+09        19.209804  \n",
       "7485     комедия        NaN            NaN           NaN              NaN  \n",
       "\n",
       "[2 rows x 23 columns]"
      ]
     },
     "execution_count": 74,
     "metadata": {},
     "output_type": "execute_result"
    }
   ],
   "source": [
    "df['payback_percent'] = df['box_office'] / df['budget']\n",
    "\n",
    "# Вот самые окупившиеся фильмы (и неокупившиеся)\n",
    "\n",
    "df.sort_values(by='payback_percent', ascending=False).iloc[[0,-1]]"
   ]
  },
  {
   "cell_type": "markdown",
   "metadata": {},
   "source": [
    "Окупаются только фильмы в жанрах: спорт, фантастика, комедия и ужасы. Видимо всем и правда так не хватает эмоций, что хочется за кого-то поболеть, посмеяться, попугаться и нафантазировать себе прекрасный мир. Но это опять таки не точно "
   ]
  },
  {
   "cell_type": "markdown",
   "metadata": {
    "id": "V2gYwMcPgFyd"
   },
   "source": [
    "### Шаг 5. Напишите общий вывод"
   ]
  },
  {
   "cell_type": "markdown",
   "metadata": {
    "id": "AYRg3dzXgFye"
   },
   "source": [
    "Изучен рынок кинопроката фильмов.  \n",
    "Проведена предобработка данных.  \n",
    "Выявлена общая проблема в столбцах с категориальными значениями. Она связана с лишними знаками препинания и пробелами, разный регистр и сокращённые имена режисёров.  \n",
    "Добавлены столбцы согласно ТЗ.  \n",
    "В процессе анализа сделаны следующие выводы:  \n",
    "Сумма сборов с годами растёт. Однако наблюдается спад сборов в 2018 и 2019 годах.  \n",
    "С годами количество прокатов растёт. Исключением является спад в 2018 году.  \n",
    "Медиана выглядит относительно ровной. Среднее значение резко растёт в 2013 году и достигает пика в 2017 году, а далее постепенно снижается. Отображённая разница в значениях средней и медианы скорее всего вызвана отсутствием информации о сборах по многим фильмам или наличием большого количества фильмов с небольшой суммой сборов.  \n",
    "Наблюдаем влияние возрастного ограничения на кассовые сборы. Больше всех собирают фильмы с ограничением 16+,12+,6+. Меньше всех собирают фильмы с ограничениями 0+ и 18+.  \n",
    "Фильмов с невозвратной поддержкой гораздо больше, чем с возвратной. Исключением являются мюзиклы, но их в целом не так много.  \n",
    "Наивысшая оценка рейтинга у фильмов с государственной поддержкой в жарнах: криминал, детский и спорт. Наименьшая оценка рейтинга у фильмов с государственной поддержкой в жарнах: семейный и ужасы.  \n",
    "Окупаются только фильмы в жанрах: спорт, фантастика, комедия и ужасы. Видимо всем и правда так не хватает эмоций, что хочется за кого-то поболеть, посмеяться, попугаться и нафантазировать себе прекрасный мир."
   ]
  }
 ],
 "metadata": {
  "ExecuteTimeLog": [
   {
    "duration": 537,
    "start_time": "2021-07-07T10:12:08.634Z"
   },
   {
    "duration": 206,
    "start_time": "2021-07-07T10:12:30.191Z"
   },
   {
    "duration": 227,
    "start_time": "2021-07-07T10:12:33.078Z"
   },
   {
    "duration": 153,
    "start_time": "2021-07-07T10:13:42.146Z"
   },
   {
    "duration": 233,
    "start_time": "2021-07-07T10:30:09.252Z"
   },
   {
    "duration": 19,
    "start_time": "2021-07-07T10:30:15.577Z"
   },
   {
    "duration": 18,
    "start_time": "2021-07-07T10:30:57.348Z"
   },
   {
    "duration": 19,
    "start_time": "2021-07-07T10:31:17.452Z"
   },
   {
    "duration": 21,
    "start_time": "2021-07-07T10:31:32.227Z"
   },
   {
    "duration": 27,
    "start_time": "2021-07-07T10:32:06.588Z"
   },
   {
    "duration": 23,
    "start_time": "2021-07-07T10:32:43.645Z"
   },
   {
    "duration": 24,
    "start_time": "2021-07-07T10:33:06.948Z"
   },
   {
    "duration": 7,
    "start_time": "2021-07-07T10:33:28.558Z"
   },
   {
    "duration": 23,
    "start_time": "2021-07-07T10:33:43.761Z"
   },
   {
    "duration": 28,
    "start_time": "2021-07-07T10:34:13.466Z"
   },
   {
    "duration": 23,
    "start_time": "2021-07-07T10:35:56.187Z"
   },
   {
    "duration": 6,
    "start_time": "2021-07-07T10:36:48.182Z"
   },
   {
    "duration": 14,
    "start_time": "2021-07-07T10:37:49.641Z"
   },
   {
    "duration": 6,
    "start_time": "2021-07-07T10:38:06.694Z"
   },
   {
    "duration": 6,
    "start_time": "2021-07-07T10:38:13.493Z"
   },
   {
    "duration": 19,
    "start_time": "2021-07-07T10:38:44.056Z"
   },
   {
    "duration": 186,
    "start_time": "2021-07-07T10:48:35.618Z"
   },
   {
    "duration": 24,
    "start_time": "2021-07-07T10:48:51.498Z"
   },
   {
    "duration": 20,
    "start_time": "2021-07-07T10:48:59.415Z"
   },
   {
    "duration": 20,
    "start_time": "2021-07-07T10:53:02.195Z"
   },
   {
    "duration": 188,
    "start_time": "2021-07-07T10:54:40.486Z"
   },
   {
    "duration": 115,
    "start_time": "2021-07-07T10:54:52.552Z"
   },
   {
    "duration": 214,
    "start_time": "2021-07-07T10:54:56.354Z"
   },
   {
    "duration": 47,
    "start_time": "2021-07-07T10:54:58.282Z"
   },
   {
    "duration": 217,
    "start_time": "2021-07-07T10:59:16.075Z"
   },
   {
    "duration": 51,
    "start_time": "2021-07-07T10:59:16.243Z"
   },
   {
    "duration": 578,
    "start_time": "2021-07-07T10:59:18.774Z"
   },
   {
    "duration": 161,
    "start_time": "2021-07-07T10:59:21.238Z"
   },
   {
    "duration": 59,
    "start_time": "2021-07-07T10:59:21.453Z"
   },
   {
    "duration": 3,
    "start_time": "2021-07-07T11:02:10.786Z"
   },
   {
    "duration": 13,
    "start_time": "2021-07-07T11:07:07.722Z"
   },
   {
    "duration": 26,
    "start_time": "2021-07-07T11:07:17.958Z"
   },
   {
    "duration": 22,
    "start_time": "2021-07-07T11:08:17.939Z"
   },
   {
    "duration": 212,
    "start_time": "2021-07-07T11:08:19.665Z"
   },
   {
    "duration": 21,
    "start_time": "2021-07-07T11:08:29.945Z"
   },
   {
    "duration": 31,
    "start_time": "2021-07-07T11:08:38.899Z"
   },
   {
    "duration": 23,
    "start_time": "2021-07-07T11:08:54.527Z"
   },
   {
    "duration": 8,
    "start_time": "2021-07-07T11:18:55.974Z"
   },
   {
    "duration": 7,
    "start_time": "2021-07-07T11:19:03.639Z"
   },
   {
    "duration": 7,
    "start_time": "2021-07-07T11:19:06.444Z"
   },
   {
    "duration": 578,
    "start_time": "2021-07-07T12:09:59.576Z"
   },
   {
    "duration": 195,
    "start_time": "2021-07-07T12:10:00.156Z"
   },
   {
    "duration": 115,
    "start_time": "2021-07-07T12:10:00.353Z"
   },
   {
    "duration": 3,
    "start_time": "2021-07-07T12:10:00.470Z"
   },
   {
    "duration": 32,
    "start_time": "2021-07-07T12:10:00.474Z"
   },
   {
    "duration": 23,
    "start_time": "2021-07-07T12:10:00.508Z"
   },
   {
    "duration": 19,
    "start_time": "2021-07-07T12:10:00.533Z"
   },
   {
    "duration": 44,
    "start_time": "2021-07-07T12:10:00.553Z"
   },
   {
    "duration": 7,
    "start_time": "2021-07-07T12:10:00.600Z"
   },
   {
    "duration": 7,
    "start_time": "2021-07-07T12:19:45.761Z"
   },
   {
    "duration": 21,
    "start_time": "2021-07-07T12:21:35.482Z"
   },
   {
    "duration": 21,
    "start_time": "2021-07-07T12:29:23.569Z"
   },
   {
    "duration": 525,
    "start_time": "2021-07-07T12:29:44.542Z"
   },
   {
    "duration": 214,
    "start_time": "2021-07-07T12:29:45.069Z"
   },
   {
    "duration": 92,
    "start_time": "2021-07-07T12:29:45.285Z"
   },
   {
    "duration": 3,
    "start_time": "2021-07-07T12:29:45.379Z"
   },
   {
    "duration": 28,
    "start_time": "2021-07-07T12:29:45.384Z"
   },
   {
    "duration": 23,
    "start_time": "2021-07-07T12:29:45.413Z"
   },
   {
    "duration": 21,
    "start_time": "2021-07-07T12:29:45.437Z"
   },
   {
    "duration": 41,
    "start_time": "2021-07-07T12:29:45.460Z"
   },
   {
    "duration": 7,
    "start_time": "2021-07-07T12:29:45.502Z"
   },
   {
    "duration": 20,
    "start_time": "2021-07-07T12:29:45.511Z"
   },
   {
    "duration": 12,
    "start_time": "2021-07-07T12:34:02.800Z"
   },
   {
    "duration": 7,
    "start_time": "2021-07-07T12:35:10.479Z"
   },
   {
    "duration": 8,
    "start_time": "2021-07-07T12:35:22.440Z"
   },
   {
    "duration": 6,
    "start_time": "2021-07-07T12:35:35.649Z"
   },
   {
    "duration": 6,
    "start_time": "2021-07-07T12:35:43.107Z"
   },
   {
    "duration": 22,
    "start_time": "2021-07-07T12:38:03.029Z"
   },
   {
    "duration": 10,
    "start_time": "2021-07-07T12:38:06.592Z"
   },
   {
    "duration": 563,
    "start_time": "2021-07-07T12:38:46.493Z"
   },
   {
    "duration": 265,
    "start_time": "2021-07-07T12:38:47.058Z"
   },
   {
    "duration": 94,
    "start_time": "2021-07-07T12:38:47.325Z"
   },
   {
    "duration": 3,
    "start_time": "2021-07-07T12:38:47.422Z"
   },
   {
    "duration": 30,
    "start_time": "2021-07-07T12:38:47.427Z"
   },
   {
    "duration": 16,
    "start_time": "2021-07-07T12:38:53.305Z"
   },
   {
    "duration": 10,
    "start_time": "2021-07-07T12:38:53.499Z"
   },
   {
    "duration": 8,
    "start_time": "2021-07-07T12:39:48.161Z"
   },
   {
    "duration": 27,
    "start_time": "2021-07-07T12:41:17.629Z"
   },
   {
    "duration": 17,
    "start_time": "2021-07-07T12:41:17.867Z"
   },
   {
    "duration": 21,
    "start_time": "2021-07-07T12:41:19.310Z"
   },
   {
    "duration": 7,
    "start_time": "2021-07-07T12:41:19.544Z"
   },
   {
    "duration": 20,
    "start_time": "2021-07-07T12:41:20.504Z"
   },
   {
    "duration": 554,
    "start_time": "2021-07-07T12:56:23.696Z"
   },
   {
    "duration": 200,
    "start_time": "2021-07-07T12:56:25.234Z"
   },
   {
    "duration": 119,
    "start_time": "2021-07-07T12:56:25.480Z"
   },
   {
    "duration": 4,
    "start_time": "2021-07-07T12:56:25.762Z"
   },
   {
    "duration": 26,
    "start_time": "2021-07-07T12:56:27.172Z"
   },
   {
    "duration": 12,
    "start_time": "2021-07-07T12:56:29.051Z"
   },
   {
    "duration": 10,
    "start_time": "2021-07-07T12:56:29.291Z"
   },
   {
    "duration": 8,
    "start_time": "2021-07-07T12:56:29.623Z"
   },
   {
    "duration": 28,
    "start_time": "2021-07-07T12:56:32.137Z"
   },
   {
    "duration": 19,
    "start_time": "2021-07-07T12:56:39.785Z"
   },
   {
    "duration": 20,
    "start_time": "2021-07-07T12:56:44.297Z"
   },
   {
    "duration": 7,
    "start_time": "2021-07-07T12:56:45.392Z"
   },
   {
    "duration": 23,
    "start_time": "2021-07-07T12:56:46.615Z"
   },
   {
    "duration": 4,
    "start_time": "2021-07-07T12:57:06.625Z"
   },
   {
    "duration": 32,
    "start_time": "2021-07-07T12:57:36.690Z"
   },
   {
    "duration": 18,
    "start_time": "2021-07-07T12:58:00.149Z"
   },
   {
    "duration": 15,
    "start_time": "2021-07-07T12:59:16.793Z"
   },
   {
    "duration": 7,
    "start_time": "2021-07-07T13:19:22.624Z"
   },
   {
    "duration": 6,
    "start_time": "2021-07-07T14:17:33.527Z"
   },
   {
    "duration": 9,
    "start_time": "2021-07-07T14:17:48.409Z"
   },
   {
    "duration": 8,
    "start_time": "2021-07-07T14:20:13.060Z"
   },
   {
    "duration": 8,
    "start_time": "2021-07-07T14:20:37.957Z"
   },
   {
    "duration": 8,
    "start_time": "2021-07-07T14:20:47.470Z"
   },
   {
    "duration": 9,
    "start_time": "2021-07-07T14:20:54.503Z"
   },
   {
    "duration": 10,
    "start_time": "2021-07-07T14:28:57.763Z"
   },
   {
    "duration": 3,
    "start_time": "2021-07-07T14:30:23.377Z"
   },
   {
    "duration": 3,
    "start_time": "2021-07-07T14:30:36.489Z"
   },
   {
    "duration": 103,
    "start_time": "2021-07-07T14:30:52.351Z"
   },
   {
    "duration": 8,
    "start_time": "2021-07-07T14:30:54.763Z"
   },
   {
    "duration": 8,
    "start_time": "2021-07-07T14:31:29.301Z"
   },
   {
    "duration": 13,
    "start_time": "2021-07-07T14:31:44.516Z"
   },
   {
    "duration": 7,
    "start_time": "2021-07-07T14:33:10.972Z"
   },
   {
    "duration": 11,
    "start_time": "2021-07-07T14:33:27.780Z"
   },
   {
    "duration": 8,
    "start_time": "2021-07-07T14:34:44.588Z"
   },
   {
    "duration": 57,
    "start_time": "2021-07-07T14:35:59.042Z"
   },
   {
    "duration": 3,
    "start_time": "2021-07-07T14:36:28.168Z"
   },
   {
    "duration": 5,
    "start_time": "2021-07-07T14:36:46.254Z"
   },
   {
    "duration": 4,
    "start_time": "2021-07-07T14:36:52.714Z"
   },
   {
    "duration": 3,
    "start_time": "2021-07-07T14:36:56.612Z"
   },
   {
    "duration": 4,
    "start_time": "2021-07-07T14:36:57.049Z"
   },
   {
    "duration": 3,
    "start_time": "2021-07-07T14:39:21.214Z"
   },
   {
    "duration": 7,
    "start_time": "2021-07-07T14:39:52.406Z"
   },
   {
    "duration": 11,
    "start_time": "2021-07-07T14:39:58.576Z"
   },
   {
    "duration": 9,
    "start_time": "2021-07-07T14:40:26.301Z"
   },
   {
    "duration": 10,
    "start_time": "2021-07-07T14:40:31.704Z"
   },
   {
    "duration": 11,
    "start_time": "2021-07-07T14:40:36.249Z"
   },
   {
    "duration": 10,
    "start_time": "2021-07-07T14:40:39.783Z"
   },
   {
    "duration": 9,
    "start_time": "2021-07-07T14:40:48.558Z"
   },
   {
    "duration": 10,
    "start_time": "2021-07-07T14:40:57.143Z"
   },
   {
    "duration": 9,
    "start_time": "2021-07-07T14:41:06.074Z"
   },
   {
    "duration": 4324,
    "start_time": "2021-07-07T14:41:22.004Z"
   },
   {
    "duration": 11,
    "start_time": "2021-07-07T14:41:33.392Z"
   },
   {
    "duration": 9,
    "start_time": "2021-07-07T14:41:39.288Z"
   },
   {
    "duration": 569,
    "start_time": "2021-07-07T14:42:14.387Z"
   },
   {
    "duration": 197,
    "start_time": "2021-07-07T14:42:14.959Z"
   },
   {
    "duration": 84,
    "start_time": "2021-07-07T14:42:16.052Z"
   },
   {
    "duration": 4,
    "start_time": "2021-07-07T14:42:16.900Z"
   },
   {
    "duration": 27,
    "start_time": "2021-07-07T14:42:19.898Z"
   },
   {
    "duration": 12,
    "start_time": "2021-07-07T14:42:21.577Z"
   },
   {
    "duration": 9,
    "start_time": "2021-07-07T14:42:21.813Z"
   },
   {
    "duration": 9,
    "start_time": "2021-07-07T14:42:22.569Z"
   },
   {
    "duration": 29,
    "start_time": "2021-07-07T14:42:25.837Z"
   },
   {
    "duration": 20,
    "start_time": "2021-07-07T14:42:27.003Z"
   },
   {
    "duration": 21,
    "start_time": "2021-07-07T14:42:28.767Z"
   },
   {
    "duration": 7,
    "start_time": "2021-07-07T14:42:29.838Z"
   },
   {
    "duration": 4,
    "start_time": "2021-07-07T14:43:25.493Z"
   },
   {
    "duration": 7,
    "start_time": "2021-07-07T14:43:26.573Z"
   },
   {
    "duration": 10,
    "start_time": "2021-07-07T14:43:31.639Z"
   },
   {
    "duration": 9,
    "start_time": "2021-07-07T14:43:32.046Z"
   },
   {
    "duration": 10,
    "start_time": "2021-07-07T14:43:33.301Z"
   },
   {
    "duration": 12,
    "start_time": "2021-07-07T14:43:33.658Z"
   },
   {
    "duration": 8,
    "start_time": "2021-07-07T14:43:34.552Z"
   },
   {
    "duration": 9,
    "start_time": "2021-07-07T14:43:35.058Z"
   },
   {
    "duration": 12,
    "start_time": "2021-07-07T14:43:35.914Z"
   },
   {
    "duration": 17,
    "start_time": "2021-07-07T14:45:34.368Z"
   },
   {
    "duration": 512,
    "start_time": "2021-07-07T14:51:58.236Z"
   },
   {
    "duration": 223,
    "start_time": "2021-07-07T14:51:58.750Z"
   },
   {
    "duration": 93,
    "start_time": "2021-07-07T14:51:58.977Z"
   },
   {
    "duration": 4,
    "start_time": "2021-07-07T14:51:59.071Z"
   },
   {
    "duration": 37,
    "start_time": "2021-07-07T14:51:59.077Z"
   },
   {
    "duration": 18,
    "start_time": "2021-07-07T14:51:59.116Z"
   },
   {
    "duration": 10,
    "start_time": "2021-07-07T14:51:59.137Z"
   },
   {
    "duration": 8,
    "start_time": "2021-07-07T14:51:59.149Z"
   },
   {
    "duration": 54,
    "start_time": "2021-07-07T14:51:59.158Z"
   },
   {
    "duration": 18,
    "start_time": "2021-07-07T14:51:59.213Z"
   },
   {
    "duration": 22,
    "start_time": "2021-07-07T14:51:59.232Z"
   },
   {
    "duration": 36,
    "start_time": "2021-07-07T14:51:59.255Z"
   },
   {
    "duration": 7,
    "start_time": "2021-07-07T14:51:59.293Z"
   },
   {
    "duration": 10,
    "start_time": "2021-07-07T14:51:59.302Z"
   },
   {
    "duration": 9,
    "start_time": "2021-07-07T14:51:59.313Z"
   },
   {
    "duration": 11,
    "start_time": "2021-07-07T14:51:59.324Z"
   },
   {
    "duration": 8,
    "start_time": "2021-07-07T14:51:59.337Z"
   },
   {
    "duration": 46,
    "start_time": "2021-07-07T14:51:59.347Z"
   },
   {
    "duration": 22,
    "start_time": "2021-07-07T14:51:59.395Z"
   },
   {
    "duration": 24,
    "start_time": "2021-07-07T14:57:32.911Z"
   },
   {
    "duration": 7,
    "start_time": "2021-07-07T14:58:22.070Z"
   },
   {
    "duration": 4,
    "start_time": "2021-07-07T14:59:11.239Z"
   },
   {
    "duration": 25,
    "start_time": "2021-07-07T15:07:22.208Z"
   },
   {
    "duration": 16,
    "start_time": "2021-07-07T15:08:25.560Z"
   },
   {
    "duration": 15,
    "start_time": "2021-07-07T15:08:40.647Z"
   },
   {
    "duration": 14,
    "start_time": "2021-07-07T15:08:46.669Z"
   },
   {
    "duration": 533,
    "start_time": "2021-07-07T15:18:07.440Z"
   },
   {
    "duration": 173,
    "start_time": "2021-07-07T15:18:07.974Z"
   },
   {
    "duration": 84,
    "start_time": "2021-07-07T15:18:08.149Z"
   },
   {
    "duration": 3,
    "start_time": "2021-07-07T15:18:08.235Z"
   },
   {
    "duration": 30,
    "start_time": "2021-07-07T15:18:08.240Z"
   },
   {
    "duration": 22,
    "start_time": "2021-07-07T15:18:08.272Z"
   },
   {
    "duration": 11,
    "start_time": "2021-07-07T15:18:08.295Z"
   },
   {
    "duration": 11,
    "start_time": "2021-07-07T15:18:08.309Z"
   },
   {
    "duration": 40,
    "start_time": "2021-07-07T15:18:08.322Z"
   },
   {
    "duration": 42,
    "start_time": "2021-07-07T15:18:08.364Z"
   },
   {
    "duration": 22,
    "start_time": "2021-07-07T15:18:08.408Z"
   },
   {
    "duration": 5,
    "start_time": "2021-07-07T15:18:08.432Z"
   },
   {
    "duration": 13,
    "start_time": "2021-07-07T15:18:08.439Z"
   },
   {
    "duration": 9,
    "start_time": "2021-07-07T15:18:08.454Z"
   },
   {
    "duration": 32,
    "start_time": "2021-07-07T15:18:08.465Z"
   },
   {
    "duration": 10,
    "start_time": "2021-07-07T15:18:08.501Z"
   },
   {
    "duration": 7,
    "start_time": "2021-07-07T15:18:08.513Z"
   },
   {
    "duration": 11,
    "start_time": "2021-07-07T15:18:08.521Z"
   },
   {
    "duration": 17,
    "start_time": "2021-07-07T15:18:08.534Z"
   },
   {
    "duration": 44,
    "start_time": "2021-07-07T15:18:08.553Z"
   },
   {
    "duration": 22,
    "start_time": "2021-07-07T15:18:08.599Z"
   },
   {
    "duration": 61,
    "start_time": "2021-07-07T15:18:08.622Z"
   },
   {
    "duration": 7,
    "start_time": "2021-07-07T15:18:39.457Z"
   },
   {
    "duration": 5,
    "start_time": "2021-07-07T16:05:17.020Z"
   },
   {
    "duration": 5,
    "start_time": "2021-07-07T16:51:28.794Z"
   },
   {
    "duration": 546,
    "start_time": "2021-07-07T16:52:26.306Z"
   },
   {
    "duration": 203,
    "start_time": "2021-07-07T16:52:27.523Z"
   },
   {
    "duration": 85,
    "start_time": "2021-07-07T16:52:27.736Z"
   },
   {
    "duration": 4,
    "start_time": "2021-07-07T16:52:27.899Z"
   },
   {
    "duration": 25,
    "start_time": "2021-07-07T16:52:28.674Z"
   },
   {
    "duration": 8,
    "start_time": "2021-07-07T16:52:32.956Z"
   },
   {
    "duration": 18,
    "start_time": "2021-07-07T16:52:35.616Z"
   },
   {
    "duration": 6,
    "start_time": "2021-07-07T16:52:36.913Z"
   },
   {
    "duration": 11,
    "start_time": "2021-07-07T16:52:40.258Z"
   },
   {
    "duration": 10,
    "start_time": "2021-07-07T16:52:46.251Z"
   },
   {
    "duration": 8,
    "start_time": "2021-07-07T16:52:47.182Z"
   },
   {
    "duration": 27,
    "start_time": "2021-07-07T16:53:20.391Z"
   },
   {
    "duration": 20,
    "start_time": "2021-07-07T16:53:22.022Z"
   },
   {
    "duration": 23,
    "start_time": "2021-07-07T16:53:23.690Z"
   },
   {
    "duration": 8,
    "start_time": "2021-07-07T16:53:24.261Z"
   },
   {
    "duration": 4,
    "start_time": "2021-07-07T16:53:38.733Z"
   },
   {
    "duration": 7,
    "start_time": "2021-07-07T16:53:40.445Z"
   },
   {
    "duration": 11,
    "start_time": "2021-07-07T16:53:41.348Z"
   },
   {
    "duration": 13,
    "start_time": "2021-07-07T16:53:45.250Z"
   },
   {
    "duration": 12,
    "start_time": "2021-07-07T16:53:45.467Z"
   },
   {
    "duration": 4,
    "start_time": "2021-07-07T16:55:32.704Z"
   },
   {
    "duration": 12,
    "start_time": "2021-07-07T16:55:49.012Z"
   },
   {
    "duration": 18,
    "start_time": "2021-07-07T16:55:49.547Z"
   },
   {
    "duration": 611,
    "start_time": "2021-07-07T16:58:35.156Z"
   },
   {
    "duration": 200,
    "start_time": "2021-07-07T16:58:35.770Z"
   },
   {
    "duration": 86,
    "start_time": "2021-07-07T16:58:35.972Z"
   },
   {
    "duration": 3,
    "start_time": "2021-07-07T16:58:36.060Z"
   },
   {
    "duration": 27,
    "start_time": "2021-07-07T16:58:36.065Z"
   },
   {
    "duration": 8,
    "start_time": "2021-07-07T16:58:36.094Z"
   },
   {
    "duration": 17,
    "start_time": "2021-07-07T16:58:36.103Z"
   },
   {
    "duration": 5,
    "start_time": "2021-07-07T16:58:36.123Z"
   },
   {
    "duration": 11,
    "start_time": "2021-07-07T16:58:36.130Z"
   },
   {
    "duration": 7,
    "start_time": "2021-07-07T16:58:36.143Z"
   },
   {
    "duration": 37,
    "start_time": "2021-07-07T16:58:36.152Z"
   },
   {
    "duration": 27,
    "start_time": "2021-07-07T16:58:36.191Z"
   },
   {
    "duration": 19,
    "start_time": "2021-07-07T16:58:36.219Z"
   },
   {
    "duration": 49,
    "start_time": "2021-07-07T16:58:36.240Z"
   },
   {
    "duration": 6,
    "start_time": "2021-07-07T16:58:36.291Z"
   },
   {
    "duration": 3,
    "start_time": "2021-07-07T16:58:36.299Z"
   },
   {
    "duration": 13,
    "start_time": "2021-07-07T16:58:36.304Z"
   },
   {
    "duration": 10,
    "start_time": "2021-07-07T16:58:36.319Z"
   },
   {
    "duration": 10,
    "start_time": "2021-07-07T16:58:36.331Z"
   },
   {
    "duration": 44,
    "start_time": "2021-07-07T16:58:36.343Z"
   },
   {
    "duration": 4,
    "start_time": "2021-07-07T16:58:36.388Z"
   },
   {
    "duration": 13,
    "start_time": "2021-07-07T16:58:36.394Z"
   },
   {
    "duration": 16,
    "start_time": "2021-07-07T16:58:36.410Z"
   },
   {
    "duration": 8,
    "start_time": "2021-07-07T17:02:31.629Z"
   },
   {
    "duration": 8,
    "start_time": "2021-07-07T17:02:34.308Z"
   },
   {
    "duration": 6,
    "start_time": "2021-07-07T17:05:13.483Z"
   },
   {
    "duration": 17,
    "start_time": "2021-07-07T17:05:20.606Z"
   },
   {
    "duration": 7,
    "start_time": "2021-07-07T17:05:34.638Z"
   },
   {
    "duration": 3,
    "start_time": "2021-07-07T17:06:31.883Z"
   },
   {
    "duration": 570,
    "start_time": "2021-07-07T17:06:37.165Z"
   },
   {
    "duration": 174,
    "start_time": "2021-07-07T17:06:37.737Z"
   },
   {
    "duration": 47,
    "start_time": "2021-07-07T17:06:37.913Z"
   },
   {
    "duration": 3,
    "start_time": "2021-07-07T17:06:37.962Z"
   },
   {
    "duration": 27,
    "start_time": "2021-07-07T17:06:37.967Z"
   },
   {
    "duration": 7,
    "start_time": "2021-07-07T17:06:37.996Z"
   },
   {
    "duration": 16,
    "start_time": "2021-07-07T17:06:38.005Z"
   },
   {
    "duration": 6,
    "start_time": "2021-07-07T17:06:38.024Z"
   },
   {
    "duration": 12,
    "start_time": "2021-07-07T17:06:38.031Z"
   },
   {
    "duration": 41,
    "start_time": "2021-07-07T17:06:38.045Z"
   },
   {
    "duration": 8,
    "start_time": "2021-07-07T17:06:38.088Z"
   },
   {
    "duration": 26,
    "start_time": "2021-07-07T17:06:38.098Z"
   },
   {
    "duration": 17,
    "start_time": "2021-07-07T17:06:38.126Z"
   },
   {
    "duration": 43,
    "start_time": "2021-07-07T17:06:38.144Z"
   },
   {
    "duration": 6,
    "start_time": "2021-07-07T17:06:38.188Z"
   },
   {
    "duration": 5,
    "start_time": "2021-07-07T17:06:38.195Z"
   },
   {
    "duration": 9,
    "start_time": "2021-07-07T17:06:38.201Z"
   },
   {
    "duration": 12,
    "start_time": "2021-07-07T17:06:38.212Z"
   },
   {
    "duration": 11,
    "start_time": "2021-07-07T17:06:38.226Z"
   },
   {
    "duration": 47,
    "start_time": "2021-07-07T17:06:38.239Z"
   },
   {
    "duration": 4,
    "start_time": "2021-07-07T17:06:38.288Z"
   },
   {
    "duration": 13,
    "start_time": "2021-07-07T17:06:38.293Z"
   },
   {
    "duration": 5,
    "start_time": "2021-07-07T17:06:38.309Z"
   },
   {
    "duration": 18,
    "start_time": "2021-07-07T17:06:38.325Z"
   },
   {
    "duration": 20,
    "start_time": "2021-07-07T17:07:02.805Z"
   },
   {
    "duration": 19,
    "start_time": "2021-07-07T17:07:08.527Z"
   },
   {
    "duration": 19,
    "start_time": "2021-07-07T17:07:12.758Z"
   },
   {
    "duration": 22,
    "start_time": "2021-07-07T17:07:17.497Z"
   },
   {
    "duration": 19,
    "start_time": "2021-07-07T17:07:19.645Z"
   },
   {
    "duration": 10,
    "start_time": "2021-07-07T17:07:34.239Z"
   },
   {
    "duration": 17,
    "start_time": "2021-07-07T17:07:54.144Z"
   },
   {
    "duration": 14,
    "start_time": "2021-07-07T17:08:14.357Z"
   },
   {
    "duration": 616,
    "start_time": "2021-07-07T17:08:45.254Z"
   },
   {
    "duration": 178,
    "start_time": "2021-07-07T17:08:45.872Z"
   },
   {
    "duration": 60,
    "start_time": "2021-07-07T17:08:46.054Z"
   },
   {
    "duration": 3,
    "start_time": "2021-07-07T17:08:46.116Z"
   },
   {
    "duration": 26,
    "start_time": "2021-07-07T17:08:46.121Z"
   },
   {
    "duration": 7,
    "start_time": "2021-07-07T17:08:46.149Z"
   },
   {
    "duration": 17,
    "start_time": "2021-07-07T17:08:46.158Z"
   },
   {
    "duration": 14,
    "start_time": "2021-07-07T17:08:46.176Z"
   },
   {
    "duration": 17,
    "start_time": "2021-07-07T17:08:46.193Z"
   },
   {
    "duration": 9,
    "start_time": "2021-07-07T17:08:46.211Z"
   },
   {
    "duration": 21,
    "start_time": "2021-07-07T17:08:46.221Z"
   },
   {
    "duration": 49,
    "start_time": "2021-07-07T17:08:46.244Z"
   },
   {
    "duration": 24,
    "start_time": "2021-07-07T17:08:46.295Z"
   },
   {
    "duration": 22,
    "start_time": "2021-07-07T17:08:46.321Z"
   },
   {
    "duration": 6,
    "start_time": "2021-07-07T17:08:46.345Z"
   },
   {
    "duration": 5,
    "start_time": "2021-07-07T17:08:46.353Z"
   },
   {
    "duration": 13,
    "start_time": "2021-07-07T17:08:46.386Z"
   },
   {
    "duration": 12,
    "start_time": "2021-07-07T17:08:46.402Z"
   },
   {
    "duration": 10,
    "start_time": "2021-07-07T17:08:46.415Z"
   },
   {
    "duration": 7,
    "start_time": "2021-07-07T17:08:46.427Z"
   },
   {
    "duration": 8,
    "start_time": "2021-07-07T17:08:46.435Z"
   },
   {
    "duration": 68,
    "start_time": "2021-07-07T17:08:46.446Z"
   },
   {
    "duration": 13,
    "start_time": "2021-07-07T17:08:46.516Z"
   },
   {
    "duration": 78,
    "start_time": "2021-07-07T17:08:46.530Z"
   },
   {
    "duration": 40,
    "start_time": "2021-07-07T17:09:08.185Z"
   },
   {
    "duration": 16,
    "start_time": "2021-07-07T17:09:19.324Z"
   },
   {
    "duration": 21,
    "start_time": "2021-07-07T17:09:23.290Z"
   },
   {
    "duration": 13,
    "start_time": "2021-07-07T17:09:54.812Z"
   },
   {
    "duration": 13,
    "start_time": "2021-07-07T17:10:02.039Z"
   },
   {
    "duration": 10,
    "start_time": "2021-07-07T17:10:29.632Z"
   },
   {
    "duration": 13,
    "start_time": "2021-07-07T17:10:52.372Z"
   },
   {
    "duration": 13,
    "start_time": "2021-07-07T17:11:17.270Z"
   },
   {
    "duration": 13,
    "start_time": "2021-07-07T17:14:59.284Z"
   },
   {
    "duration": 547,
    "start_time": "2021-07-07T17:18:52.403Z"
   },
   {
    "duration": 163,
    "start_time": "2021-07-07T17:18:52.952Z"
   },
   {
    "duration": 44,
    "start_time": "2021-07-07T17:18:53.117Z"
   },
   {
    "duration": 3,
    "start_time": "2021-07-07T17:18:53.162Z"
   },
   {
    "duration": 26,
    "start_time": "2021-07-07T17:18:53.167Z"
   },
   {
    "duration": 6,
    "start_time": "2021-07-07T17:18:53.195Z"
   },
   {
    "duration": 15,
    "start_time": "2021-07-07T17:18:53.203Z"
   },
   {
    "duration": 5,
    "start_time": "2021-07-07T17:18:53.220Z"
   },
   {
    "duration": 11,
    "start_time": "2021-07-07T17:18:53.228Z"
   },
   {
    "duration": 9,
    "start_time": "2021-07-07T17:18:53.241Z"
   },
   {
    "duration": 41,
    "start_time": "2021-07-07T17:18:53.252Z"
   },
   {
    "duration": 33,
    "start_time": "2021-07-07T17:18:53.295Z"
   },
   {
    "duration": 19,
    "start_time": "2021-07-07T17:18:53.330Z"
   },
   {
    "duration": 49,
    "start_time": "2021-07-07T17:18:53.350Z"
   },
   {
    "duration": 5,
    "start_time": "2021-07-07T17:18:53.401Z"
   },
   {
    "duration": 5,
    "start_time": "2021-07-07T17:18:53.408Z"
   },
   {
    "duration": 11,
    "start_time": "2021-07-07T17:18:53.414Z"
   },
   {
    "duration": 9,
    "start_time": "2021-07-07T17:18:53.427Z"
   },
   {
    "duration": 10,
    "start_time": "2021-07-07T17:18:53.437Z"
   },
   {
    "duration": 39,
    "start_time": "2021-07-07T17:18:53.448Z"
   },
   {
    "duration": 26,
    "start_time": "2021-07-07T17:18:55.799Z"
   },
   {
    "duration": 598,
    "start_time": "2021-07-07T17:20:17.862Z"
   },
   {
    "duration": 161,
    "start_time": "2021-07-07T17:20:18.462Z"
   },
   {
    "duration": 45,
    "start_time": "2021-07-07T17:20:18.626Z"
   },
   {
    "duration": 4,
    "start_time": "2021-07-07T17:20:18.673Z"
   },
   {
    "duration": 38,
    "start_time": "2021-07-07T17:20:26.877Z"
   },
   {
    "duration": 7,
    "start_time": "2021-07-07T17:20:37.405Z"
   },
   {
    "duration": 19,
    "start_time": "2021-07-07T17:20:51.534Z"
   },
   {
    "duration": 5,
    "start_time": "2021-07-07T17:20:57.228Z"
   },
   {
    "duration": 7,
    "start_time": "2021-07-07T17:21:08.235Z"
   },
   {
    "duration": 19,
    "start_time": "2021-07-07T17:21:42.158Z"
   },
   {
    "duration": 14,
    "start_time": "2021-07-07T17:21:50.225Z"
   },
   {
    "duration": 22,
    "start_time": "2021-07-07T17:22:54.104Z"
   },
   {
    "duration": 5,
    "start_time": "2021-07-07T17:22:56.371Z"
   },
   {
    "duration": 14,
    "start_time": "2021-07-07T17:22:58.316Z"
   },
   {
    "duration": 5,
    "start_time": "2021-07-07T17:22:58.493Z"
   },
   {
    "duration": 35,
    "start_time": "2021-07-07T17:22:59.666Z"
   },
   {
    "duration": 6,
    "start_time": "2021-07-07T17:23:02.410Z"
   },
   {
    "duration": 611,
    "start_time": "2021-07-07T17:24:59.664Z"
   },
   {
    "duration": 178,
    "start_time": "2021-07-07T17:25:01.945Z"
   },
   {
    "duration": 47,
    "start_time": "2021-07-07T17:25:02.125Z"
   },
   {
    "duration": 2,
    "start_time": "2021-07-07T17:25:07.903Z"
   },
   {
    "duration": 254,
    "start_time": "2021-07-07T17:25:08.232Z"
   },
   {
    "duration": 182,
    "start_time": "2021-07-07T17:25:08.671Z"
   },
   {
    "duration": 6,
    "start_time": "2021-07-07T17:25:13.104Z"
   },
   {
    "duration": 36,
    "start_time": "2021-07-07T17:25:13.662Z"
   },
   {
    "duration": 7,
    "start_time": "2021-07-07T17:25:14.528Z"
   },
   {
    "duration": 24,
    "start_time": "2021-07-07T17:25:27.982Z"
   },
   {
    "duration": 3,
    "start_time": "2021-07-07T17:25:48.982Z"
   },
   {
    "duration": 165,
    "start_time": "2021-07-07T17:25:48.987Z"
   },
   {
    "duration": 50,
    "start_time": "2021-07-07T17:25:49.154Z"
   },
   {
    "duration": 4,
    "start_time": "2021-07-07T17:25:49.206Z"
   },
   {
    "duration": 26,
    "start_time": "2021-07-07T17:25:49.212Z"
   },
   {
    "duration": 7,
    "start_time": "2021-07-07T17:25:49.240Z"
   },
   {
    "duration": 16,
    "start_time": "2021-07-07T17:25:49.249Z"
   },
   {
    "duration": 22,
    "start_time": "2021-07-07T17:25:49.266Z"
   },
   {
    "duration": 16,
    "start_time": "2021-07-07T17:25:49.291Z"
   },
   {
    "duration": 9,
    "start_time": "2021-07-07T17:25:49.309Z"
   },
   {
    "duration": 7,
    "start_time": "2021-07-07T17:25:49.319Z"
   },
   {
    "duration": 28,
    "start_time": "2021-07-07T17:25:49.328Z"
   },
   {
    "duration": 44,
    "start_time": "2021-07-07T17:25:49.357Z"
   },
   {
    "duration": 22,
    "start_time": "2021-07-07T17:25:49.403Z"
   },
   {
    "duration": 7,
    "start_time": "2021-07-07T17:25:49.427Z"
   },
   {
    "duration": 3,
    "start_time": "2021-07-07T17:25:49.436Z"
   },
   {
    "duration": 44,
    "start_time": "2021-07-07T17:25:49.441Z"
   },
   {
    "duration": 12,
    "start_time": "2021-07-07T17:25:49.488Z"
   },
   {
    "duration": 13,
    "start_time": "2021-07-07T17:25:49.502Z"
   },
   {
    "duration": 10,
    "start_time": "2021-07-07T17:25:49.516Z"
   },
   {
    "duration": 62,
    "start_time": "2021-07-07T17:25:49.527Z"
   },
   {
    "duration": 26,
    "start_time": "2021-07-07T17:26:51.809Z"
   },
   {
    "duration": 26,
    "start_time": "2021-07-07T17:26:55.759Z"
   },
   {
    "duration": 26,
    "start_time": "2021-07-07T17:27:04.501Z"
   },
   {
    "duration": 25,
    "start_time": "2021-07-07T17:28:24.859Z"
   },
   {
    "duration": 21,
    "start_time": "2021-07-07T17:28:55.250Z"
   },
   {
    "duration": 21,
    "start_time": "2021-07-07T17:28:58.885Z"
   },
   {
    "duration": 7,
    "start_time": "2021-07-07T17:45:40.972Z"
   },
   {
    "duration": 13,
    "start_time": "2021-07-07T17:45:42.529Z"
   },
   {
    "duration": 27,
    "start_time": "2021-07-07T17:45:51.026Z"
   },
   {
    "duration": 518,
    "start_time": "2021-07-07T17:46:15.532Z"
   },
   {
    "duration": 235,
    "start_time": "2021-07-07T17:46:16.053Z"
   },
   {
    "duration": 80,
    "start_time": "2021-07-07T17:46:16.292Z"
   },
   {
    "duration": 5,
    "start_time": "2021-07-07T17:46:16.373Z"
   },
   {
    "duration": 26,
    "start_time": "2021-07-07T17:46:16.380Z"
   },
   {
    "duration": 7,
    "start_time": "2021-07-07T17:46:16.408Z"
   },
   {
    "duration": 16,
    "start_time": "2021-07-07T17:46:16.418Z"
   },
   {
    "duration": 5,
    "start_time": "2021-07-07T17:46:16.436Z"
   },
   {
    "duration": 13,
    "start_time": "2021-07-07T17:46:16.442Z"
   },
   {
    "duration": 35,
    "start_time": "2021-07-07T17:46:16.456Z"
   },
   {
    "duration": 8,
    "start_time": "2021-07-07T17:46:16.493Z"
   },
   {
    "duration": 28,
    "start_time": "2021-07-07T17:46:16.502Z"
   },
   {
    "duration": 17,
    "start_time": "2021-07-07T17:46:16.532Z"
   },
   {
    "duration": 44,
    "start_time": "2021-07-07T17:46:16.551Z"
   },
   {
    "duration": 6,
    "start_time": "2021-07-07T17:46:16.597Z"
   },
   {
    "duration": 4,
    "start_time": "2021-07-07T17:46:16.605Z"
   },
   {
    "duration": 9,
    "start_time": "2021-07-07T17:46:16.610Z"
   },
   {
    "duration": 9,
    "start_time": "2021-07-07T17:46:16.621Z"
   },
   {
    "duration": 10,
    "start_time": "2021-07-07T17:46:16.632Z"
   },
   {
    "duration": 43,
    "start_time": "2021-07-07T17:46:16.644Z"
   },
   {
    "duration": 26,
    "start_time": "2021-07-07T17:46:16.689Z"
   },
   {
    "duration": 19,
    "start_time": "2021-07-07T17:46:16.718Z"
   },
   {
    "duration": 8,
    "start_time": "2021-07-07T17:46:16.738Z"
   },
   {
    "duration": 43,
    "start_time": "2021-07-07T17:46:16.747Z"
   },
   {
    "duration": 19,
    "start_time": "2021-07-07T17:46:16.791Z"
   },
   {
    "duration": 9,
    "start_time": "2021-07-07T17:46:16.812Z"
   },
   {
    "duration": 60,
    "start_time": "2021-07-07T17:46:16.822Z"
   },
   {
    "duration": -8,
    "start_time": "2021-07-07T17:46:16.892Z"
   },
   {
    "duration": 12,
    "start_time": "2021-07-07T17:48:47.707Z"
   },
   {
    "duration": 553,
    "start_time": "2021-07-07T18:10:09.350Z"
   },
   {
    "duration": 230,
    "start_time": "2021-07-07T18:10:09.905Z"
   },
   {
    "duration": 97,
    "start_time": "2021-07-07T18:10:10.137Z"
   },
   {
    "duration": 5,
    "start_time": "2021-07-07T18:10:10.236Z"
   },
   {
    "duration": 29,
    "start_time": "2021-07-07T18:10:10.242Z"
   },
   {
    "duration": 7,
    "start_time": "2021-07-07T18:10:10.272Z"
   },
   {
    "duration": 15,
    "start_time": "2021-07-07T18:10:10.281Z"
   },
   {
    "duration": 4,
    "start_time": "2021-07-07T18:10:10.299Z"
   },
   {
    "duration": 14,
    "start_time": "2021-07-07T18:10:10.305Z"
   },
   {
    "duration": 8,
    "start_time": "2021-07-07T18:10:10.321Z"
   },
   {
    "duration": 8,
    "start_time": "2021-07-07T18:10:10.331Z"
   },
   {
    "duration": 56,
    "start_time": "2021-07-07T18:10:10.341Z"
   },
   {
    "duration": 19,
    "start_time": "2021-07-07T18:10:10.399Z"
   },
   {
    "duration": 23,
    "start_time": "2021-07-07T18:10:10.419Z"
   },
   {
    "duration": 6,
    "start_time": "2021-07-07T18:10:10.444Z"
   },
   {
    "duration": 9,
    "start_time": "2021-07-07T18:10:10.451Z"
   },
   {
    "duration": 30,
    "start_time": "2021-07-07T18:10:10.462Z"
   },
   {
    "duration": 9,
    "start_time": "2021-07-07T18:10:10.494Z"
   },
   {
    "duration": 14,
    "start_time": "2021-07-07T18:10:10.505Z"
   },
   {
    "duration": 7,
    "start_time": "2021-07-07T18:10:10.521Z"
   },
   {
    "duration": 26,
    "start_time": "2021-07-07T18:10:10.530Z"
   },
   {
    "duration": 44,
    "start_time": "2021-07-07T18:10:10.558Z"
   },
   {
    "duration": 7,
    "start_time": "2021-07-07T18:10:10.605Z"
   },
   {
    "duration": 11,
    "start_time": "2021-07-07T18:10:10.614Z"
   },
   {
    "duration": 19,
    "start_time": "2021-07-07T18:10:10.626Z"
   },
   {
    "duration": 44,
    "start_time": "2021-07-07T18:10:10.646Z"
   },
   {
    "duration": 516,
    "start_time": "2021-07-07T18:14:00.826Z"
   },
   {
    "duration": 230,
    "start_time": "2021-07-07T18:14:01.344Z"
   },
   {
    "duration": 105,
    "start_time": "2021-07-07T18:14:01.576Z"
   },
   {
    "duration": 5,
    "start_time": "2021-07-07T18:14:01.683Z"
   },
   {
    "duration": 46,
    "start_time": "2021-07-07T18:14:01.690Z"
   },
   {
    "duration": 7,
    "start_time": "2021-07-07T18:14:01.738Z"
   },
   {
    "duration": 20,
    "start_time": "2021-07-07T18:14:01.747Z"
   },
   {
    "duration": 16,
    "start_time": "2021-07-07T18:14:01.769Z"
   },
   {
    "duration": 14,
    "start_time": "2021-07-07T18:14:01.787Z"
   },
   {
    "duration": 15,
    "start_time": "2021-07-07T18:14:01.803Z"
   },
   {
    "duration": 12,
    "start_time": "2021-07-07T18:14:01.820Z"
   },
   {
    "duration": 35,
    "start_time": "2021-07-07T18:14:01.833Z"
   },
   {
    "duration": 31,
    "start_time": "2021-07-07T18:14:01.869Z"
   },
   {
    "duration": 37,
    "start_time": "2021-07-07T18:14:01.902Z"
   },
   {
    "duration": 8,
    "start_time": "2021-07-07T18:14:01.942Z"
   },
   {
    "duration": 16,
    "start_time": "2021-07-07T18:14:01.952Z"
   },
   {
    "duration": 13,
    "start_time": "2021-07-07T18:14:01.970Z"
   },
   {
    "duration": 32,
    "start_time": "2021-07-07T18:14:01.985Z"
   },
   {
    "duration": 11,
    "start_time": "2021-07-07T18:14:02.019Z"
   },
   {
    "duration": 22,
    "start_time": "2021-07-07T18:14:02.031Z"
   },
   {
    "duration": 27,
    "start_time": "2021-07-07T18:14:02.055Z"
   },
   {
    "duration": 18,
    "start_time": "2021-07-07T18:14:02.084Z"
   },
   {
    "duration": 18,
    "start_time": "2021-07-07T18:14:02.106Z"
   },
   {
    "duration": 11,
    "start_time": "2021-07-07T18:14:02.126Z"
   },
   {
    "duration": 21,
    "start_time": "2021-07-07T18:14:02.138Z"
   },
   {
    "duration": 32,
    "start_time": "2021-07-07T18:14:02.161Z"
   },
   {
    "duration": 28,
    "start_time": "2021-07-07T18:14:44.295Z"
   },
   {
    "duration": 6,
    "start_time": "2021-07-07T18:15:05.834Z"
   },
   {
    "duration": 511,
    "start_time": "2021-07-07T18:15:41.541Z"
   },
   {
    "duration": 183,
    "start_time": "2021-07-07T18:15:42.054Z"
   },
   {
    "duration": 50,
    "start_time": "2021-07-07T18:15:42.239Z"
   },
   {
    "duration": 5,
    "start_time": "2021-07-07T18:15:42.291Z"
   },
   {
    "duration": 48,
    "start_time": "2021-07-07T18:15:42.297Z"
   },
   {
    "duration": 8,
    "start_time": "2021-07-07T18:15:42.346Z"
   },
   {
    "duration": 17,
    "start_time": "2021-07-07T18:15:42.356Z"
   },
   {
    "duration": 15,
    "start_time": "2021-07-07T18:15:42.375Z"
   },
   {
    "duration": 12,
    "start_time": "2021-07-07T18:15:42.392Z"
   },
   {
    "duration": 7,
    "start_time": "2021-07-07T18:15:42.406Z"
   },
   {
    "duration": 7,
    "start_time": "2021-07-07T18:15:42.415Z"
   },
   {
    "duration": 29,
    "start_time": "2021-07-07T18:15:42.423Z"
   },
   {
    "duration": 43,
    "start_time": "2021-07-07T18:15:42.453Z"
   },
   {
    "duration": 18,
    "start_time": "2021-07-07T18:15:42.497Z"
   },
   {
    "duration": 6,
    "start_time": "2021-07-07T18:15:42.516Z"
   },
   {
    "duration": 3,
    "start_time": "2021-07-07T18:15:42.523Z"
   },
   {
    "duration": 18,
    "start_time": "2021-07-07T18:15:42.528Z"
   },
   {
    "duration": 10,
    "start_time": "2021-07-07T18:15:42.547Z"
   },
   {
    "duration": 36,
    "start_time": "2021-07-07T18:15:42.559Z"
   },
   {
    "duration": 8,
    "start_time": "2021-07-07T18:15:42.597Z"
   },
   {
    "duration": 28,
    "start_time": "2021-07-07T18:15:42.606Z"
   },
   {
    "duration": 52,
    "start_time": "2021-07-07T18:15:42.635Z"
   },
   {
    "duration": 7,
    "start_time": "2021-07-07T18:15:42.690Z"
   },
   {
    "duration": 10,
    "start_time": "2021-07-07T18:15:42.699Z"
   },
   {
    "duration": 19,
    "start_time": "2021-07-07T18:15:42.711Z"
   },
   {
    "duration": 9,
    "start_time": "2021-07-07T18:15:42.732Z"
   },
   {
    "duration": 5,
    "start_time": "2021-07-07T18:15:42.743Z"
   },
   {
    "duration": 1450,
    "start_time": "2021-07-07T18:15:51.984Z"
   },
   {
    "duration": 161,
    "start_time": "2021-07-07T18:15:53.435Z"
   },
   {
    "duration": 124,
    "start_time": "2021-07-07T18:15:53.598Z"
   },
   {
    "duration": 5,
    "start_time": "2021-07-07T18:15:53.724Z"
   },
   {
    "duration": 34,
    "start_time": "2021-07-07T18:15:53.730Z"
   },
   {
    "duration": 7,
    "start_time": "2021-07-07T18:15:53.765Z"
   },
   {
    "duration": 15,
    "start_time": "2021-07-07T18:15:53.773Z"
   },
   {
    "duration": 5,
    "start_time": "2021-07-07T18:15:53.791Z"
   },
   {
    "duration": 19,
    "start_time": "2021-07-07T18:15:53.798Z"
   },
   {
    "duration": 9,
    "start_time": "2021-07-07T18:15:53.818Z"
   },
   {
    "duration": 19,
    "start_time": "2021-07-07T18:15:53.828Z"
   },
   {
    "duration": 27,
    "start_time": "2021-07-07T18:15:53.848Z"
   },
   {
    "duration": 16,
    "start_time": "2021-07-07T18:15:53.884Z"
   },
   {
    "duration": 29,
    "start_time": "2021-07-07T18:15:53.901Z"
   },
   {
    "duration": 5,
    "start_time": "2021-07-07T18:15:53.932Z"
   },
   {
    "duration": 15,
    "start_time": "2021-07-07T18:15:53.939Z"
   },
   {
    "duration": 13,
    "start_time": "2021-07-07T18:15:53.956Z"
   },
   {
    "duration": 20,
    "start_time": "2021-07-07T18:15:53.971Z"
   },
   {
    "duration": 14,
    "start_time": "2021-07-07T18:15:53.992Z"
   },
   {
    "duration": 9,
    "start_time": "2021-07-07T18:15:54.009Z"
   },
   {
    "duration": 28,
    "start_time": "2021-07-07T18:15:54.020Z"
   },
   {
    "duration": 50,
    "start_time": "2021-07-07T18:15:54.051Z"
   },
   {
    "duration": 8,
    "start_time": "2021-07-07T18:15:54.105Z"
   },
   {
    "duration": 11,
    "start_time": "2021-07-07T18:15:54.115Z"
   },
   {
    "duration": 20,
    "start_time": "2021-07-07T18:15:54.128Z"
   },
   {
    "duration": 13,
    "start_time": "2021-07-07T18:15:54.184Z"
   },
   {
    "duration": 7,
    "start_time": "2021-07-07T18:15:54.199Z"
   },
   {
    "duration": 7,
    "start_time": "2021-07-07T18:17:08.042Z"
   },
   {
    "duration": 8,
    "start_time": "2021-07-07T18:17:21.008Z"
   },
   {
    "duration": 7,
    "start_time": "2021-07-07T18:17:29.003Z"
   },
   {
    "duration": 8,
    "start_time": "2021-07-07T18:17:32.492Z"
   },
   {
    "duration": 9,
    "start_time": "2021-07-07T18:17:41.758Z"
   },
   {
    "duration": 255,
    "start_time": "2021-07-07T18:20:20.897Z"
   },
   {
    "duration": 173,
    "start_time": "2021-07-07T18:20:26.636Z"
   },
   {
    "duration": 7,
    "start_time": "2021-07-07T18:21:47.164Z"
   },
   {
    "duration": 254,
    "start_time": "2021-07-07T18:23:08.703Z"
   },
   {
    "duration": 21,
    "start_time": "2021-07-07T18:23:22.506Z"
   },
   {
    "duration": 315,
    "start_time": "2021-07-07T18:25:54.801Z"
   },
   {
    "duration": 34,
    "start_time": "2021-07-07T18:26:51.817Z"
   },
   {
    "duration": 327,
    "start_time": "2021-07-07T18:26:56.147Z"
   },
   {
    "duration": 342,
    "start_time": "2021-07-07T18:27:15.887Z"
   },
   {
    "duration": 302,
    "start_time": "2021-07-07T18:28:18.569Z"
   },
   {
    "duration": 226,
    "start_time": "2021-07-07T18:29:20.879Z"
   },
   {
    "duration": 207,
    "start_time": "2021-07-07T18:29:58.114Z"
   },
   {
    "duration": 140,
    "start_time": "2021-07-07T18:32:04.372Z"
   },
   {
    "duration": 158,
    "start_time": "2021-07-07T18:32:32.508Z"
   },
   {
    "duration": 145,
    "start_time": "2021-07-07T18:32:41.365Z"
   },
   {
    "duration": 132,
    "start_time": "2021-07-07T18:32:45.199Z"
   },
   {
    "duration": 11,
    "start_time": "2021-07-07T18:35:24.679Z"
   },
   {
    "duration": 268,
    "start_time": "2021-07-07T18:36:16.145Z"
   },
   {
    "duration": 227,
    "start_time": "2021-07-07T18:37:04.918Z"
   },
   {
    "duration": 3,
    "start_time": "2021-07-07T18:37:33.012Z"
   },
   {
    "duration": 671,
    "start_time": "2021-07-07T18:37:38.295Z"
   },
   {
    "duration": 54,
    "start_time": "2021-07-07T18:37:53.406Z"
   },
   {
    "duration": 631,
    "start_time": "2021-07-07T18:37:56.463Z"
   },
   {
    "duration": 19,
    "start_time": "2021-07-07T18:39:40.535Z"
   },
   {
    "duration": 20,
    "start_time": "2021-07-07T18:40:12.236Z"
   },
   {
    "duration": 633,
    "start_time": "2021-07-07T18:42:00.398Z"
   },
   {
    "duration": 218,
    "start_time": "2021-07-07T18:42:01.033Z"
   },
   {
    "duration": 49,
    "start_time": "2021-07-07T18:42:01.253Z"
   },
   {
    "duration": 5,
    "start_time": "2021-07-07T18:42:01.303Z"
   },
   {
    "duration": 27,
    "start_time": "2021-07-07T18:42:01.310Z"
   },
   {
    "duration": 8,
    "start_time": "2021-07-07T18:42:01.339Z"
   },
   {
    "duration": 20,
    "start_time": "2021-07-07T18:42:01.348Z"
   },
   {
    "duration": 6,
    "start_time": "2021-07-07T18:42:01.386Z"
   },
   {
    "duration": 16,
    "start_time": "2021-07-07T18:42:01.394Z"
   },
   {
    "duration": 9,
    "start_time": "2021-07-07T18:42:01.411Z"
   },
   {
    "duration": 11,
    "start_time": "2021-07-07T18:42:01.421Z"
   },
   {
    "duration": 31,
    "start_time": "2021-07-07T18:42:01.434Z"
   },
   {
    "duration": 18,
    "start_time": "2021-07-07T18:42:01.485Z"
   },
   {
    "duration": 23,
    "start_time": "2021-07-07T18:42:01.505Z"
   },
   {
    "duration": 6,
    "start_time": "2021-07-07T18:42:01.530Z"
   },
   {
    "duration": 10,
    "start_time": "2021-07-07T18:42:01.538Z"
   },
   {
    "duration": 13,
    "start_time": "2021-07-07T18:42:01.550Z"
   },
   {
    "duration": 24,
    "start_time": "2021-07-07T18:42:01.564Z"
   },
   {
    "duration": 20,
    "start_time": "2021-07-07T18:42:01.590Z"
   },
   {
    "duration": 8,
    "start_time": "2021-07-07T18:42:01.611Z"
   },
   {
    "duration": 31,
    "start_time": "2021-07-07T18:42:01.620Z"
   },
   {
    "duration": 39,
    "start_time": "2021-07-07T18:42:01.653Z"
   },
   {
    "duration": 8,
    "start_time": "2021-07-07T18:42:01.696Z"
   },
   {
    "duration": 13,
    "start_time": "2021-07-07T18:42:01.705Z"
   },
   {
    "duration": 20,
    "start_time": "2021-07-07T18:42:01.720Z"
   },
   {
    "duration": 12,
    "start_time": "2021-07-07T18:42:01.741Z"
   },
   {
    "duration": 35,
    "start_time": "2021-07-07T18:42:01.755Z"
   },
   {
    "duration": 14,
    "start_time": "2021-07-07T18:42:01.792Z"
   },
   {
    "duration": 188,
    "start_time": "2021-07-07T18:42:01.808Z"
   },
   {
    "duration": 19,
    "start_time": "2021-07-07T18:42:01.998Z"
   },
   {
    "duration": 175,
    "start_time": "2021-07-07T18:42:02.019Z"
   },
   {
    "duration": 134,
    "start_time": "2021-07-07T18:42:02.196Z"
   },
   {
    "duration": 10,
    "start_time": "2021-07-07T18:42:02.331Z"
   },
   {
    "duration": 19,
    "start_time": "2021-07-07T18:42:02.343Z"
   },
   {
    "duration": 628,
    "start_time": "2021-07-07T18:46:30.701Z"
   },
   {
    "duration": 183,
    "start_time": "2021-07-07T18:46:31.331Z"
   },
   {
    "duration": 48,
    "start_time": "2021-07-07T18:46:31.516Z"
   },
   {
    "duration": 5,
    "start_time": "2021-07-07T18:46:31.566Z"
   },
   {
    "duration": 28,
    "start_time": "2021-07-07T18:46:31.572Z"
   },
   {
    "duration": 8,
    "start_time": "2021-07-07T18:46:31.602Z"
   },
   {
    "duration": 19,
    "start_time": "2021-07-07T18:46:31.611Z"
   },
   {
    "duration": 6,
    "start_time": "2021-07-07T18:46:31.633Z"
   },
   {
    "duration": 17,
    "start_time": "2021-07-07T18:46:31.642Z"
   },
   {
    "duration": 10,
    "start_time": "2021-07-07T18:46:31.684Z"
   },
   {
    "duration": 9,
    "start_time": "2021-07-07T18:46:31.695Z"
   },
   {
    "duration": 28,
    "start_time": "2021-07-07T18:46:31.705Z"
   },
   {
    "duration": 18,
    "start_time": "2021-07-07T18:46:31.735Z"
   },
   {
    "duration": 48,
    "start_time": "2021-07-07T18:46:31.755Z"
   },
   {
    "duration": 6,
    "start_time": "2021-07-07T18:46:31.804Z"
   },
   {
    "duration": 4,
    "start_time": "2021-07-07T18:46:31.812Z"
   },
   {
    "duration": 9,
    "start_time": "2021-07-07T18:46:31.817Z"
   },
   {
    "duration": 10,
    "start_time": "2021-07-07T18:46:31.827Z"
   },
   {
    "duration": 12,
    "start_time": "2021-07-07T18:46:31.838Z"
   },
   {
    "duration": 39,
    "start_time": "2021-07-07T18:46:31.851Z"
   },
   {
    "duration": 24,
    "start_time": "2021-07-07T18:46:31.892Z"
   },
   {
    "duration": 15,
    "start_time": "2021-07-07T18:46:31.918Z"
   },
   {
    "duration": 7,
    "start_time": "2021-07-07T18:46:31.936Z"
   },
   {
    "duration": 8,
    "start_time": "2021-07-07T18:46:31.944Z"
   },
   {
    "duration": 19,
    "start_time": "2021-07-07T18:46:31.984Z"
   },
   {
    "duration": 10,
    "start_time": "2021-07-07T18:46:32.004Z"
   },
   {
    "duration": 5,
    "start_time": "2021-07-07T18:46:32.016Z"
   },
   {
    "duration": 9,
    "start_time": "2021-07-07T18:46:32.023Z"
   },
   {
    "duration": 199,
    "start_time": "2021-07-07T18:46:32.033Z"
   },
   {
    "duration": 19,
    "start_time": "2021-07-07T18:46:32.234Z"
   },
   {
    "duration": 159,
    "start_time": "2021-07-07T18:46:32.255Z"
   },
   {
    "duration": 134,
    "start_time": "2021-07-07T18:46:32.416Z"
   },
   {
    "duration": 10,
    "start_time": "2021-07-07T18:46:32.552Z"
   },
   {
    "duration": 34,
    "start_time": "2021-07-07T18:46:32.563Z"
   },
   {
    "duration": 1039,
    "start_time": "2021-07-08T08:41:09.419Z"
   },
   {
    "duration": 333,
    "start_time": "2021-07-08T08:41:10.459Z"
   },
   {
    "duration": 173,
    "start_time": "2021-07-08T08:41:10.794Z"
   },
   {
    "duration": 5,
    "start_time": "2021-07-08T08:41:10.968Z"
   },
   {
    "duration": 25,
    "start_time": "2021-07-08T08:41:10.975Z"
   },
   {
    "duration": 9,
    "start_time": "2021-07-08T08:41:11.002Z"
   },
   {
    "duration": 18,
    "start_time": "2021-07-08T08:41:11.013Z"
   },
   {
    "duration": 6,
    "start_time": "2021-07-08T08:41:11.033Z"
   },
   {
    "duration": 44,
    "start_time": "2021-07-08T08:41:11.042Z"
   },
   {
    "duration": 10,
    "start_time": "2021-07-08T08:41:11.088Z"
   },
   {
    "duration": 9,
    "start_time": "2021-07-08T08:41:11.100Z"
   },
   {
    "duration": 27,
    "start_time": "2021-07-08T08:41:11.111Z"
   },
   {
    "duration": 46,
    "start_time": "2021-07-08T08:41:11.140Z"
   },
   {
    "duration": 17,
    "start_time": "2021-07-08T08:41:11.187Z"
   },
   {
    "duration": 6,
    "start_time": "2021-07-08T08:41:11.206Z"
   },
   {
    "duration": 5,
    "start_time": "2021-07-08T08:41:11.213Z"
   },
   {
    "duration": 10,
    "start_time": "2021-07-08T08:41:11.219Z"
   },
   {
    "duration": 9,
    "start_time": "2021-07-08T08:41:11.230Z"
   },
   {
    "duration": 45,
    "start_time": "2021-07-08T08:41:11.241Z"
   },
   {
    "duration": 7,
    "start_time": "2021-07-08T08:41:11.287Z"
   },
   {
    "duration": 24,
    "start_time": "2021-07-08T08:41:11.296Z"
   },
   {
    "duration": 16,
    "start_time": "2021-07-08T08:41:11.322Z"
   },
   {
    "duration": 7,
    "start_time": "2021-07-08T08:41:11.341Z"
   },
   {
    "duration": 41,
    "start_time": "2021-07-08T08:41:11.349Z"
   },
   {
    "duration": 17,
    "start_time": "2021-07-08T08:41:11.391Z"
   },
   {
    "duration": 9,
    "start_time": "2021-07-08T08:41:11.410Z"
   },
   {
    "duration": 5,
    "start_time": "2021-07-08T08:41:11.421Z"
   },
   {
    "duration": 6,
    "start_time": "2021-07-08T08:41:11.428Z"
   },
   {
    "duration": 198,
    "start_time": "2021-07-08T08:41:11.435Z"
   },
   {
    "duration": 18,
    "start_time": "2021-07-08T08:41:11.635Z"
   },
   {
    "duration": 155,
    "start_time": "2021-07-08T08:41:11.655Z"
   },
   {
    "duration": 138,
    "start_time": "2021-07-08T08:41:11.811Z"
   },
   {
    "duration": 10,
    "start_time": "2021-07-08T08:41:11.950Z"
   },
   {
    "duration": 29,
    "start_time": "2021-07-08T08:41:11.961Z"
   },
   {
    "duration": 171,
    "start_time": "2021-07-08T08:47:44.522Z"
   },
   {
    "duration": 124,
    "start_time": "2021-07-08T08:47:46.872Z"
   },
   {
    "duration": 191,
    "start_time": "2021-07-08T08:47:58.148Z"
   },
   {
    "duration": 191,
    "start_time": "2021-07-08T08:48:07.412Z"
   },
   {
    "duration": 261,
    "start_time": "2021-07-08T08:48:10.385Z"
   },
   {
    "duration": 255,
    "start_time": "2021-07-08T08:48:14.494Z"
   },
   {
    "duration": 219,
    "start_time": "2021-07-08T08:48:22.752Z"
   },
   {
    "duration": 173,
    "start_time": "2021-07-08T08:49:06.395Z"
   },
   {
    "duration": 180,
    "start_time": "2021-07-08T08:49:21.011Z"
   },
   {
    "duration": 6,
    "start_time": "2021-07-08T08:50:31.697Z"
   },
   {
    "duration": 10,
    "start_time": "2021-07-08T08:50:47.394Z"
   },
   {
    "duration": 11,
    "start_time": "2021-07-08T08:53:49.332Z"
   },
   {
    "duration": 171,
    "start_time": "2021-07-08T08:54:28.408Z"
   },
   {
    "duration": 636,
    "start_time": "2021-07-08T09:02:48.385Z"
   },
   {
    "duration": 227,
    "start_time": "2021-07-08T09:02:49.023Z"
   },
   {
    "duration": 104,
    "start_time": "2021-07-08T09:02:49.252Z"
   },
   {
    "duration": 5,
    "start_time": "2021-07-08T09:02:49.358Z"
   },
   {
    "duration": 27,
    "start_time": "2021-07-08T09:02:49.365Z"
   },
   {
    "duration": 8,
    "start_time": "2021-07-08T09:02:49.394Z"
   },
   {
    "duration": 18,
    "start_time": "2021-07-08T09:02:49.404Z"
   },
   {
    "duration": 6,
    "start_time": "2021-07-08T09:02:49.424Z"
   },
   {
    "duration": 11,
    "start_time": "2021-07-08T09:02:49.433Z"
   },
   {
    "duration": 13,
    "start_time": "2021-07-08T09:02:49.485Z"
   },
   {
    "duration": 9,
    "start_time": "2021-07-08T09:02:49.500Z"
   },
   {
    "duration": 38,
    "start_time": "2021-07-08T09:02:49.511Z"
   },
   {
    "duration": 42,
    "start_time": "2021-07-08T09:02:49.551Z"
   },
   {
    "duration": 21,
    "start_time": "2021-07-08T09:02:49.594Z"
   },
   {
    "duration": 6,
    "start_time": "2021-07-08T09:02:49.616Z"
   },
   {
    "duration": 3,
    "start_time": "2021-07-08T09:02:49.623Z"
   },
   {
    "duration": 9,
    "start_time": "2021-07-08T09:02:49.628Z"
   },
   {
    "duration": 52,
    "start_time": "2021-07-08T09:02:49.638Z"
   },
   {
    "duration": 11,
    "start_time": "2021-07-08T09:02:49.692Z"
   },
   {
    "duration": 8,
    "start_time": "2021-07-08T09:02:49.704Z"
   },
   {
    "duration": 27,
    "start_time": "2021-07-08T09:02:49.713Z"
   },
   {
    "duration": 59,
    "start_time": "2021-07-08T09:02:49.741Z"
   },
   {
    "duration": 8,
    "start_time": "2021-07-08T09:02:49.803Z"
   },
   {
    "duration": 14,
    "start_time": "2021-07-08T09:02:49.813Z"
   },
   {
    "duration": 20,
    "start_time": "2021-07-08T09:02:49.829Z"
   },
   {
    "duration": 44,
    "start_time": "2021-07-08T09:02:49.851Z"
   },
   {
    "duration": 14,
    "start_time": "2021-07-08T09:02:49.896Z"
   },
   {
    "duration": 221,
    "start_time": "2021-07-08T09:02:49.912Z"
   },
   {
    "duration": 6,
    "start_time": "2021-07-08T09:02:50.134Z"
   },
   {
    "duration": 206,
    "start_time": "2021-07-08T09:02:50.142Z"
   },
   {
    "duration": 19,
    "start_time": "2021-07-08T09:02:50.350Z"
   },
   {
    "duration": 21,
    "start_time": "2021-07-08T09:02:50.370Z"
   },
   {
    "duration": 20,
    "start_time": "2021-07-08T09:02:50.393Z"
   },
   {
    "duration": 5,
    "start_time": "2021-07-08T09:02:50.414Z"
   },
   {
    "duration": 5,
    "start_time": "2021-07-08T09:03:34.173Z"
   },
   {
    "duration": 6,
    "start_time": "2021-07-08T09:04:49.062Z"
   },
   {
    "duration": 9,
    "start_time": "2021-07-08T09:04:50.118Z"
   },
   {
    "duration": 14,
    "start_time": "2021-07-08T09:04:58.512Z"
   },
   {
    "duration": 9,
    "start_time": "2021-07-08T09:05:10.988Z"
   },
   {
    "duration": 11,
    "start_time": "2021-07-08T09:05:11.743Z"
   },
   {
    "duration": 7,
    "start_time": "2021-07-08T09:05:25.677Z"
   },
   {
    "duration": 13,
    "start_time": "2021-07-08T09:05:47.189Z"
   },
   {
    "duration": 13,
    "start_time": "2021-07-08T09:05:54.755Z"
   },
   {
    "duration": 4,
    "start_time": "2021-07-08T09:06:29.189Z"
   },
   {
    "duration": 244,
    "start_time": "2021-07-08T09:06:29.195Z"
   },
   {
    "duration": 91,
    "start_time": "2021-07-08T09:06:29.441Z"
   },
   {
    "duration": 4,
    "start_time": "2021-07-08T09:06:29.534Z"
   },
   {
    "duration": 28,
    "start_time": "2021-07-08T09:06:29.540Z"
   },
   {
    "duration": 6,
    "start_time": "2021-07-08T09:06:29.570Z"
   },
   {
    "duration": 18,
    "start_time": "2021-07-08T09:06:29.578Z"
   },
   {
    "duration": 5,
    "start_time": "2021-07-08T09:06:29.597Z"
   },
   {
    "duration": 13,
    "start_time": "2021-07-08T09:06:29.605Z"
   },
   {
    "duration": 8,
    "start_time": "2021-07-08T09:06:29.620Z"
   },
   {
    "duration": 7,
    "start_time": "2021-07-08T09:06:29.630Z"
   },
   {
    "duration": 63,
    "start_time": "2021-07-08T09:06:29.639Z"
   },
   {
    "duration": 17,
    "start_time": "2021-07-08T09:06:29.704Z"
   },
   {
    "duration": 20,
    "start_time": "2021-07-08T09:06:29.723Z"
   },
   {
    "duration": 6,
    "start_time": "2021-07-08T09:06:29.745Z"
   },
   {
    "duration": 3,
    "start_time": "2021-07-08T09:06:29.752Z"
   },
   {
    "duration": 7,
    "start_time": "2021-07-08T09:06:29.785Z"
   },
   {
    "duration": 11,
    "start_time": "2021-07-08T09:06:29.794Z"
   },
   {
    "duration": 15,
    "start_time": "2021-07-08T09:06:29.807Z"
   },
   {
    "duration": 8,
    "start_time": "2021-07-08T09:06:29.823Z"
   },
   {
    "duration": 70,
    "start_time": "2021-07-08T09:06:29.832Z"
   },
   {
    "duration": 17,
    "start_time": "2021-07-08T09:06:29.903Z"
   },
   {
    "duration": 9,
    "start_time": "2021-07-08T09:06:29.921Z"
   },
   {
    "duration": 9,
    "start_time": "2021-07-08T09:06:29.932Z"
   },
   {
    "duration": 57,
    "start_time": "2021-07-08T09:06:29.942Z"
   },
   {
    "duration": 11,
    "start_time": "2021-07-08T09:06:30.001Z"
   },
   {
    "duration": 19,
    "start_time": "2021-07-08T09:06:30.016Z"
   },
   {
    "duration": 217,
    "start_time": "2021-07-08T09:06:30.037Z"
   },
   {
    "duration": 6,
    "start_time": "2021-07-08T09:06:30.255Z"
   },
   {
    "duration": 205,
    "start_time": "2021-07-08T09:06:30.263Z"
   },
   {
    "duration": 27,
    "start_time": "2021-07-08T09:06:30.470Z"
   },
   {
    "duration": 11,
    "start_time": "2021-07-08T09:06:30.500Z"
   },
   {
    "duration": 31,
    "start_time": "2021-07-08T09:06:30.513Z"
   },
   {
    "duration": 18,
    "start_time": "2021-07-08T09:06:30.546Z"
   },
   {
    "duration": 11,
    "start_time": "2021-07-08T09:06:30.566Z"
   },
   {
    "duration": 19,
    "start_time": "2021-07-08T09:06:30.579Z"
   },
   {
    "duration": 20,
    "start_time": "2021-07-08T09:06:49.466Z"
   },
   {
    "duration": 9,
    "start_time": "2021-07-08T09:06:51.994Z"
   },
   {
    "duration": 20,
    "start_time": "2021-07-08T09:06:52.273Z"
   },
   {
    "duration": 246,
    "start_time": "2021-07-08T09:10:21.272Z"
   },
   {
    "duration": 84,
    "start_time": "2021-07-08T09:10:21.436Z"
   },
   {
    "duration": 7,
    "start_time": "2021-07-08T09:10:37.608Z"
   },
   {
    "duration": 189,
    "start_time": "2021-07-08T09:10:38.573Z"
   },
   {
    "duration": 185,
    "start_time": "2021-07-08T09:10:53.181Z"
   },
   {
    "duration": 11,
    "start_time": "2021-07-08T09:10:59.549Z"
   },
   {
    "duration": 42,
    "start_time": "2021-07-08T09:10:59.709Z"
   },
   {
    "duration": 12,
    "start_time": "2021-07-08T09:11:02.857Z"
   },
   {
    "duration": 28,
    "start_time": "2021-07-08T09:11:10.062Z"
   },
   {
    "duration": 249,
    "start_time": "2021-07-08T09:11:37.388Z"
   },
   {
    "duration": 232,
    "start_time": "2021-07-08T09:11:49.485Z"
   },
   {
    "duration": 453,
    "start_time": "2021-07-08T09:12:01.546Z"
   },
   {
    "duration": 440,
    "start_time": "2021-07-08T09:12:12.347Z"
   },
   {
    "duration": 213,
    "start_time": "2021-07-08T09:13:32.196Z"
   },
   {
    "duration": 172,
    "start_time": "2021-07-08T09:14:07.400Z"
   },
   {
    "duration": 185,
    "start_time": "2021-07-08T09:14:14.905Z"
   },
   {
    "duration": 209,
    "start_time": "2021-07-08T09:14:40.109Z"
   },
   {
    "duration": 201,
    "start_time": "2021-07-08T09:14:54.506Z"
   },
   {
    "duration": 622,
    "start_time": "2021-07-08T09:18:14.497Z"
   },
   {
    "duration": 220,
    "start_time": "2021-07-08T09:18:15.121Z"
   },
   {
    "duration": 79,
    "start_time": "2021-07-08T09:18:15.343Z"
   },
   {
    "duration": 4,
    "start_time": "2021-07-08T09:18:15.425Z"
   },
   {
    "duration": 24,
    "start_time": "2021-07-08T09:18:15.431Z"
   },
   {
    "duration": 8,
    "start_time": "2021-07-08T09:18:15.457Z"
   },
   {
    "duration": 16,
    "start_time": "2021-07-08T09:18:15.466Z"
   },
   {
    "duration": 5,
    "start_time": "2021-07-08T09:18:15.484Z"
   },
   {
    "duration": 10,
    "start_time": "2021-07-08T09:18:15.493Z"
   },
   {
    "duration": 8,
    "start_time": "2021-07-08T09:18:15.504Z"
   },
   {
    "duration": 7,
    "start_time": "2021-07-08T09:18:15.513Z"
   },
   {
    "duration": 26,
    "start_time": "2021-07-08T09:18:15.522Z"
   },
   {
    "duration": 49,
    "start_time": "2021-07-08T09:18:15.550Z"
   },
   {
    "duration": 21,
    "start_time": "2021-07-08T09:18:15.601Z"
   },
   {
    "duration": 8,
    "start_time": "2021-07-08T09:18:15.624Z"
   },
   {
    "duration": 3,
    "start_time": "2021-07-08T09:18:15.634Z"
   },
   {
    "duration": 8,
    "start_time": "2021-07-08T09:18:15.639Z"
   },
   {
    "duration": 45,
    "start_time": "2021-07-08T09:18:15.649Z"
   },
   {
    "duration": 13,
    "start_time": "2021-07-08T09:18:15.696Z"
   },
   {
    "duration": 10,
    "start_time": "2021-07-08T09:18:15.711Z"
   },
   {
    "duration": 64,
    "start_time": "2021-07-08T09:18:15.722Z"
   },
   {
    "duration": 19,
    "start_time": "2021-07-08T09:18:15.788Z"
   },
   {
    "duration": 9,
    "start_time": "2021-07-08T09:18:15.809Z"
   },
   {
    "duration": 9,
    "start_time": "2021-07-08T09:18:15.820Z"
   },
   {
    "duration": 18,
    "start_time": "2021-07-08T09:18:15.831Z"
   },
   {
    "duration": 43,
    "start_time": "2021-07-08T09:18:15.851Z"
   },
   {
    "duration": 12,
    "start_time": "2021-07-08T09:18:15.897Z"
   },
   {
    "duration": 219,
    "start_time": "2021-07-08T09:18:15.911Z"
   },
   {
    "duration": 8,
    "start_time": "2021-07-08T09:18:16.132Z"
   },
   {
    "duration": 199,
    "start_time": "2021-07-08T09:18:16.141Z"
   },
   {
    "duration": 18,
    "start_time": "2021-07-08T09:18:16.341Z"
   },
   {
    "duration": 24,
    "start_time": "2021-07-08T09:18:16.361Z"
   },
   {
    "duration": 24,
    "start_time": "2021-07-08T09:18:16.387Z"
   },
   {
    "duration": 211,
    "start_time": "2021-07-08T09:18:16.413Z"
   },
   {
    "duration": 18,
    "start_time": "2021-07-08T09:18:16.626Z"
   },
   {
    "duration": 596,
    "start_time": "2021-07-08T10:06:33.623Z"
   },
   {
    "duration": 181,
    "start_time": "2021-07-08T10:06:34.221Z"
   },
   {
    "duration": 176,
    "start_time": "2021-07-08T10:06:34.635Z"
   },
   {
    "duration": 239,
    "start_time": "2021-07-08T10:06:55.572Z"
   },
   {
    "duration": 6,
    "start_time": "2021-07-08T10:06:57.687Z"
   },
   {
    "duration": 4,
    "start_time": "2021-07-08T10:07:03.956Z"
   },
   {
    "duration": 4,
    "start_time": "2021-07-08T10:07:10.376Z"
   },
   {
    "duration": 4,
    "start_time": "2021-07-08T10:17:19.889Z"
   },
   {
    "duration": 3,
    "start_time": "2021-07-08T10:19:19.407Z"
   },
   {
    "duration": 197,
    "start_time": "2021-07-08T10:19:19.412Z"
   },
   {
    "duration": 127,
    "start_time": "2021-07-08T10:19:19.611Z"
   },
   {
    "duration": 4,
    "start_time": "2021-07-08T10:19:19.740Z"
   },
   {
    "duration": 27,
    "start_time": "2021-07-08T10:19:19.746Z"
   },
   {
    "duration": 7,
    "start_time": "2021-07-08T10:19:19.775Z"
   },
   {
    "duration": 30,
    "start_time": "2021-07-08T10:19:19.784Z"
   },
   {
    "duration": 7,
    "start_time": "2021-07-08T10:19:19.817Z"
   },
   {
    "duration": 26,
    "start_time": "2021-07-08T10:19:19.826Z"
   },
   {
    "duration": 18,
    "start_time": "2021-07-08T10:19:19.854Z"
   },
   {
    "duration": 14,
    "start_time": "2021-07-08T10:19:19.874Z"
   },
   {
    "duration": 48,
    "start_time": "2021-07-08T10:19:19.890Z"
   },
   {
    "duration": 17,
    "start_time": "2021-07-08T10:19:19.940Z"
   },
   {
    "duration": 38,
    "start_time": "2021-07-08T10:19:19.959Z"
   },
   {
    "duration": 8,
    "start_time": "2021-07-08T10:19:19.999Z"
   },
   {
    "duration": 15,
    "start_time": "2021-07-08T10:19:20.009Z"
   },
   {
    "duration": 22,
    "start_time": "2021-07-08T10:19:20.026Z"
   },
   {
    "duration": 10,
    "start_time": "2021-07-08T10:19:20.050Z"
   },
   {
    "duration": 10,
    "start_time": "2021-07-08T10:19:20.062Z"
   },
   {
    "duration": 20,
    "start_time": "2021-07-08T10:19:20.073Z"
   },
   {
    "duration": 29,
    "start_time": "2021-07-08T10:19:20.095Z"
   },
   {
    "duration": 17,
    "start_time": "2021-07-08T10:19:20.126Z"
   },
   {
    "duration": 40,
    "start_time": "2021-07-08T10:19:20.146Z"
   },
   {
    "duration": 15,
    "start_time": "2021-07-08T10:19:20.189Z"
   },
   {
    "duration": 19,
    "start_time": "2021-07-08T10:19:20.206Z"
   },
   {
    "duration": 10,
    "start_time": "2021-07-08T10:19:20.226Z"
   },
   {
    "duration": 11,
    "start_time": "2021-07-08T10:19:20.238Z"
   },
   {
    "duration": 297,
    "start_time": "2021-07-08T10:19:20.250Z"
   },
   {
    "duration": 6,
    "start_time": "2021-07-08T10:19:20.549Z"
   },
   {
    "duration": 191,
    "start_time": "2021-07-08T10:19:20.557Z"
   },
   {
    "duration": 19,
    "start_time": "2021-07-08T10:19:20.750Z"
   },
   {
    "duration": 20,
    "start_time": "2021-07-08T10:19:20.771Z"
   },
   {
    "duration": 15,
    "start_time": "2021-07-08T10:19:20.793Z"
   },
   {
    "duration": 222,
    "start_time": "2021-07-08T10:19:20.809Z"
   },
   {
    "duration": 20,
    "start_time": "2021-07-08T10:19:21.033Z"
   },
   {
    "duration": 27,
    "start_time": "2021-07-08T10:45:04.055Z"
   },
   {
    "duration": 8,
    "start_time": "2021-07-08T10:45:08.478Z"
   },
   {
    "duration": 8,
    "start_time": "2021-07-08T10:45:31.982Z"
   },
   {
    "duration": 10,
    "start_time": "2021-07-08T10:46:01.221Z"
   },
   {
    "duration": 17,
    "start_time": "2021-07-08T10:46:40.011Z"
   },
   {
    "duration": 193,
    "start_time": "2021-07-08T10:48:19.471Z"
   },
   {
    "duration": 225,
    "start_time": "2021-07-08T10:49:26.480Z"
   },
   {
    "duration": 204,
    "start_time": "2021-07-08T10:49:59.992Z"
   },
   {
    "duration": 435,
    "start_time": "2021-07-08T10:50:06.779Z"
   },
   {
    "duration": 199,
    "start_time": "2021-07-08T10:50:14.891Z"
   },
   {
    "duration": 204,
    "start_time": "2021-07-08T10:50:18.501Z"
   },
   {
    "duration": 244,
    "start_time": "2021-07-08T10:50:23.359Z"
   },
   {
    "duration": 192,
    "start_time": "2021-07-08T10:50:29.135Z"
   },
   {
    "duration": 218,
    "start_time": "2021-07-08T10:50:33.092Z"
   },
   {
    "duration": 207,
    "start_time": "2021-07-08T10:52:45.381Z"
   },
   {
    "duration": 5,
    "start_time": "2021-07-08T10:53:34.641Z"
   },
   {
    "duration": 196,
    "start_time": "2021-07-08T10:53:41.478Z"
   },
   {
    "duration": 43,
    "start_time": "2021-07-08T10:53:50.335Z"
   },
   {
    "duration": 32,
    "start_time": "2021-07-08T10:53:55.294Z"
   },
   {
    "duration": 55,
    "start_time": "2021-07-08T10:54:09.675Z"
   },
   {
    "duration": 16,
    "start_time": "2021-07-08T10:54:12.260Z"
   },
   {
    "duration": 15,
    "start_time": "2021-07-08T10:54:49.150Z"
   },
   {
    "duration": 20,
    "start_time": "2021-07-08T10:56:07.596Z"
   },
   {
    "duration": 16,
    "start_time": "2021-07-08T10:58:26.276Z"
   },
   {
    "duration": 22,
    "start_time": "2021-07-08T10:59:00.486Z"
   },
   {
    "duration": 18,
    "start_time": "2021-07-08T11:02:09.653Z"
   },
   {
    "duration": 10,
    "start_time": "2021-07-08T11:03:44.331Z"
   },
   {
    "duration": 10,
    "start_time": "2021-07-08T11:03:54.055Z"
   },
   {
    "duration": 12,
    "start_time": "2021-07-08T11:04:41.967Z"
   },
   {
    "duration": 24,
    "start_time": "2021-07-08T11:07:30.732Z"
   },
   {
    "duration": 6,
    "start_time": "2021-07-08T11:07:37.364Z"
   },
   {
    "duration": 16,
    "start_time": "2021-07-08T11:08:01.819Z"
   },
   {
    "duration": 17,
    "start_time": "2021-07-08T11:09:47.488Z"
   },
   {
    "duration": 246,
    "start_time": "2021-07-08T11:10:00.830Z"
   },
   {
    "duration": 18,
    "start_time": "2021-07-08T11:13:55.195Z"
   },
   {
    "duration": 204,
    "start_time": "2021-07-08T11:14:04.951Z"
   },
   {
    "duration": 19,
    "start_time": "2021-07-08T11:15:10.613Z"
   },
   {
    "duration": 680,
    "start_time": "2021-07-08T11:16:25.793Z"
   },
   {
    "duration": 451,
    "start_time": "2021-07-08T11:16:40.313Z"
   },
   {
    "duration": 469,
    "start_time": "2021-07-08T11:17:21.286Z"
   },
   {
    "duration": 20,
    "start_time": "2021-07-08T11:19:12.554Z"
   },
   {
    "duration": 35,
    "start_time": "2021-07-08T11:20:05.484Z"
   },
   {
    "duration": 53,
    "start_time": "2021-07-08T11:21:40.050Z"
   },
   {
    "duration": 13,
    "start_time": "2021-07-08T11:22:26.059Z"
   },
   {
    "duration": 19,
    "start_time": "2021-07-08T11:22:47.419Z"
   },
   {
    "duration": 25,
    "start_time": "2021-07-08T11:23:19.958Z"
   },
   {
    "duration": 29,
    "start_time": "2021-07-08T11:23:25.415Z"
   },
   {
    "duration": 10,
    "start_time": "2021-07-08T11:24:45.138Z"
   },
   {
    "duration": 19,
    "start_time": "2021-07-08T11:24:54.498Z"
   },
   {
    "duration": 12,
    "start_time": "2021-07-08T11:25:32.225Z"
   },
   {
    "duration": 19,
    "start_time": "2021-07-08T11:25:37.092Z"
   },
   {
    "duration": 17,
    "start_time": "2021-07-08T11:25:58.116Z"
   },
   {
    "duration": 15,
    "start_time": "2021-07-08T11:26:02.258Z"
   },
   {
    "duration": 8,
    "start_time": "2021-07-08T11:26:59.682Z"
   },
   {
    "duration": 184,
    "start_time": "2021-07-08T11:27:21.894Z"
   },
   {
    "duration": 8,
    "start_time": "2021-07-08T11:27:23.824Z"
   },
   {
    "duration": 202,
    "start_time": "2021-07-08T11:27:23.962Z"
   },
   {
    "duration": 360,
    "start_time": "2021-07-08T11:28:33.215Z"
   },
   {
    "duration": 231,
    "start_time": "2021-07-08T11:32:05.542Z"
   },
   {
    "duration": 607,
    "start_time": "2021-07-08T11:36:27.854Z"
   },
   {
    "duration": 241,
    "start_time": "2021-07-08T11:36:28.463Z"
   },
   {
    "duration": 67,
    "start_time": "2021-07-08T11:36:28.709Z"
   },
   {
    "duration": 5,
    "start_time": "2021-07-08T11:36:28.778Z"
   },
   {
    "duration": 32,
    "start_time": "2021-07-08T11:36:28.784Z"
   },
   {
    "duration": 11,
    "start_time": "2021-07-08T11:36:28.819Z"
   },
   {
    "duration": 20,
    "start_time": "2021-07-08T11:36:28.834Z"
   },
   {
    "duration": 36,
    "start_time": "2021-07-08T11:36:28.857Z"
   },
   {
    "duration": 16,
    "start_time": "2021-07-08T11:36:28.895Z"
   },
   {
    "duration": 14,
    "start_time": "2021-07-08T11:36:28.913Z"
   },
   {
    "duration": 9,
    "start_time": "2021-07-08T11:36:28.930Z"
   },
   {
    "duration": 55,
    "start_time": "2021-07-08T11:36:28.941Z"
   },
   {
    "duration": 27,
    "start_time": "2021-07-08T11:36:28.999Z"
   },
   {
    "duration": 30,
    "start_time": "2021-07-08T11:36:29.028Z"
   },
   {
    "duration": 31,
    "start_time": "2021-07-08T11:36:29.060Z"
   },
   {
    "duration": 3,
    "start_time": "2021-07-08T11:36:29.093Z"
   },
   {
    "duration": 12,
    "start_time": "2021-07-08T11:36:29.099Z"
   },
   {
    "duration": 11,
    "start_time": "2021-07-08T11:36:29.112Z"
   },
   {
    "duration": 12,
    "start_time": "2021-07-08T11:36:29.125Z"
   },
   {
    "duration": 9,
    "start_time": "2021-07-08T11:36:29.139Z"
   },
   {
    "duration": 31,
    "start_time": "2021-07-08T11:36:29.191Z"
   },
   {
    "duration": 17,
    "start_time": "2021-07-08T11:36:29.226Z"
   },
   {
    "duration": 7,
    "start_time": "2021-07-08T11:36:29.245Z"
   },
   {
    "duration": 10,
    "start_time": "2021-07-08T11:36:29.254Z"
   },
   {
    "duration": 30,
    "start_time": "2021-07-08T11:36:29.292Z"
   },
   {
    "duration": 11,
    "start_time": "2021-07-08T11:36:29.324Z"
   },
   {
    "duration": 11,
    "start_time": "2021-07-08T11:36:29.337Z"
   },
   {
    "duration": 230,
    "start_time": "2021-07-08T11:36:29.349Z"
   },
   {
    "duration": 13,
    "start_time": "2021-07-08T11:36:29.588Z"
   },
   {
    "duration": 205,
    "start_time": "2021-07-08T11:36:29.603Z"
   },
   {
    "duration": 20,
    "start_time": "2021-07-08T11:36:29.810Z"
   },
   {
    "duration": 9,
    "start_time": "2021-07-08T11:36:29.832Z"
   },
   {
    "duration": 16,
    "start_time": "2021-07-08T11:36:29.843Z"
   },
   {
    "duration": 283,
    "start_time": "2021-07-08T11:36:29.861Z"
   },
   {
    "duration": 50,
    "start_time": "2021-07-08T11:36:30.146Z"
   },
   {
    "duration": 14,
    "start_time": "2021-07-08T11:36:30.198Z"
   },
   {
    "duration": 11,
    "start_time": "2021-07-08T11:36:30.214Z"
   },
   {
    "duration": 245,
    "start_time": "2021-07-08T11:36:30.227Z"
   },
   {
    "duration": 439,
    "start_time": "2021-07-08T11:36:30.474Z"
   },
   {
    "duration": 210,
    "start_time": "2021-07-08T11:36:30.915Z"
   },
   {
    "duration": 15,
    "start_time": "2021-07-08T11:36:31.127Z"
   },
   {
    "duration": 17,
    "start_time": "2021-07-08T11:38:20.451Z"
   },
   {
    "duration": 642,
    "start_time": "2021-07-08T11:46:17.881Z"
   },
   {
    "duration": 210,
    "start_time": "2021-07-08T11:46:18.525Z"
   },
   {
    "duration": 104,
    "start_time": "2021-07-08T11:46:18.741Z"
   },
   {
    "duration": 8,
    "start_time": "2021-07-08T11:46:18.847Z"
   },
   {
    "duration": 25,
    "start_time": "2021-07-08T11:46:18.857Z"
   },
   {
    "duration": 14,
    "start_time": "2021-07-08T11:46:18.884Z"
   },
   {
    "duration": 22,
    "start_time": "2021-07-08T11:46:18.900Z"
   },
   {
    "duration": 5,
    "start_time": "2021-07-08T11:46:18.924Z"
   },
   {
    "duration": 13,
    "start_time": "2021-07-08T11:46:18.931Z"
   },
   {
    "duration": 45,
    "start_time": "2021-07-08T11:46:18.946Z"
   },
   {
    "duration": 12,
    "start_time": "2021-07-08T11:46:18.993Z"
   },
   {
    "duration": 38,
    "start_time": "2021-07-08T11:46:19.006Z"
   },
   {
    "duration": 50,
    "start_time": "2021-07-08T11:46:19.046Z"
   },
   {
    "duration": 29,
    "start_time": "2021-07-08T11:46:19.099Z"
   },
   {
    "duration": 7,
    "start_time": "2021-07-08T11:46:19.130Z"
   },
   {
    "duration": 3,
    "start_time": "2021-07-08T11:46:19.139Z"
   },
   {
    "duration": 11,
    "start_time": "2021-07-08T11:46:19.144Z"
   },
   {
    "duration": 40,
    "start_time": "2021-07-08T11:46:19.157Z"
   },
   {
    "duration": 15,
    "start_time": "2021-07-08T11:46:19.199Z"
   },
   {
    "duration": 10,
    "start_time": "2021-07-08T11:46:19.217Z"
   },
   {
    "duration": 68,
    "start_time": "2021-07-08T11:46:19.230Z"
   },
   {
    "duration": 17,
    "start_time": "2021-07-08T11:46:19.301Z"
   },
   {
    "duration": 7,
    "start_time": "2021-07-08T11:46:19.321Z"
   },
   {
    "duration": 11,
    "start_time": "2021-07-08T11:46:19.330Z"
   },
   {
    "duration": 59,
    "start_time": "2021-07-08T11:46:19.343Z"
   },
   {
    "duration": 17,
    "start_time": "2021-07-08T11:46:19.405Z"
   },
   {
    "duration": 16,
    "start_time": "2021-07-08T11:46:19.424Z"
   },
   {
    "duration": 252,
    "start_time": "2021-07-08T11:46:19.443Z"
   },
   {
    "duration": 9,
    "start_time": "2021-07-08T11:46:19.697Z"
   },
   {
    "duration": 224,
    "start_time": "2021-07-08T11:46:19.708Z"
   },
   {
    "duration": 21,
    "start_time": "2021-07-08T11:46:19.934Z"
   },
   {
    "duration": 9,
    "start_time": "2021-07-08T11:46:19.956Z"
   },
   {
    "duration": 32,
    "start_time": "2021-07-08T11:46:19.967Z"
   },
   {
    "duration": 288,
    "start_time": "2021-07-08T11:46:20.004Z"
   },
   {
    "duration": 23,
    "start_time": "2021-07-08T11:46:20.300Z"
   },
   {
    "duration": 11,
    "start_time": "2021-07-08T11:46:20.325Z"
   },
   {
    "duration": 11,
    "start_time": "2021-07-08T11:46:20.339Z"
   },
   {
    "duration": 259,
    "start_time": "2021-07-08T11:46:20.352Z"
   },
   {
    "duration": 438,
    "start_time": "2021-07-08T11:46:20.613Z"
   },
   {
    "duration": 207,
    "start_time": "2021-07-08T11:46:21.054Z"
   },
   {
    "duration": 27,
    "start_time": "2021-07-08T11:46:21.262Z"
   },
   {
    "duration": 19,
    "start_time": "2021-07-08T11:46:21.291Z"
   },
   {
    "duration": 820,
    "start_time": "2021-07-08T11:49:01.655Z"
   },
   {
    "duration": 372,
    "start_time": "2021-07-08T11:49:02.478Z"
   },
   {
    "duration": 98,
    "start_time": "2021-07-08T11:49:02.853Z"
   },
   {
    "duration": 6,
    "start_time": "2021-07-08T11:49:02.953Z"
   },
   {
    "duration": 39,
    "start_time": "2021-07-08T11:49:02.960Z"
   },
   {
    "duration": 9,
    "start_time": "2021-07-08T11:49:03.003Z"
   },
   {
    "duration": 23,
    "start_time": "2021-07-08T11:49:03.014Z"
   },
   {
    "duration": 6,
    "start_time": "2021-07-08T11:49:03.041Z"
   },
   {
    "duration": 20,
    "start_time": "2021-07-08T11:49:03.049Z"
   },
   {
    "duration": 18,
    "start_time": "2021-07-08T11:49:03.084Z"
   },
   {
    "duration": 14,
    "start_time": "2021-07-08T11:49:03.104Z"
   },
   {
    "duration": 39,
    "start_time": "2021-07-08T11:49:03.119Z"
   },
   {
    "duration": 38,
    "start_time": "2021-07-08T11:49:03.160Z"
   },
   {
    "duration": 26,
    "start_time": "2021-07-08T11:49:03.200Z"
   },
   {
    "duration": 7,
    "start_time": "2021-07-08T11:49:03.227Z"
   },
   {
    "duration": 4,
    "start_time": "2021-07-08T11:49:03.236Z"
   },
   {
    "duration": 15,
    "start_time": "2021-07-08T11:49:03.243Z"
   },
   {
    "duration": 21,
    "start_time": "2021-07-08T11:49:03.285Z"
   },
   {
    "duration": 17,
    "start_time": "2021-07-08T11:49:03.309Z"
   },
   {
    "duration": 10,
    "start_time": "2021-07-08T11:49:03.328Z"
   },
   {
    "duration": 65,
    "start_time": "2021-07-08T11:49:03.340Z"
   },
   {
    "duration": 18,
    "start_time": "2021-07-08T11:49:03.407Z"
   },
   {
    "duration": 8,
    "start_time": "2021-07-08T11:49:03.428Z"
   },
   {
    "duration": 15,
    "start_time": "2021-07-08T11:49:03.438Z"
   },
   {
    "duration": 40,
    "start_time": "2021-07-08T11:49:03.455Z"
   },
   {
    "duration": 12,
    "start_time": "2021-07-08T11:49:03.497Z"
   },
   {
    "duration": 29,
    "start_time": "2021-07-08T11:49:03.511Z"
   },
   {
    "duration": 285,
    "start_time": "2021-07-08T11:49:03.542Z"
   },
   {
    "duration": 8,
    "start_time": "2021-07-08T11:49:03.829Z"
   },
   {
    "duration": 227,
    "start_time": "2021-07-08T11:49:03.838Z"
   },
   {
    "duration": 40,
    "start_time": "2021-07-08T11:49:04.066Z"
   },
   {
    "duration": 10,
    "start_time": "2021-07-08T11:49:04.108Z"
   },
   {
    "duration": 26,
    "start_time": "2021-07-08T11:49:04.121Z"
   },
   {
    "duration": 290,
    "start_time": "2021-07-08T11:49:04.149Z"
   },
   {
    "duration": 26,
    "start_time": "2021-07-08T11:49:04.441Z"
   },
   {
    "duration": 31,
    "start_time": "2021-07-08T11:49:04.470Z"
   },
   {
    "duration": 14,
    "start_time": "2021-07-08T11:49:04.503Z"
   },
   {
    "duration": 259,
    "start_time": "2021-07-08T11:49:04.521Z"
   },
   {
    "duration": 480,
    "start_time": "2021-07-08T11:49:04.782Z"
   },
   {
    "duration": 225,
    "start_time": "2021-07-08T11:49:05.264Z"
   },
   {
    "duration": 22,
    "start_time": "2021-07-08T11:49:05.491Z"
   },
   {
    "duration": 24,
    "start_time": "2021-07-08T11:49:05.515Z"
   },
   {
    "duration": 634,
    "start_time": "2021-07-08T11:52:24.960Z"
   },
   {
    "duration": 199,
    "start_time": "2021-07-08T11:52:25.599Z"
   },
   {
    "duration": 106,
    "start_time": "2021-07-08T11:52:25.803Z"
   },
   {
    "duration": 7,
    "start_time": "2021-07-08T11:52:25.911Z"
   },
   {
    "duration": 29,
    "start_time": "2021-07-08T11:52:25.920Z"
   },
   {
    "duration": 7,
    "start_time": "2021-07-08T11:52:25.951Z"
   },
   {
    "duration": 26,
    "start_time": "2021-07-08T11:52:25.961Z"
   },
   {
    "duration": 11,
    "start_time": "2021-07-08T11:52:25.990Z"
   },
   {
    "duration": 29,
    "start_time": "2021-07-08T11:52:26.005Z"
   },
   {
    "duration": 9,
    "start_time": "2021-07-08T11:52:26.036Z"
   },
   {
    "duration": 8,
    "start_time": "2021-07-08T11:52:26.047Z"
   },
   {
    "duration": 63,
    "start_time": "2021-07-08T11:52:26.057Z"
   },
   {
    "duration": 17,
    "start_time": "2021-07-08T11:52:26.122Z"
   },
   {
    "duration": 43,
    "start_time": "2021-07-08T11:52:26.142Z"
   },
   {
    "duration": 17,
    "start_time": "2021-07-08T11:52:26.187Z"
   },
   {
    "duration": 5,
    "start_time": "2021-07-08T11:52:26.206Z"
   },
   {
    "duration": 12,
    "start_time": "2021-07-08T11:52:26.212Z"
   },
   {
    "duration": 11,
    "start_time": "2021-07-08T11:52:26.226Z"
   },
   {
    "duration": 12,
    "start_time": "2021-07-08T11:52:26.238Z"
   },
   {
    "duration": 38,
    "start_time": "2021-07-08T11:52:26.252Z"
   },
   {
    "duration": 40,
    "start_time": "2021-07-08T11:52:26.292Z"
   },
   {
    "duration": 17,
    "start_time": "2021-07-08T11:52:26.336Z"
   },
   {
    "duration": 39,
    "start_time": "2021-07-08T11:52:26.355Z"
   },
   {
    "duration": 11,
    "start_time": "2021-07-08T11:52:26.395Z"
   },
   {
    "duration": 23,
    "start_time": "2021-07-08T11:52:26.408Z"
   },
   {
    "duration": 12,
    "start_time": "2021-07-08T11:52:26.432Z"
   },
   {
    "duration": 41,
    "start_time": "2021-07-08T11:52:26.446Z"
   },
   {
    "duration": 215,
    "start_time": "2021-07-08T11:52:26.493Z"
   },
   {
    "duration": 8,
    "start_time": "2021-07-08T11:52:26.710Z"
   },
   {
    "duration": 228,
    "start_time": "2021-07-08T11:52:26.720Z"
   },
   {
    "duration": 18,
    "start_time": "2021-07-08T11:52:26.950Z"
   },
   {
    "duration": 35,
    "start_time": "2021-07-08T11:52:26.969Z"
   },
   {
    "duration": 23,
    "start_time": "2021-07-08T11:52:27.006Z"
   },
   {
    "duration": 258,
    "start_time": "2021-07-08T11:52:27.030Z"
   },
   {
    "duration": 24,
    "start_time": "2021-07-08T11:52:27.290Z"
   },
   {
    "duration": 12,
    "start_time": "2021-07-08T11:52:27.316Z"
   },
   {
    "duration": 10,
    "start_time": "2021-07-08T11:52:27.329Z"
   },
   {
    "duration": 298,
    "start_time": "2021-07-08T11:52:27.341Z"
   },
   {
    "duration": 436,
    "start_time": "2021-07-08T11:52:27.641Z"
   },
   {
    "duration": 216,
    "start_time": "2021-07-08T11:52:28.079Z"
   },
   {
    "duration": 20,
    "start_time": "2021-07-08T11:52:28.297Z"
   },
   {
    "duration": 17,
    "start_time": "2021-07-08T11:52:28.319Z"
   },
   {
    "duration": 403,
    "start_time": "2022-09-17T13:21:49.296Z"
   },
   {
    "duration": 206,
    "start_time": "2022-09-17T13:22:48.414Z"
   },
   {
    "duration": 100,
    "start_time": "2022-09-17T13:23:24.523Z"
   },
   {
    "duration": 91,
    "start_time": "2022-09-17T13:23:56.251Z"
   },
   {
    "duration": 57,
    "start_time": "2022-09-17T13:24:05.851Z"
   },
   {
    "duration": 101,
    "start_time": "2022-09-17T13:24:20.818Z"
   },
   {
    "duration": 109,
    "start_time": "2022-09-17T13:24:53.173Z"
   },
   {
    "duration": 65,
    "start_time": "2022-09-17T13:24:59.336Z"
   },
   {
    "duration": 105,
    "start_time": "2022-09-17T13:34:11.522Z"
   },
   {
    "duration": 62,
    "start_time": "2022-09-17T13:34:14.634Z"
   },
   {
    "duration": 700,
    "start_time": "2022-09-17T19:41:36.212Z"
   },
   {
    "duration": 104,
    "start_time": "2022-09-17T19:41:36.914Z"
   },
   {
    "duration": 1702,
    "start_time": "2022-09-17T19:44:13.696Z"
   },
   {
    "duration": 1244,
    "start_time": "2022-09-17T19:44:26.137Z"
   },
   {
    "duration": 346,
    "start_time": "2022-09-17T19:44:42.563Z"
   },
   {
    "duration": 294,
    "start_time": "2022-09-17T19:44:58.443Z"
   },
   {
    "duration": 7,
    "start_time": "2022-09-17T19:47:04.694Z"
   },
   {
    "duration": 4,
    "start_time": "2022-09-17T19:51:18.787Z"
   },
   {
    "duration": 13,
    "start_time": "2022-09-17T19:51:36.897Z"
   },
   {
    "duration": 41,
    "start_time": "2022-09-17T20:06:42.266Z"
   },
   {
    "duration": 24,
    "start_time": "2022-09-17T20:08:17.774Z"
   },
   {
    "duration": 21,
    "start_time": "2022-09-17T20:08:34.385Z"
   },
   {
    "duration": 31,
    "start_time": "2022-09-17T20:09:03.636Z"
   },
   {
    "duration": 1418,
    "start_time": "2022-09-17T20:10:04.776Z"
   },
   {
    "duration": 46,
    "start_time": "2022-09-17T20:10:17.692Z"
   },
   {
    "duration": 38,
    "start_time": "2022-09-17T20:10:35.019Z"
   },
   {
    "duration": 6,
    "start_time": "2022-09-17T20:11:05.208Z"
   },
   {
    "duration": 6,
    "start_time": "2022-09-17T20:11:11.257Z"
   },
   {
    "duration": 6,
    "start_time": "2022-09-17T20:11:18.966Z"
   },
   {
    "duration": 5,
    "start_time": "2022-09-17T20:11:51.003Z"
   },
   {
    "duration": 9,
    "start_time": "2022-09-17T20:12:22.230Z"
   },
   {
    "duration": 6,
    "start_time": "2022-09-17T20:12:30.120Z"
   },
   {
    "duration": 9,
    "start_time": "2022-09-17T20:12:38.846Z"
   },
   {
    "duration": 7,
    "start_time": "2022-09-17T20:12:52.047Z"
   },
   {
    "duration": 11,
    "start_time": "2022-09-17T20:13:39.742Z"
   },
   {
    "duration": 40,
    "start_time": "2022-09-17T20:13:55.900Z"
   },
   {
    "duration": 17,
    "start_time": "2022-09-17T20:21:21.316Z"
   },
   {
    "duration": 19,
    "start_time": "2022-09-17T20:21:49.261Z"
   },
   {
    "duration": 13,
    "start_time": "2022-09-17T20:22:05.660Z"
   },
   {
    "duration": 19,
    "start_time": "2022-09-17T20:22:17.355Z"
   },
   {
    "duration": 554,
    "start_time": "2022-09-17T20:22:28.737Z"
   },
   {
    "duration": 62,
    "start_time": "2022-09-17T20:22:29.293Z"
   },
   {
    "duration": 10,
    "start_time": "2022-09-17T20:22:29.359Z"
   },
   {
    "duration": 23,
    "start_time": "2022-09-17T20:22:29.370Z"
   },
   {
    "duration": 22,
    "start_time": "2022-09-17T20:22:49.340Z"
   },
   {
    "duration": 51,
    "start_time": "2022-09-17T20:23:25.040Z"
   },
   {
    "duration": 26,
    "start_time": "2022-09-17T20:23:30.478Z"
   },
   {
    "duration": 26,
    "start_time": "2022-09-17T20:23:42.547Z"
   },
   {
    "duration": 15,
    "start_time": "2022-09-17T20:23:50.997Z"
   },
   {
    "duration": 26,
    "start_time": "2022-09-17T20:23:59.115Z"
   },
   {
    "duration": 31,
    "start_time": "2022-09-17T20:24:07.143Z"
   },
   {
    "duration": 17,
    "start_time": "2022-09-17T20:24:47.911Z"
   },
   {
    "duration": 505,
    "start_time": "2022-09-17T20:24:59.007Z"
   },
   {
    "duration": 57,
    "start_time": "2022-09-17T20:24:59.513Z"
   },
   {
    "duration": 10,
    "start_time": "2022-09-17T20:24:59.571Z"
   },
   {
    "duration": 78,
    "start_time": "2022-09-17T20:24:59.582Z"
   },
   {
    "duration": 334,
    "start_time": "2022-09-17T20:25:21.376Z"
   },
   {
    "duration": 326,
    "start_time": "2022-09-17T20:27:00.209Z"
   },
   {
    "duration": 786,
    "start_time": "2022-09-17T20:27:10.254Z"
   },
   {
    "duration": 107,
    "start_time": "2022-09-17T20:27:41.342Z"
   },
   {
    "duration": 4,
    "start_time": "2022-09-17T20:28:20.644Z"
   },
   {
    "duration": 5,
    "start_time": "2022-09-17T20:29:17.639Z"
   },
   {
    "duration": 4,
    "start_time": "2022-09-17T20:29:36.596Z"
   },
   {
    "duration": 6,
    "start_time": "2022-09-17T20:31:29.847Z"
   },
   {
    "duration": 13,
    "start_time": "2022-09-17T20:32:18.152Z"
   },
   {
    "duration": 30,
    "start_time": "2022-09-17T20:32:53.575Z"
   },
   {
    "duration": 41,
    "start_time": "2022-09-17T20:43:36.139Z"
   },
   {
    "duration": 37,
    "start_time": "2022-09-17T20:43:49.399Z"
   },
   {
    "duration": 445,
    "start_time": "2022-09-17T20:45:45.187Z"
   },
   {
    "duration": 52,
    "start_time": "2022-09-17T20:45:45.637Z"
   },
   {
    "duration": 14,
    "start_time": "2022-09-17T20:45:45.691Z"
   },
   {
    "duration": 34,
    "start_time": "2022-09-17T20:45:45.707Z"
   },
   {
    "duration": 111,
    "start_time": "2022-09-17T20:47:05.493Z"
   },
   {
    "duration": 73,
    "start_time": "2022-09-17T20:48:05.697Z"
   },
   {
    "duration": 101,
    "start_time": "2022-09-17T20:48:41.437Z"
   },
   {
    "duration": 60,
    "start_time": "2022-09-17T20:48:49.243Z"
   },
   {
    "duration": 13,
    "start_time": "2022-09-17T20:48:52.769Z"
   },
   {
    "duration": 42,
    "start_time": "2022-09-17T20:48:53.992Z"
   },
   {
    "duration": 104,
    "start_time": "2022-09-17T20:49:35.680Z"
   },
   {
    "duration": 65,
    "start_time": "2022-09-17T20:49:40.738Z"
   },
   {
    "duration": 13,
    "start_time": "2022-09-17T20:49:43.537Z"
   },
   {
    "duration": 32,
    "start_time": "2022-09-17T20:49:45.176Z"
   },
   {
    "duration": 9,
    "start_time": "2022-09-17T20:50:41.340Z"
   },
   {
    "duration": 4,
    "start_time": "2022-09-17T20:51:11.350Z"
   },
   {
    "duration": 3,
    "start_time": "2022-09-17T20:53:45.540Z"
   },
   {
    "duration": 446,
    "start_time": "2022-09-17T20:55:13.685Z"
   },
   {
    "duration": 49,
    "start_time": "2022-09-17T20:55:14.136Z"
   },
   {
    "duration": 363,
    "start_time": "2022-09-17T20:55:14.187Z"
   },
   {
    "duration": 0,
    "start_time": "2022-09-17T20:55:14.552Z"
   },
   {
    "duration": 0,
    "start_time": "2022-09-17T20:55:14.554Z"
   },
   {
    "duration": 14,
    "start_time": "2022-09-17T20:55:31.390Z"
   },
   {
    "duration": 32,
    "start_time": "2022-09-17T20:55:37.003Z"
   },
   {
    "duration": 2,
    "start_time": "2022-09-17T20:56:21.837Z"
   },
   {
    "duration": 97,
    "start_time": "2022-09-17T20:57:15.988Z"
   },
   {
    "duration": 496,
    "start_time": "2022-09-17T20:57:50.694Z"
   },
   {
    "duration": 63,
    "start_time": "2022-09-17T20:57:51.192Z"
   },
   {
    "duration": 2,
    "start_time": "2022-09-17T20:57:51.260Z"
   },
   {
    "duration": 19,
    "start_time": "2022-09-17T20:57:51.264Z"
   },
   {
    "duration": 29,
    "start_time": "2022-09-17T20:57:51.284Z"
   },
   {
    "duration": 79,
    "start_time": "2022-09-20T10:02:18.488Z"
   },
   {
    "duration": 1314,
    "start_time": "2022-09-20T10:02:35.695Z"
   },
   {
    "duration": 239,
    "start_time": "2022-09-20T10:02:37.011Z"
   },
   {
    "duration": 90,
    "start_time": "2022-09-20T10:02:37.252Z"
   },
   {
    "duration": 3,
    "start_time": "2022-09-20T10:02:37.343Z"
   },
   {
    "duration": 22,
    "start_time": "2022-09-20T10:02:37.348Z"
   },
   {
    "duration": 33,
    "start_time": "2022-09-20T10:02:37.372Z"
   },
   {
    "duration": 104,
    "start_time": "2022-09-20T10:04:21.750Z"
   },
   {
    "duration": 110,
    "start_time": "2022-09-20T10:04:39.148Z"
   },
   {
    "duration": 126,
    "start_time": "2022-09-20T10:04:54.397Z"
   },
   {
    "duration": 152,
    "start_time": "2022-09-20T10:05:03.703Z"
   },
   {
    "duration": 105,
    "start_time": "2022-09-20T10:05:22.533Z"
   },
   {
    "duration": 107,
    "start_time": "2022-09-20T10:05:32.515Z"
   },
   {
    "duration": 101,
    "start_time": "2022-09-20T10:05:40.673Z"
   },
   {
    "duration": 5,
    "start_time": "2022-09-20T10:07:38.112Z"
   },
   {
    "duration": 5,
    "start_time": "2022-09-20T10:08:23.671Z"
   },
   {
    "duration": 10,
    "start_time": "2022-09-20T10:08:38.901Z"
   },
   {
    "duration": 6,
    "start_time": "2022-09-20T10:08:53.837Z"
   },
   {
    "duration": 1239,
    "start_time": "2022-09-21T12:37:20.167Z"
   },
   {
    "duration": 247,
    "start_time": "2022-09-21T12:37:21.412Z"
   },
   {
    "duration": 90,
    "start_time": "2022-09-21T12:37:21.661Z"
   },
   {
    "duration": 3,
    "start_time": "2022-09-21T12:37:21.753Z"
   },
   {
    "duration": 22,
    "start_time": "2022-09-21T12:37:21.757Z"
   },
   {
    "duration": 44,
    "start_time": "2022-09-21T12:37:21.780Z"
   },
   {
    "duration": 8,
    "start_time": "2022-09-21T12:37:21.826Z"
   },
   {
    "duration": 154,
    "start_time": "2022-09-21T12:37:41.574Z"
   },
   {
    "duration": 26,
    "start_time": "2022-09-21T12:37:52.867Z"
   },
   {
    "duration": 22,
    "start_time": "2022-09-21T12:41:43.479Z"
   },
   {
    "duration": 22,
    "start_time": "2022-09-21T12:42:05.970Z"
   },
   {
    "duration": 66,
    "start_time": "2022-09-21T12:50:53.439Z"
   },
   {
    "duration": 73,
    "start_time": "2022-09-21T12:51:13.536Z"
   },
   {
    "duration": 230,
    "start_time": "2022-09-21T12:51:17.167Z"
   },
   {
    "duration": 12,
    "start_time": "2022-09-21T12:51:37.040Z"
   },
   {
    "duration": 9,
    "start_time": "2022-09-21T12:52:21.563Z"
   },
   {
    "duration": 20,
    "start_time": "2022-09-21T12:57:51.978Z"
   },
   {
    "duration": 4,
    "start_time": "2022-09-21T12:57:53.341Z"
   },
   {
    "duration": 4,
    "start_time": "2022-09-21T13:43:27.769Z"
   },
   {
    "duration": 58,
    "start_time": "2022-09-21T13:46:18.596Z"
   },
   {
    "duration": 52,
    "start_time": "2022-09-22T13:37:44.999Z"
   },
   {
    "duration": 1293,
    "start_time": "2022-09-22T13:37:55.290Z"
   },
   {
    "duration": 278,
    "start_time": "2022-09-22T13:37:56.587Z"
   },
   {
    "duration": 90,
    "start_time": "2022-09-22T13:37:56.867Z"
   },
   {
    "duration": 2,
    "start_time": "2022-09-22T13:37:56.959Z"
   },
   {
    "duration": 19,
    "start_time": "2022-09-22T13:37:56.964Z"
   },
   {
    "duration": 32,
    "start_time": "2022-09-22T13:37:56.984Z"
   },
   {
    "duration": 18,
    "start_time": "2022-09-22T13:37:57.018Z"
   },
   {
    "duration": 27,
    "start_time": "2022-09-22T13:37:57.038Z"
   },
   {
    "duration": 91,
    "start_time": "2022-09-22T13:37:57.067Z"
   },
   {
    "duration": 19,
    "start_time": "2022-09-22T13:40:18.580Z"
   },
   {
    "duration": 1121,
    "start_time": "2022-09-22T13:41:38.883Z"
   },
   {
    "duration": 103,
    "start_time": "2022-09-22T13:41:40.006Z"
   },
   {
    "duration": 46,
    "start_time": "2022-09-22T13:41:40.111Z"
   },
   {
    "duration": 3,
    "start_time": "2022-09-22T13:41:40.159Z"
   },
   {
    "duration": 30,
    "start_time": "2022-09-22T13:41:40.165Z"
   },
   {
    "duration": 42,
    "start_time": "2022-09-22T13:41:40.197Z"
   },
   {
    "duration": 17,
    "start_time": "2022-09-22T13:41:40.240Z"
   },
   {
    "duration": 24,
    "start_time": "2022-09-22T13:41:40.259Z"
   },
   {
    "duration": 69,
    "start_time": "2022-09-22T13:41:40.285Z"
   },
   {
    "duration": 1292,
    "start_time": "2022-09-23T08:16:18.593Z"
   },
   {
    "duration": 469,
    "start_time": "2022-09-23T08:16:19.887Z"
   },
   {
    "duration": 99,
    "start_time": "2022-09-23T08:16:20.357Z"
   },
   {
    "duration": 3,
    "start_time": "2022-09-23T08:16:20.458Z"
   },
   {
    "duration": 18,
    "start_time": "2022-09-23T08:16:20.462Z"
   },
   {
    "duration": 53,
    "start_time": "2022-09-23T08:16:20.481Z"
   },
   {
    "duration": 17,
    "start_time": "2022-09-23T08:16:20.536Z"
   },
   {
    "duration": 24,
    "start_time": "2022-09-23T08:16:20.554Z"
   },
   {
    "duration": 62,
    "start_time": "2022-09-23T08:16:20.580Z"
   },
   {
    "duration": 7,
    "start_time": "2022-09-23T12:25:45.999Z"
   },
   {
    "duration": 112,
    "start_time": "2022-09-23T12:25:56.355Z"
   },
   {
    "duration": 8,
    "start_time": "2022-09-23T12:26:45.359Z"
   },
   {
    "duration": 8,
    "start_time": "2022-09-23T12:26:55.958Z"
   },
   {
    "duration": 15,
    "start_time": "2022-09-23T12:27:18.004Z"
   },
   {
    "duration": 1107,
    "start_time": "2022-09-23T12:27:24.928Z"
   },
   {
    "duration": 119,
    "start_time": "2022-09-23T12:27:26.036Z"
   },
   {
    "duration": 49,
    "start_time": "2022-09-23T12:27:26.156Z"
   },
   {
    "duration": 2,
    "start_time": "2022-09-23T12:27:26.207Z"
   },
   {
    "duration": 19,
    "start_time": "2022-09-23T12:27:26.212Z"
   },
   {
    "duration": 37,
    "start_time": "2022-09-23T12:27:26.232Z"
   },
   {
    "duration": 39,
    "start_time": "2022-09-23T12:27:26.271Z"
   },
   {
    "duration": 34,
    "start_time": "2022-09-23T12:27:26.313Z"
   },
   {
    "duration": 70,
    "start_time": "2022-09-23T12:27:26.348Z"
   },
   {
    "duration": 22,
    "start_time": "2022-09-23T12:27:26.421Z"
   },
   {
    "duration": 18,
    "start_time": "2022-09-23T12:28:18.029Z"
   },
   {
    "duration": 117,
    "start_time": "2022-09-23T12:28:40.673Z"
   },
   {
    "duration": 11,
    "start_time": "2022-09-23T12:28:48.893Z"
   },
   {
    "duration": 9,
    "start_time": "2022-09-23T12:29:01.442Z"
   },
   {
    "duration": 8,
    "start_time": "2022-09-23T12:29:08.174Z"
   },
   {
    "duration": 11,
    "start_time": "2022-09-23T12:29:15.056Z"
   },
   {
    "duration": 1141,
    "start_time": "2022-09-23T12:29:25.526Z"
   },
   {
    "duration": 138,
    "start_time": "2022-09-23T12:29:26.669Z"
   },
   {
    "duration": 64,
    "start_time": "2022-09-23T12:29:26.823Z"
   },
   {
    "duration": 3,
    "start_time": "2022-09-23T12:29:26.889Z"
   },
   {
    "duration": 27,
    "start_time": "2022-09-23T12:29:26.894Z"
   },
   {
    "duration": 39,
    "start_time": "2022-09-23T12:29:26.923Z"
   },
   {
    "duration": 17,
    "start_time": "2022-09-23T12:29:26.964Z"
   },
   {
    "duration": 79,
    "start_time": "2022-09-23T12:29:26.982Z"
   },
   {
    "duration": 78,
    "start_time": "2022-09-23T12:29:27.063Z"
   },
   {
    "duration": 19,
    "start_time": "2022-09-23T12:29:27.144Z"
   },
   {
    "duration": 47,
    "start_time": "2022-09-23T12:29:57.442Z"
   },
   {
    "duration": 1455,
    "start_time": "2022-09-27T15:55:40.290Z"
   },
   {
    "duration": 558,
    "start_time": "2022-09-27T15:55:41.748Z"
   },
   {
    "duration": 105,
    "start_time": "2022-09-27T15:55:42.308Z"
   },
   {
    "duration": 2,
    "start_time": "2022-09-27T15:55:42.417Z"
   },
   {
    "duration": 23,
    "start_time": "2022-09-27T15:55:42.421Z"
   },
   {
    "duration": 35,
    "start_time": "2022-09-27T15:55:42.445Z"
   },
   {
    "duration": 31,
    "start_time": "2022-09-27T15:55:42.482Z"
   },
   {
    "duration": 29,
    "start_time": "2022-09-27T15:55:42.515Z"
   },
   {
    "duration": 80,
    "start_time": "2022-09-27T15:55:42.546Z"
   },
   {
    "duration": 47,
    "start_time": "2022-09-27T15:55:42.629Z"
   },
   {
    "duration": 28,
    "start_time": "2022-09-27T16:00:30.418Z"
   },
   {
    "duration": 59,
    "start_time": "2022-09-27T16:02:49.571Z"
   },
   {
    "duration": 6,
    "start_time": "2022-09-27T16:10:30.832Z"
   },
   {
    "duration": 1165,
    "start_time": "2022-09-27T16:10:48.252Z"
   },
   {
    "duration": 118,
    "start_time": "2022-09-27T16:10:49.419Z"
   },
   {
    "duration": 56,
    "start_time": "2022-09-27T16:10:49.540Z"
   },
   {
    "duration": 3,
    "start_time": "2022-09-27T16:10:49.600Z"
   },
   {
    "duration": 22,
    "start_time": "2022-09-27T16:10:49.604Z"
   },
   {
    "duration": 35,
    "start_time": "2022-09-27T16:10:49.628Z"
   },
   {
    "duration": 44,
    "start_time": "2022-09-27T16:10:49.665Z"
   },
   {
    "duration": 32,
    "start_time": "2022-09-27T16:10:49.711Z"
   },
   {
    "duration": 78,
    "start_time": "2022-09-27T16:10:49.745Z"
   },
   {
    "duration": 44,
    "start_time": "2022-09-27T16:10:49.826Z"
   },
   {
    "duration": 43,
    "start_time": "2022-09-27T16:10:49.871Z"
   },
   {
    "duration": 5,
    "start_time": "2022-09-27T16:10:49.916Z"
   },
   {
    "duration": 50,
    "start_time": "2022-09-27T16:10:49.923Z"
   },
   {
    "duration": 1201,
    "start_time": "2022-09-27T16:11:48.514Z"
   },
   {
    "duration": 110,
    "start_time": "2022-09-27T16:11:49.717Z"
   },
   {
    "duration": 48,
    "start_time": "2022-09-27T16:11:49.828Z"
   },
   {
    "duration": 3,
    "start_time": "2022-09-27T16:11:49.878Z"
   },
   {
    "duration": 26,
    "start_time": "2022-09-27T16:11:49.883Z"
   },
   {
    "duration": 35,
    "start_time": "2022-09-27T16:11:49.911Z"
   },
   {
    "duration": 20,
    "start_time": "2022-09-27T16:11:49.947Z"
   },
   {
    "duration": 47,
    "start_time": "2022-09-27T16:11:49.968Z"
   },
   {
    "duration": 56,
    "start_time": "2022-09-27T16:11:50.017Z"
   },
   {
    "duration": 60,
    "start_time": "2022-09-27T16:11:50.075Z"
   },
   {
    "duration": 25,
    "start_time": "2022-09-27T16:11:50.137Z"
   },
   {
    "duration": 4,
    "start_time": "2022-09-27T16:11:50.164Z"
   },
   {
    "duration": 26,
    "start_time": "2022-09-27T16:11:50.170Z"
   },
   {
    "duration": 16,
    "start_time": "2022-09-27T16:11:50.199Z"
   },
   {
    "duration": 28,
    "start_time": "2022-09-27T16:11:50.217Z"
   },
   {
    "duration": 7,
    "start_time": "2022-09-27T16:11:50.247Z"
   },
   {
    "duration": 23,
    "start_time": "2022-09-27T16:11:50.256Z"
   },
   {
    "duration": 77,
    "start_time": "2022-09-27T16:11:50.281Z"
   },
   {
    "duration": 83,
    "start_time": "2022-09-27T16:15:02.847Z"
   },
   {
    "duration": 30,
    "start_time": "2022-09-27T16:15:18.387Z"
   },
   {
    "duration": 53,
    "start_time": "2022-09-27T16:16:33.492Z"
   },
   {
    "duration": 28,
    "start_time": "2022-09-27T16:16:36.809Z"
   },
   {
    "duration": 1221,
    "start_time": "2022-09-27T16:17:51.709Z"
   },
   {
    "duration": 114,
    "start_time": "2022-09-27T16:17:52.932Z"
   },
   {
    "duration": 49,
    "start_time": "2022-09-27T16:17:53.048Z"
   },
   {
    "duration": 3,
    "start_time": "2022-09-27T16:17:53.099Z"
   },
   {
    "duration": 23,
    "start_time": "2022-09-27T16:17:53.103Z"
   },
   {
    "duration": 34,
    "start_time": "2022-09-27T16:17:53.128Z"
   },
   {
    "duration": 44,
    "start_time": "2022-09-27T16:17:53.163Z"
   },
   {
    "duration": 28,
    "start_time": "2022-09-27T16:17:53.208Z"
   },
   {
    "duration": 72,
    "start_time": "2022-09-27T16:17:53.238Z"
   },
   {
    "duration": 45,
    "start_time": "2022-09-27T16:17:53.312Z"
   },
   {
    "duration": 42,
    "start_time": "2022-09-27T16:17:53.359Z"
   },
   {
    "duration": 6,
    "start_time": "2022-09-27T16:17:53.402Z"
   },
   {
    "duration": 12,
    "start_time": "2022-09-27T16:17:53.409Z"
   },
   {
    "duration": 8,
    "start_time": "2022-09-27T16:17:53.423Z"
   },
   {
    "duration": 9,
    "start_time": "2022-09-27T16:17:53.432Z"
   },
   {
    "duration": 9,
    "start_time": "2022-09-27T16:17:53.442Z"
   },
   {
    "duration": 7,
    "start_time": "2022-09-27T16:17:53.453Z"
   },
   {
    "duration": 85,
    "start_time": "2022-09-27T16:17:53.462Z"
   },
   {
    "duration": 28,
    "start_time": "2022-09-27T16:17:53.549Z"
   },
   {
    "duration": 39,
    "start_time": "2022-09-27T16:18:36.355Z"
   },
   {
    "duration": 27,
    "start_time": "2022-09-27T16:18:39.255Z"
   },
   {
    "duration": 6,
    "start_time": "2022-09-27T16:19:19.674Z"
   },
   {
    "duration": 7,
    "start_time": "2022-09-27T16:19:29.958Z"
   },
   {
    "duration": 9,
    "start_time": "2022-09-27T16:21:01.241Z"
   },
   {
    "duration": 6,
    "start_time": "2022-09-27T16:25:21.742Z"
   },
   {
    "duration": 37,
    "start_time": "2022-09-27T16:27:41.816Z"
   },
   {
    "duration": 1200,
    "start_time": "2022-09-27T16:27:53.918Z"
   },
   {
    "duration": 118,
    "start_time": "2022-09-27T16:27:55.120Z"
   },
   {
    "duration": 55,
    "start_time": "2022-09-27T16:27:55.240Z"
   },
   {
    "duration": 3,
    "start_time": "2022-09-27T16:27:55.298Z"
   },
   {
    "duration": 25,
    "start_time": "2022-09-27T16:27:55.303Z"
   },
   {
    "duration": 37,
    "start_time": "2022-09-27T16:27:55.330Z"
   },
   {
    "duration": 41,
    "start_time": "2022-09-27T16:27:55.369Z"
   },
   {
    "duration": 29,
    "start_time": "2022-09-27T16:27:55.412Z"
   },
   {
    "duration": 86,
    "start_time": "2022-09-27T16:27:55.443Z"
   },
   {
    "duration": 47,
    "start_time": "2022-09-27T16:27:55.532Z"
   },
   {
    "duration": 27,
    "start_time": "2022-09-27T16:27:55.595Z"
   },
   {
    "duration": 7,
    "start_time": "2022-09-27T16:27:55.624Z"
   },
   {
    "duration": 12,
    "start_time": "2022-09-27T16:27:55.633Z"
   },
   {
    "duration": 8,
    "start_time": "2022-09-27T16:27:55.647Z"
   },
   {
    "duration": 39,
    "start_time": "2022-09-27T16:27:55.657Z"
   },
   {
    "duration": 7,
    "start_time": "2022-09-27T16:27:55.698Z"
   },
   {
    "duration": 8,
    "start_time": "2022-09-27T16:27:55.707Z"
   },
   {
    "duration": 43,
    "start_time": "2022-09-27T16:27:55.717Z"
   },
   {
    "duration": 52,
    "start_time": "2022-09-27T16:27:55.762Z"
   },
   {
    "duration": 7,
    "start_time": "2022-09-27T16:27:55.816Z"
   },
   {
    "duration": 41,
    "start_time": "2022-09-27T16:30:33.407Z"
   },
   {
    "duration": 7,
    "start_time": "2022-09-27T16:38:44.752Z"
   },
   {
    "duration": 7,
    "start_time": "2022-09-27T16:39:10.734Z"
   },
   {
    "duration": 10,
    "start_time": "2022-09-27T16:41:09.157Z"
   },
   {
    "duration": 7,
    "start_time": "2022-09-27T16:42:27.735Z"
   },
   {
    "duration": 5,
    "start_time": "2022-09-27T16:47:55.568Z"
   },
   {
    "duration": 10,
    "start_time": "2022-09-27T16:50:36.217Z"
   },
   {
    "duration": 5,
    "start_time": "2022-09-27T16:53:32.052Z"
   },
   {
    "duration": 29,
    "start_time": "2022-09-27T16:53:59.217Z"
   },
   {
    "duration": 105,
    "start_time": "2022-09-27T16:56:11.378Z"
   },
   {
    "duration": 27,
    "start_time": "2022-09-27T16:59:40.339Z"
   },
   {
    "duration": 30,
    "start_time": "2022-09-27T17:00:19.408Z"
   },
   {
    "duration": 12,
    "start_time": "2022-09-27T17:00:31.540Z"
   },
   {
    "duration": 10,
    "start_time": "2022-09-27T17:00:58.639Z"
   },
   {
    "duration": 6,
    "start_time": "2022-09-27T17:01:10.260Z"
   },
   {
    "duration": 13,
    "start_time": "2022-09-27T17:01:29.192Z"
   },
   {
    "duration": 4,
    "start_time": "2022-09-27T17:01:30.308Z"
   },
   {
    "duration": 34,
    "start_time": "2022-09-27T17:04:11.278Z"
   },
   {
    "duration": 3,
    "start_time": "2022-09-27T17:04:38.085Z"
   },
   {
    "duration": 318,
    "start_time": "2022-09-27T17:05:09.064Z"
   },
   {
    "duration": 313,
    "start_time": "2022-09-27T17:05:45.077Z"
   },
   {
    "duration": 4,
    "start_time": "2022-09-27T17:06:26.743Z"
   },
   {
    "duration": 333,
    "start_time": "2022-09-27T17:06:38.337Z"
   },
   {
    "duration": 4,
    "start_time": "2022-09-27T17:07:21.342Z"
   },
   {
    "duration": 418,
    "start_time": "2022-09-27T17:07:22.476Z"
   },
   {
    "duration": 1227,
    "start_time": "2022-09-27T17:07:41.040Z"
   },
   {
    "duration": 119,
    "start_time": "2022-09-27T17:07:42.269Z"
   },
   {
    "duration": 56,
    "start_time": "2022-09-27T17:07:42.390Z"
   },
   {
    "duration": 2,
    "start_time": "2022-09-27T17:07:42.449Z"
   },
   {
    "duration": 21,
    "start_time": "2022-09-27T17:07:42.453Z"
   },
   {
    "duration": 39,
    "start_time": "2022-09-27T17:07:42.476Z"
   },
   {
    "duration": 21,
    "start_time": "2022-09-27T17:07:42.517Z"
   },
   {
    "duration": 31,
    "start_time": "2022-09-27T17:07:42.539Z"
   },
   {
    "duration": 85,
    "start_time": "2022-09-27T17:07:42.571Z"
   },
   {
    "duration": 64,
    "start_time": "2022-09-27T17:07:42.659Z"
   },
   {
    "duration": 26,
    "start_time": "2022-09-27T17:07:42.724Z"
   },
   {
    "duration": 6,
    "start_time": "2022-09-27T17:07:42.752Z"
   },
   {
    "duration": 12,
    "start_time": "2022-09-27T17:07:42.760Z"
   },
   {
    "duration": 29,
    "start_time": "2022-09-27T17:07:42.774Z"
   },
   {
    "duration": 17,
    "start_time": "2022-09-27T17:07:42.806Z"
   },
   {
    "duration": 12,
    "start_time": "2022-09-27T17:07:42.825Z"
   },
   {
    "duration": 9,
    "start_time": "2022-09-27T17:07:42.839Z"
   },
   {
    "duration": 71,
    "start_time": "2022-09-27T17:07:42.850Z"
   },
   {
    "duration": 30,
    "start_time": "2022-09-27T17:07:42.923Z"
   },
   {
    "duration": 6,
    "start_time": "2022-09-27T17:07:42.954Z"
   },
   {
    "duration": 8,
    "start_time": "2022-09-27T17:07:42.962Z"
   },
   {
    "duration": 25,
    "start_time": "2022-09-27T17:07:42.972Z"
   },
   {
    "duration": 10,
    "start_time": "2022-09-27T17:07:43.004Z"
   },
   {
    "duration": 29,
    "start_time": "2022-09-27T17:07:43.016Z"
   },
   {
    "duration": 14,
    "start_time": "2022-09-27T17:07:43.047Z"
   },
   {
    "duration": 7,
    "start_time": "2022-09-27T17:07:43.062Z"
   },
   {
    "duration": 55,
    "start_time": "2022-09-27T17:07:43.070Z"
   },
   {
    "duration": 3,
    "start_time": "2022-09-27T17:07:43.129Z"
   },
   {
    "duration": 113,
    "start_time": "2022-09-27T17:07:43.134Z"
   },
   {
    "duration": 0,
    "start_time": "2022-09-27T17:07:43.248Z"
   },
   {
    "duration": 336,
    "start_time": "2022-09-27T17:07:54.663Z"
   },
   {
    "duration": 1229,
    "start_time": "2022-09-27T17:12:57.613Z"
   },
   {
    "duration": 115,
    "start_time": "2022-09-27T17:12:58.845Z"
   },
   {
    "duration": 56,
    "start_time": "2022-09-27T17:12:58.961Z"
   },
   {
    "duration": 3,
    "start_time": "2022-09-27T17:12:59.019Z"
   },
   {
    "duration": 33,
    "start_time": "2022-09-27T17:12:59.025Z"
   },
   {
    "duration": 54,
    "start_time": "2022-09-27T17:12:59.060Z"
   },
   {
    "duration": 20,
    "start_time": "2022-09-27T17:12:59.116Z"
   },
   {
    "duration": 40,
    "start_time": "2022-09-27T17:12:59.138Z"
   },
   {
    "duration": 81,
    "start_time": "2022-09-27T17:12:59.180Z"
   },
   {
    "duration": 59,
    "start_time": "2022-09-27T17:12:59.262Z"
   },
   {
    "duration": 27,
    "start_time": "2022-09-27T17:12:59.323Z"
   },
   {
    "duration": 6,
    "start_time": "2022-09-27T17:12:59.352Z"
   },
   {
    "duration": 15,
    "start_time": "2022-09-27T17:12:59.359Z"
   },
   {
    "duration": 35,
    "start_time": "2022-09-27T17:12:59.377Z"
   },
   {
    "duration": 11,
    "start_time": "2022-09-27T17:12:59.414Z"
   },
   {
    "duration": 8,
    "start_time": "2022-09-27T17:12:59.426Z"
   },
   {
    "duration": 12,
    "start_time": "2022-09-27T17:12:59.436Z"
   },
   {
    "duration": 64,
    "start_time": "2022-09-27T17:12:59.450Z"
   },
   {
    "duration": 29,
    "start_time": "2022-09-27T17:12:59.516Z"
   },
   {
    "duration": 8,
    "start_time": "2022-09-27T17:12:59.547Z"
   },
   {
    "duration": 53,
    "start_time": "2022-09-27T17:12:59.556Z"
   },
   {
    "duration": 25,
    "start_time": "2022-09-27T17:12:59.613Z"
   },
   {
    "duration": 9,
    "start_time": "2022-09-27T17:12:59.640Z"
   },
   {
    "duration": 61,
    "start_time": "2022-09-27T17:12:59.650Z"
   },
   {
    "duration": 10,
    "start_time": "2022-09-27T17:12:59.713Z"
   },
   {
    "duration": 12,
    "start_time": "2022-09-27T17:12:59.725Z"
   },
   {
    "duration": 35,
    "start_time": "2022-09-27T17:12:59.739Z"
   },
   {
    "duration": 4,
    "start_time": "2022-09-27T17:12:59.776Z"
   },
   {
    "duration": 466,
    "start_time": "2022-09-27T17:12:59.781Z"
   },
   {
    "duration": 0,
    "start_time": "2022-09-27T17:13:00.249Z"
   },
   {
    "duration": 3,
    "start_time": "2022-09-27T17:13:22.088Z"
   },
   {
    "duration": 370,
    "start_time": "2022-09-27T17:13:23.882Z"
   },
   {
    "duration": 18,
    "start_time": "2022-09-27T17:14:16.697Z"
   },
   {
    "duration": 4,
    "start_time": "2022-09-27T17:15:47.896Z"
   },
   {
    "duration": 3,
    "start_time": "2022-09-27T17:15:49.516Z"
   },
   {
    "duration": 431,
    "start_time": "2022-09-27T17:15:50.410Z"
   },
   {
    "duration": 4,
    "start_time": "2022-09-27T17:16:06.707Z"
   },
   {
    "duration": 352,
    "start_time": "2022-09-27T17:16:07.705Z"
   },
   {
    "duration": 6,
    "start_time": "2022-09-27T17:22:36.451Z"
   },
   {
    "duration": 12,
    "start_time": "2022-09-27T17:23:55.845Z"
   },
   {
    "duration": 11,
    "start_time": "2022-09-27T17:25:25.948Z"
   },
   {
    "duration": 9,
    "start_time": "2022-09-27T17:25:29.699Z"
   },
   {
    "duration": 10,
    "start_time": "2022-09-27T17:25:34.087Z"
   },
   {
    "duration": 3,
    "start_time": "2022-09-27T17:26:20.277Z"
   },
   {
    "duration": 4,
    "start_time": "2022-09-27T17:26:26.852Z"
   },
   {
    "duration": 4,
    "start_time": "2022-09-27T17:26:41.470Z"
   },
   {
    "duration": 314,
    "start_time": "2022-09-27T17:26:43.048Z"
   },
   {
    "duration": 2,
    "start_time": "2022-09-27T17:28:11.873Z"
   },
   {
    "duration": 335,
    "start_time": "2022-09-27T17:28:13.586Z"
   },
   {
    "duration": 501,
    "start_time": "2022-09-27T17:30:16.422Z"
   },
   {
    "duration": 4,
    "start_time": "2022-09-27T17:30:19.633Z"
   },
   {
    "duration": 424,
    "start_time": "2022-09-27T17:30:20.399Z"
   },
   {
    "duration": 17,
    "start_time": "2022-09-27T17:30:48.815Z"
   },
   {
    "duration": 19,
    "start_time": "2022-09-27T17:33:30.956Z"
   },
   {
    "duration": 22,
    "start_time": "2022-09-27T17:33:50.979Z"
   },
   {
    "duration": 21,
    "start_time": "2022-09-27T17:34:03.631Z"
   },
   {
    "duration": 1457,
    "start_time": "2022-09-27T17:35:17.110Z"
   },
   {
    "duration": 121,
    "start_time": "2022-09-27T17:35:18.568Z"
   },
   {
    "duration": 53,
    "start_time": "2022-09-27T17:35:18.694Z"
   },
   {
    "duration": 4,
    "start_time": "2022-09-27T17:35:18.749Z"
   },
   {
    "duration": 29,
    "start_time": "2022-09-27T17:35:18.755Z"
   },
   {
    "duration": 47,
    "start_time": "2022-09-27T17:35:18.786Z"
   },
   {
    "duration": 23,
    "start_time": "2022-09-27T17:35:18.835Z"
   },
   {
    "duration": 53,
    "start_time": "2022-09-27T17:35:18.860Z"
   },
   {
    "duration": 54,
    "start_time": "2022-09-27T17:35:18.915Z"
   },
   {
    "duration": 56,
    "start_time": "2022-09-27T17:35:18.971Z"
   },
   {
    "duration": 25,
    "start_time": "2022-09-27T17:35:19.028Z"
   },
   {
    "duration": 6,
    "start_time": "2022-09-27T17:35:19.054Z"
   },
   {
    "duration": 34,
    "start_time": "2022-09-27T17:35:19.062Z"
   },
   {
    "duration": 17,
    "start_time": "2022-09-27T17:35:19.104Z"
   },
   {
    "duration": 33,
    "start_time": "2022-09-27T17:35:19.122Z"
   },
   {
    "duration": 23,
    "start_time": "2022-09-27T17:35:19.157Z"
   },
   {
    "duration": 8,
    "start_time": "2022-09-27T17:35:19.182Z"
   },
   {
    "duration": 58,
    "start_time": "2022-09-27T17:35:19.191Z"
   },
   {
    "duration": 27,
    "start_time": "2022-09-27T17:35:19.251Z"
   },
   {
    "duration": 6,
    "start_time": "2022-09-27T17:35:19.280Z"
   },
   {
    "duration": 17,
    "start_time": "2022-09-27T17:35:19.287Z"
   },
   {
    "duration": 24,
    "start_time": "2022-09-27T17:35:19.308Z"
   },
   {
    "duration": 7,
    "start_time": "2022-09-27T17:35:19.334Z"
   },
   {
    "duration": 38,
    "start_time": "2022-09-27T17:35:19.343Z"
   },
   {
    "duration": 35,
    "start_time": "2022-09-27T17:35:19.383Z"
   },
   {
    "duration": 29,
    "start_time": "2022-09-27T17:35:19.420Z"
   },
   {
    "duration": 34,
    "start_time": "2022-09-27T17:35:19.452Z"
   },
   {
    "duration": 39,
    "start_time": "2022-09-27T17:35:19.487Z"
   },
   {
    "duration": 14,
    "start_time": "2022-09-27T17:35:19.527Z"
   },
   {
    "duration": 13,
    "start_time": "2022-09-27T17:35:19.543Z"
   },
   {
    "duration": 25,
    "start_time": "2022-09-27T17:35:19.557Z"
   },
   {
    "duration": 18,
    "start_time": "2022-09-27T17:35:19.584Z"
   },
   {
    "duration": 40,
    "start_time": "2022-09-27T17:35:19.603Z"
   },
   {
    "duration": 4,
    "start_time": "2022-09-27T17:39:34.460Z"
   },
   {
    "duration": 6,
    "start_time": "2022-09-27T17:40:19.253Z"
   },
   {
    "duration": 34,
    "start_time": "2022-09-27T17:40:28.109Z"
   },
   {
    "duration": 8,
    "start_time": "2022-09-27T17:40:46.885Z"
   },
   {
    "duration": 7,
    "start_time": "2022-09-27T17:41:02.869Z"
   },
   {
    "duration": 9,
    "start_time": "2022-09-27T17:41:19.835Z"
   },
   {
    "duration": 4,
    "start_time": "2022-09-27T17:41:46.222Z"
   },
   {
    "duration": 9,
    "start_time": "2022-09-27T17:41:47.168Z"
   },
   {
    "duration": 30,
    "start_time": "2022-09-27T17:43:50.873Z"
   },
   {
    "duration": 21,
    "start_time": "2022-09-27T17:43:53.723Z"
   },
   {
    "duration": 32,
    "start_time": "2022-09-27T17:44:14.203Z"
   },
   {
    "duration": 258,
    "start_time": "2022-09-27T17:45:31.256Z"
   },
   {
    "duration": 180,
    "start_time": "2022-09-27T17:45:42.003Z"
   },
   {
    "duration": 177,
    "start_time": "2022-09-27T17:45:47.626Z"
   },
   {
    "duration": 168,
    "start_time": "2022-09-27T17:46:38.602Z"
   },
   {
    "duration": 257,
    "start_time": "2022-09-27T17:46:57.626Z"
   },
   {
    "duration": 207,
    "start_time": "2022-09-27T17:47:11.601Z"
   },
   {
    "duration": 185,
    "start_time": "2022-09-27T17:47:18.235Z"
   },
   {
    "duration": 109,
    "start_time": "2022-09-27T17:51:47.638Z"
   },
   {
    "duration": 155,
    "start_time": "2022-09-27T17:52:15.912Z"
   },
   {
    "duration": 178,
    "start_time": "2022-09-27T17:52:36.073Z"
   },
   {
    "duration": 203,
    "start_time": "2022-09-27T17:53:08.803Z"
   },
   {
    "duration": 267,
    "start_time": "2022-09-27T17:55:20.640Z"
   },
   {
    "duration": 11,
    "start_time": "2022-09-27T18:30:44.337Z"
   },
   {
    "duration": 15,
    "start_time": "2022-09-27T18:30:52.546Z"
   },
   {
    "duration": 349,
    "start_time": "2022-09-27T18:31:20.071Z"
   },
   {
    "duration": 9,
    "start_time": "2022-09-27T18:32:20.777Z"
   },
   {
    "duration": 315,
    "start_time": "2022-09-27T18:32:29.531Z"
   },
   {
    "duration": 444,
    "start_time": "2022-09-27T18:32:42.609Z"
   },
   {
    "duration": 321,
    "start_time": "2022-09-27T18:33:29.299Z"
   },
   {
    "duration": 5,
    "start_time": "2022-09-27T18:34:33.916Z"
   },
   {
    "duration": 378,
    "start_time": "2022-09-27T18:34:53.860Z"
   },
   {
    "duration": 332,
    "start_time": "2022-09-27T18:38:13.078Z"
   },
   {
    "duration": 321,
    "start_time": "2022-09-27T18:39:52.320Z"
   },
   {
    "duration": 1227,
    "start_time": "2022-09-27T18:49:09.165Z"
   },
   {
    "duration": 132,
    "start_time": "2022-09-27T18:49:10.396Z"
   },
   {
    "duration": 49,
    "start_time": "2022-09-27T18:49:10.529Z"
   },
   {
    "duration": 3,
    "start_time": "2022-09-27T18:49:10.580Z"
   },
   {
    "duration": 21,
    "start_time": "2022-09-27T18:49:10.585Z"
   },
   {
    "duration": 34,
    "start_time": "2022-09-27T18:49:10.608Z"
   },
   {
    "duration": 21,
    "start_time": "2022-09-27T18:49:10.644Z"
   },
   {
    "duration": 52,
    "start_time": "2022-09-27T18:49:10.667Z"
   },
   {
    "duration": 56,
    "start_time": "2022-09-27T18:49:10.721Z"
   },
   {
    "duration": 49,
    "start_time": "2022-09-27T18:49:10.797Z"
   },
   {
    "duration": 25,
    "start_time": "2022-09-27T18:49:10.848Z"
   },
   {
    "duration": 6,
    "start_time": "2022-09-27T18:49:10.894Z"
   },
   {
    "duration": 11,
    "start_time": "2022-09-27T18:49:10.901Z"
   },
   {
    "duration": 8,
    "start_time": "2022-09-27T18:49:10.914Z"
   },
   {
    "duration": 8,
    "start_time": "2022-09-27T18:49:10.924Z"
   },
   {
    "duration": 13,
    "start_time": "2022-09-27T18:49:10.933Z"
   },
   {
    "duration": 10,
    "start_time": "2022-09-27T18:49:10.947Z"
   },
   {
    "duration": 58,
    "start_time": "2022-09-27T18:49:10.959Z"
   },
   {
    "duration": 27,
    "start_time": "2022-09-27T18:49:11.019Z"
   },
   {
    "duration": 5,
    "start_time": "2022-09-27T18:49:11.048Z"
   },
   {
    "duration": 11,
    "start_time": "2022-09-27T18:49:11.055Z"
   },
   {
    "duration": 32,
    "start_time": "2022-09-27T18:49:11.068Z"
   },
   {
    "duration": 8,
    "start_time": "2022-09-27T18:49:11.102Z"
   },
   {
    "duration": 29,
    "start_time": "2022-09-27T18:49:11.112Z"
   },
   {
    "duration": 14,
    "start_time": "2022-09-27T18:49:11.144Z"
   },
   {
    "duration": 6,
    "start_time": "2022-09-27T18:49:11.160Z"
   },
   {
    "duration": 65,
    "start_time": "2022-09-27T18:49:11.168Z"
   },
   {
    "duration": 3,
    "start_time": "2022-09-27T18:49:11.238Z"
   },
   {
    "duration": 15,
    "start_time": "2022-09-27T18:49:11.243Z"
   },
   {
    "duration": 38,
    "start_time": "2022-09-27T18:49:11.260Z"
   },
   {
    "duration": 31,
    "start_time": "2022-09-27T18:49:11.301Z"
   },
   {
    "duration": 7,
    "start_time": "2022-09-27T18:49:11.334Z"
   },
   {
    "duration": 9,
    "start_time": "2022-09-27T18:49:11.343Z"
   },
   {
    "duration": 45,
    "start_time": "2022-09-27T18:49:11.353Z"
   },
   {
    "duration": 24,
    "start_time": "2022-09-27T18:49:11.399Z"
   },
   {
    "duration": 259,
    "start_time": "2022-09-27T18:49:11.425Z"
   },
   {
    "duration": 208,
    "start_time": "2022-09-27T18:49:11.686Z"
   },
   {
    "duration": 272,
    "start_time": "2022-09-27T18:49:11.896Z"
   },
   {
    "duration": 4,
    "start_time": "2022-09-27T18:49:12.170Z"
   },
   {
    "duration": 466,
    "start_time": "2022-09-27T18:49:12.176Z"
   },
   {
    "duration": 380,
    "start_time": "2022-09-27T18:49:12.644Z"
   },
   {
    "duration": 333,
    "start_time": "2022-09-27T18:49:13.026Z"
   },
   {
    "duration": 50,
    "start_time": "2022-09-27T20:01:25.550Z"
   },
   {
    "duration": 1327,
    "start_time": "2022-09-27T20:01:29.294Z"
   },
   {
    "duration": 367,
    "start_time": "2022-09-27T20:01:30.623Z"
   },
   {
    "duration": 81,
    "start_time": "2022-09-27T20:01:30.991Z"
   },
   {
    "duration": 3,
    "start_time": "2022-09-27T20:01:31.075Z"
   },
   {
    "duration": 56,
    "start_time": "2022-09-27T20:01:31.079Z"
   },
   {
    "duration": 76,
    "start_time": "2022-09-27T20:01:31.137Z"
   },
   {
    "duration": 31,
    "start_time": "2022-09-27T20:01:31.215Z"
   },
   {
    "duration": 81,
    "start_time": "2022-09-27T20:01:31.248Z"
   },
   {
    "duration": 96,
    "start_time": "2022-09-27T20:01:31.331Z"
   },
   {
    "duration": 180,
    "start_time": "2022-09-27T20:01:31.430Z"
   },
   {
    "duration": 39,
    "start_time": "2022-09-27T20:01:31.611Z"
   },
   {
    "duration": 80,
    "start_time": "2022-09-27T20:01:31.651Z"
   },
   {
    "duration": 6,
    "start_time": "2022-09-27T20:01:31.733Z"
   },
   {
    "duration": 21,
    "start_time": "2022-09-27T20:01:31.740Z"
   },
   {
    "duration": 51,
    "start_time": "2022-09-27T20:01:31.762Z"
   },
   {
    "duration": 7,
    "start_time": "2022-09-27T20:01:31.814Z"
   },
   {
    "duration": 11,
    "start_time": "2022-09-27T20:01:31.822Z"
   },
   {
    "duration": 28,
    "start_time": "2022-09-27T20:01:31.835Z"
   },
   {
    "duration": 80,
    "start_time": "2022-09-27T20:01:31.864Z"
   },
   {
    "duration": 75,
    "start_time": "2022-09-27T20:01:31.946Z"
   },
   {
    "duration": 5,
    "start_time": "2022-09-27T20:01:32.022Z"
   },
   {
    "duration": 8,
    "start_time": "2022-09-27T20:01:32.029Z"
   },
   {
    "duration": 25,
    "start_time": "2022-09-27T20:01:32.039Z"
   },
   {
    "duration": 44,
    "start_time": "2022-09-27T20:01:32.066Z"
   },
   {
    "duration": 49,
    "start_time": "2022-09-27T20:01:32.111Z"
   },
   {
    "duration": 53,
    "start_time": "2022-09-27T20:01:32.162Z"
   },
   {
    "duration": 54,
    "start_time": "2022-09-27T20:01:32.217Z"
   },
   {
    "duration": 56,
    "start_time": "2022-09-27T20:01:32.274Z"
   },
   {
    "duration": 16,
    "start_time": "2022-09-27T20:01:32.331Z"
   },
   {
    "duration": 68,
    "start_time": "2022-09-27T20:01:32.348Z"
   },
   {
    "duration": 12,
    "start_time": "2022-09-27T20:01:32.418Z"
   },
   {
    "duration": 79,
    "start_time": "2022-09-27T20:01:32.432Z"
   },
   {
    "duration": 8,
    "start_time": "2022-09-27T20:01:32.513Z"
   },
   {
    "duration": 17,
    "start_time": "2022-09-27T20:01:32.523Z"
   },
   {
    "duration": 80,
    "start_time": "2022-09-27T20:01:32.542Z"
   },
   {
    "duration": 33,
    "start_time": "2022-09-27T20:01:32.624Z"
   },
   {
    "duration": 354,
    "start_time": "2022-09-27T20:01:32.659Z"
   },
   {
    "duration": 187,
    "start_time": "2022-09-27T20:01:33.015Z"
   },
   {
    "duration": 265,
    "start_time": "2022-09-27T20:01:33.203Z"
   },
   {
    "duration": 5,
    "start_time": "2022-09-27T20:01:33.470Z"
   },
   {
    "duration": 407,
    "start_time": "2022-09-27T20:01:33.477Z"
   },
   {
    "duration": 317,
    "start_time": "2022-09-27T20:01:33.887Z"
   },
   {
    "duration": 300,
    "start_time": "2022-09-27T20:01:34.206Z"
   },
   {
    "duration": 6,
    "start_time": "2022-09-27T20:05:34.137Z"
   },
   {
    "duration": 5,
    "start_time": "2022-09-27T20:05:46.760Z"
   },
   {
    "duration": 76,
    "start_time": "2022-09-27T20:06:00.567Z"
   },
   {
    "duration": 6,
    "start_time": "2022-09-27T20:06:29.621Z"
   },
   {
    "duration": 31,
    "start_time": "2022-09-27T20:11:32.146Z"
   },
   {
    "duration": 18,
    "start_time": "2022-09-27T20:36:17.654Z"
   },
   {
    "duration": 412,
    "start_time": "2022-09-27T20:39:15.849Z"
   },
   {
    "duration": 368,
    "start_time": "2022-09-27T20:39:44.034Z"
   },
   {
    "duration": 379,
    "start_time": "2022-09-27T20:40:10.806Z"
   },
   {
    "duration": 13,
    "start_time": "2022-09-27T20:40:49.819Z"
   },
   {
    "duration": 416,
    "start_time": "2022-09-27T20:42:12.355Z"
   },
   {
    "duration": 370,
    "start_time": "2022-09-27T20:42:19.263Z"
   },
   {
    "duration": 465,
    "start_time": "2022-09-27T20:42:22.059Z"
   },
   {
    "duration": 93,
    "start_time": "2022-09-27T20:42:48.392Z"
   },
   {
    "duration": 390,
    "start_time": "2022-09-27T20:42:53.477Z"
   },
   {
    "duration": 354,
    "start_time": "2022-09-27T20:42:59.029Z"
   },
   {
    "duration": 398,
    "start_time": "2022-09-27T20:43:02.372Z"
   },
   {
    "duration": 382,
    "start_time": "2022-09-27T20:43:06.149Z"
   },
   {
    "duration": 247,
    "start_time": "2022-09-27T20:43:38.167Z"
   },
   {
    "duration": 217,
    "start_time": "2022-09-27T20:43:47.277Z"
   },
   {
    "duration": 476,
    "start_time": "2022-09-27T20:45:33.501Z"
   },
   {
    "duration": 573,
    "start_time": "2022-09-27T20:45:41.651Z"
   },
   {
    "duration": 290,
    "start_time": "2022-09-27T20:51:49.630Z"
   },
   {
    "duration": 253,
    "start_time": "2022-09-27T20:52:01.776Z"
   },
   {
    "duration": 62,
    "start_time": "2022-09-28T07:14:08.336Z"
   },
   {
    "duration": 1445,
    "start_time": "2022-09-28T07:14:16.877Z"
   },
   {
    "duration": 308,
    "start_time": "2022-09-28T07:14:18.324Z"
   },
   {
    "duration": 140,
    "start_time": "2022-09-28T07:14:18.640Z"
   },
   {
    "duration": 3,
    "start_time": "2022-09-28T07:14:18.783Z"
   },
   {
    "duration": 27,
    "start_time": "2022-09-28T07:14:18.789Z"
   },
   {
    "duration": 30,
    "start_time": "2022-09-28T07:14:18.818Z"
   },
   {
    "duration": 64,
    "start_time": "2022-09-28T07:14:18.851Z"
   },
   {
    "duration": 30,
    "start_time": "2022-09-28T07:14:18.917Z"
   },
   {
    "duration": 57,
    "start_time": "2022-09-28T07:14:18.949Z"
   },
   {
    "duration": 6,
    "start_time": "2022-09-28T07:14:19.008Z"
   },
   {
    "duration": 75,
    "start_time": "2022-09-28T07:14:19.016Z"
   },
   {
    "duration": 40,
    "start_time": "2022-09-28T07:14:19.093Z"
   },
   {
    "duration": 34,
    "start_time": "2022-09-28T07:14:19.135Z"
   },
   {
    "duration": 23,
    "start_time": "2022-09-28T07:14:19.175Z"
   },
   {
    "duration": 12,
    "start_time": "2022-09-28T07:14:19.199Z"
   },
   {
    "duration": 6,
    "start_time": "2022-09-28T07:14:19.213Z"
   },
   {
    "duration": 22,
    "start_time": "2022-09-28T07:14:19.221Z"
   },
   {
    "duration": 50,
    "start_time": "2022-09-28T07:14:19.245Z"
   },
   {
    "duration": 13,
    "start_time": "2022-09-28T07:14:19.297Z"
   },
   {
    "duration": 61,
    "start_time": "2022-09-28T07:14:19.312Z"
   },
   {
    "duration": 33,
    "start_time": "2022-09-28T07:14:19.375Z"
   },
   {
    "duration": 58,
    "start_time": "2022-09-28T07:14:19.409Z"
   },
   {
    "duration": 8,
    "start_time": "2022-09-28T07:14:19.476Z"
   },
   {
    "duration": 14,
    "start_time": "2022-09-28T07:14:19.486Z"
   },
   {
    "duration": 10,
    "start_time": "2022-09-28T07:14:19.502Z"
   },
   {
    "duration": 6,
    "start_time": "2022-09-28T07:14:19.513Z"
   },
   {
    "duration": 53,
    "start_time": "2022-09-28T07:14:19.521Z"
   },
   {
    "duration": 9,
    "start_time": "2022-09-28T07:14:19.576Z"
   },
   {
    "duration": 4,
    "start_time": "2022-09-28T07:14:19.587Z"
   },
   {
    "duration": 27,
    "start_time": "2022-09-28T07:14:19.593Z"
   },
   {
    "duration": 3,
    "start_time": "2022-09-28T07:14:19.621Z"
   },
   {
    "duration": 26,
    "start_time": "2022-09-28T07:14:19.632Z"
   },
   {
    "duration": 41,
    "start_time": "2022-09-28T07:14:19.659Z"
   },
   {
    "duration": 23,
    "start_time": "2022-09-28T07:14:19.702Z"
   },
   {
    "duration": 12,
    "start_time": "2022-09-28T07:14:19.727Z"
   },
   {
    "duration": 42,
    "start_time": "2022-09-28T07:14:19.740Z"
   },
   {
    "duration": 27,
    "start_time": "2022-09-28T07:14:19.783Z"
   },
   {
    "duration": 35,
    "start_time": "2022-09-28T07:14:19.812Z"
   },
   {
    "duration": 29,
    "start_time": "2022-09-28T07:14:19.848Z"
   },
   {
    "duration": 227,
    "start_time": "2022-09-28T07:14:19.879Z"
   },
   {
    "duration": 239,
    "start_time": "2022-09-28T07:14:20.110Z"
   },
   {
    "duration": 302,
    "start_time": "2022-09-28T07:14:20.351Z"
   },
   {
    "duration": 485,
    "start_time": "2022-09-28T07:14:20.662Z"
   },
   {
    "duration": 336,
    "start_time": "2022-09-28T07:14:21.150Z"
   },
   {
    "duration": 4,
    "start_time": "2022-09-28T07:14:21.488Z"
   },
   {
    "duration": 412,
    "start_time": "2022-09-28T07:14:21.493Z"
   },
   {
    "duration": 568,
    "start_time": "2022-09-28T07:14:21.907Z"
   },
   {
    "duration": 390,
    "start_time": "2022-09-28T07:14:22.477Z"
   },
   {
    "duration": 344,
    "start_time": "2022-09-28T07:14:22.868Z"
   },
   {
    "duration": 108,
    "start_time": "2022-09-28T07:16:58.949Z"
   },
   {
    "duration": 278,
    "start_time": "2022-09-28T07:17:20.789Z"
   },
   {
    "duration": 424,
    "start_time": "2022-09-28T07:17:56.185Z"
   },
   {
    "duration": 83,
    "start_time": "2022-09-28T12:19:34.568Z"
   },
   {
    "duration": 79,
    "start_time": "2022-09-28T12:19:58.464Z"
   },
   {
    "duration": 276,
    "start_time": "2022-09-28T12:20:08.033Z"
   },
   {
    "duration": 286,
    "start_time": "2022-09-28T12:20:41.691Z"
   },
   {
    "duration": 1262,
    "start_time": "2022-09-28T12:21:58.930Z"
   },
   {
    "duration": 296,
    "start_time": "2022-09-28T12:22:09.090Z"
   },
   {
    "duration": 113,
    "start_time": "2022-09-28T12:22:10.655Z"
   },
   {
    "duration": 2,
    "start_time": "2022-09-28T12:22:20.779Z"
   },
   {
    "duration": 98,
    "start_time": "2022-09-28T12:24:06.118Z"
   },
   {
    "duration": 58,
    "start_time": "2022-09-28T12:24:14.821Z"
   },
   {
    "duration": 3,
    "start_time": "2022-09-28T12:24:23.167Z"
   },
   {
    "duration": 17,
    "start_time": "2022-09-28T12:24:31.790Z"
   },
   {
    "duration": 16,
    "start_time": "2022-09-28T12:24:54.039Z"
   },
   {
    "duration": 39,
    "start_time": "2022-09-28T12:25:03.627Z"
   },
   {
    "duration": 33,
    "start_time": "2022-09-28T12:30:30.067Z"
   },
   {
    "duration": 18,
    "start_time": "2022-09-28T12:32:48.881Z"
   },
   {
    "duration": 24,
    "start_time": "2022-09-28T12:33:28.195Z"
   },
   {
    "duration": 17,
    "start_time": "2022-09-28T12:33:34.637Z"
   },
   {
    "duration": 15,
    "start_time": "2022-09-28T12:35:36.228Z"
   },
   {
    "duration": 1225,
    "start_time": "2022-09-28T12:36:45.045Z"
   },
   {
    "duration": 97,
    "start_time": "2022-09-28T12:36:46.272Z"
   },
   {
    "duration": 46,
    "start_time": "2022-09-28T12:36:46.371Z"
   },
   {
    "duration": 3,
    "start_time": "2022-09-28T12:36:46.419Z"
   },
   {
    "duration": 16,
    "start_time": "2022-09-28T12:36:46.423Z"
   },
   {
    "duration": 20,
    "start_time": "2022-09-28T12:36:46.440Z"
   },
   {
    "duration": 28,
    "start_time": "2022-09-28T12:36:46.462Z"
   },
   {
    "duration": 16,
    "start_time": "2022-09-28T12:36:46.505Z"
   },
   {
    "duration": 22,
    "start_time": "2022-09-28T12:36:46.523Z"
   },
   {
    "duration": 5,
    "start_time": "2022-09-28T12:36:46.547Z"
   },
   {
    "duration": 64,
    "start_time": "2022-09-28T12:36:46.553Z"
   },
   {
    "duration": 16,
    "start_time": "2022-09-28T12:36:46.619Z"
   },
   {
    "duration": 19,
    "start_time": "2022-09-28T12:36:46.636Z"
   },
   {
    "duration": 15,
    "start_time": "2022-09-28T12:36:46.656Z"
   },
   {
    "duration": 44,
    "start_time": "2022-09-28T12:36:46.673Z"
   },
   {
    "duration": 5,
    "start_time": "2022-09-28T12:36:46.718Z"
   },
   {
    "duration": 11,
    "start_time": "2022-09-28T12:36:46.725Z"
   },
   {
    "duration": 5,
    "start_time": "2022-09-28T12:36:46.738Z"
   },
   {
    "duration": 5,
    "start_time": "2022-09-28T12:36:46.745Z"
   },
   {
    "duration": 6,
    "start_time": "2022-09-28T12:36:46.752Z"
   },
   {
    "duration": 7,
    "start_time": "2022-09-28T12:36:46.759Z"
   },
   {
    "duration": 60,
    "start_time": "2022-09-28T12:36:46.767Z"
   },
   {
    "duration": 28,
    "start_time": "2022-09-28T12:36:46.828Z"
   },
   {
    "duration": 24,
    "start_time": "2022-09-28T12:36:46.857Z"
   },
   {
    "duration": 24,
    "start_time": "2022-09-28T12:36:46.882Z"
   },
   {
    "duration": 5,
    "start_time": "2022-09-28T12:36:46.907Z"
   },
   {
    "duration": 17,
    "start_time": "2022-09-28T12:36:46.914Z"
   },
   {
    "duration": 4,
    "start_time": "2022-09-28T12:36:46.934Z"
   },
   {
    "duration": 29,
    "start_time": "2022-09-28T12:36:46.939Z"
   },
   {
    "duration": 8,
    "start_time": "2022-09-28T12:36:46.969Z"
   },
   {
    "duration": 4,
    "start_time": "2022-09-28T12:36:46.979Z"
   },
   {
    "duration": 36,
    "start_time": "2022-09-28T12:36:46.984Z"
   },
   {
    "duration": 2,
    "start_time": "2022-09-28T12:36:47.022Z"
   },
   {
    "duration": 11,
    "start_time": "2022-09-28T12:36:47.026Z"
   },
   {
    "duration": 10,
    "start_time": "2022-09-28T12:36:47.038Z"
   },
   {
    "duration": 17,
    "start_time": "2022-09-28T12:36:47.049Z"
   },
   {
    "duration": 17,
    "start_time": "2022-09-28T12:36:47.068Z"
   },
   {
    "duration": 19,
    "start_time": "2022-09-28T12:36:47.087Z"
   },
   {
    "duration": 18,
    "start_time": "2022-09-28T12:36:47.108Z"
   },
   {
    "duration": 19,
    "start_time": "2022-09-28T12:36:47.127Z"
   },
   {
    "duration": 16,
    "start_time": "2022-09-28T12:36:47.148Z"
   },
   {
    "duration": 203,
    "start_time": "2022-09-28T12:36:47.166Z"
   },
   {
    "duration": 206,
    "start_time": "2022-09-28T12:36:47.371Z"
   },
   {
    "duration": 224,
    "start_time": "2022-09-28T12:36:47.578Z"
   },
   {
    "duration": 388,
    "start_time": "2022-09-28T12:36:47.803Z"
   },
   {
    "duration": 267,
    "start_time": "2022-09-28T12:36:48.193Z"
   },
   {
    "duration": 4,
    "start_time": "2022-09-28T12:36:48.461Z"
   },
   {
    "duration": 320,
    "start_time": "2022-09-28T12:36:48.467Z"
   },
   {
    "duration": 433,
    "start_time": "2022-09-28T12:36:48.789Z"
   },
   {
    "duration": 88,
    "start_time": "2022-09-28T12:36:49.224Z"
   },
   {
    "duration": 0,
    "start_time": "2022-09-28T12:36:49.313Z"
   },
   {
    "duration": 28,
    "start_time": "2022-09-28T12:37:51.600Z"
   },
   {
    "duration": 26,
    "start_time": "2022-09-28T12:38:18.203Z"
   },
   {
    "duration": 29,
    "start_time": "2022-09-28T12:38:41.885Z"
   },
   {
    "duration": 8,
    "start_time": "2022-09-28T12:39:22.202Z"
   },
   {
    "duration": 33,
    "start_time": "2022-09-28T12:39:31.432Z"
   },
   {
    "duration": 29,
    "start_time": "2022-09-28T12:40:22.763Z"
   },
   {
    "duration": 23,
    "start_time": "2022-09-28T12:40:32.581Z"
   },
   {
    "duration": 6,
    "start_time": "2022-09-28T12:40:44.065Z"
   },
   {
    "duration": 16,
    "start_time": "2022-09-28T12:41:24.576Z"
   },
   {
    "duration": 23,
    "start_time": "2022-09-28T12:41:30.102Z"
   },
   {
    "duration": 1010,
    "start_time": "2022-09-28T12:41:41.463Z"
   },
   {
    "duration": 100,
    "start_time": "2022-09-28T12:41:42.475Z"
   },
   {
    "duration": 47,
    "start_time": "2022-09-28T12:41:42.577Z"
   },
   {
    "duration": 2,
    "start_time": "2022-09-28T12:41:42.626Z"
   },
   {
    "duration": 29,
    "start_time": "2022-09-28T12:41:42.630Z"
   },
   {
    "duration": 25,
    "start_time": "2022-09-28T12:41:42.661Z"
   },
   {
    "duration": 33,
    "start_time": "2022-09-28T12:41:42.687Z"
   },
   {
    "duration": 18,
    "start_time": "2022-09-28T12:41:42.722Z"
   },
   {
    "duration": 28,
    "start_time": "2022-09-28T12:41:42.741Z"
   },
   {
    "duration": 6,
    "start_time": "2022-09-28T12:41:42.771Z"
   },
   {
    "duration": 68,
    "start_time": "2022-09-28T12:41:42.778Z"
   },
   {
    "duration": 16,
    "start_time": "2022-09-28T12:41:42.847Z"
   },
   {
    "duration": 18,
    "start_time": "2022-09-28T12:41:42.865Z"
   },
   {
    "duration": 36,
    "start_time": "2022-09-28T12:41:42.885Z"
   },
   {
    "duration": 25,
    "start_time": "2022-09-28T12:41:42.923Z"
   },
   {
    "duration": 7,
    "start_time": "2022-09-28T12:41:42.950Z"
   },
   {
    "duration": 33,
    "start_time": "2022-09-28T12:41:42.959Z"
   },
   {
    "duration": 14,
    "start_time": "2022-09-28T12:41:42.994Z"
   },
   {
    "duration": 10,
    "start_time": "2022-09-28T12:41:43.009Z"
   },
   {
    "duration": 7,
    "start_time": "2022-09-28T12:41:43.020Z"
   },
   {
    "duration": 6,
    "start_time": "2022-09-28T12:41:43.029Z"
   },
   {
    "duration": 37,
    "start_time": "2022-09-28T12:41:43.036Z"
   },
   {
    "duration": 43,
    "start_time": "2022-09-28T12:41:43.074Z"
   },
   {
    "duration": 26,
    "start_time": "2022-09-28T12:41:43.118Z"
   },
   {
    "duration": 5,
    "start_time": "2022-09-28T12:41:43.146Z"
   },
   {
    "duration": 7,
    "start_time": "2022-09-28T12:41:43.152Z"
   },
   {
    "duration": 7,
    "start_time": "2022-09-28T12:41:43.161Z"
   },
   {
    "duration": 5,
    "start_time": "2022-09-28T12:41:43.172Z"
   },
   {
    "duration": 50,
    "start_time": "2022-09-28T12:41:43.178Z"
   },
   {
    "duration": 9,
    "start_time": "2022-09-28T12:41:43.229Z"
   },
   {
    "duration": 4,
    "start_time": "2022-09-28T12:41:43.240Z"
   },
   {
    "duration": 25,
    "start_time": "2022-09-28T12:41:43.245Z"
   },
   {
    "duration": 3,
    "start_time": "2022-09-28T12:41:43.271Z"
   },
   {
    "duration": 37,
    "start_time": "2022-09-28T12:41:43.275Z"
   },
   {
    "duration": 10,
    "start_time": "2022-09-28T12:41:43.313Z"
   },
   {
    "duration": 19,
    "start_time": "2022-09-28T12:41:43.325Z"
   },
   {
    "duration": 4,
    "start_time": "2022-09-28T12:41:43.345Z"
   },
   {
    "duration": 8,
    "start_time": "2022-09-28T12:41:43.351Z"
   },
   {
    "duration": 18,
    "start_time": "2022-09-28T12:41:43.360Z"
   },
   {
    "duration": 40,
    "start_time": "2022-09-28T12:41:43.379Z"
   },
   {
    "duration": 18,
    "start_time": "2022-09-28T12:41:43.421Z"
   },
   {
    "duration": 187,
    "start_time": "2022-09-28T12:41:43.440Z"
   },
   {
    "duration": 173,
    "start_time": "2022-09-28T12:41:43.629Z"
   },
   {
    "duration": 229,
    "start_time": "2022-09-28T12:41:43.803Z"
   },
   {
    "duration": 377,
    "start_time": "2022-09-28T12:41:44.034Z"
   },
   {
    "duration": 249,
    "start_time": "2022-09-28T12:41:44.413Z"
   },
   {
    "duration": 3,
    "start_time": "2022-09-28T12:41:44.664Z"
   },
   {
    "duration": 326,
    "start_time": "2022-09-28T12:41:44.669Z"
   },
   {
    "duration": 439,
    "start_time": "2022-09-28T12:41:44.997Z"
   },
   {
    "duration": 118,
    "start_time": "2022-09-28T12:41:45.437Z"
   },
   {
    "duration": 0,
    "start_time": "2022-09-28T12:41:45.556Z"
   },
   {
    "duration": 28,
    "start_time": "2022-09-28T12:42:27.116Z"
   },
   {
    "duration": 4,
    "start_time": "2022-09-28T13:06:24.720Z"
   },
   {
    "duration": 4,
    "start_time": "2022-09-28T13:07:00.942Z"
   },
   {
    "duration": 14,
    "start_time": "2022-09-28T13:07:21.230Z"
   },
   {
    "duration": 242,
    "start_time": "2022-09-28T13:15:35.917Z"
   },
   {
    "duration": 99,
    "start_time": "2022-09-28T13:19:27.106Z"
   },
   {
    "duration": 29,
    "start_time": "2022-09-28T13:19:36.698Z"
   },
   {
    "duration": 27,
    "start_time": "2022-09-28T13:20:12.699Z"
   },
   {
    "duration": 16,
    "start_time": "2022-09-28T13:21:58.817Z"
   },
   {
    "duration": 14,
    "start_time": "2022-09-28T13:22:17.648Z"
   },
   {
    "duration": 11,
    "start_time": "2022-09-28T13:23:29.525Z"
   },
   {
    "duration": 10,
    "start_time": "2022-09-28T13:24:10.695Z"
   },
   {
    "duration": 27,
    "start_time": "2022-09-28T13:24:40.229Z"
   },
   {
    "duration": 25,
    "start_time": "2022-09-28T13:24:55.193Z"
   },
   {
    "duration": 10,
    "start_time": "2022-09-28T13:25:48.500Z"
   },
   {
    "duration": 11,
    "start_time": "2022-09-28T13:26:01.762Z"
   },
   {
    "duration": 10,
    "start_time": "2022-09-28T13:26:06.034Z"
   },
   {
    "duration": 10,
    "start_time": "2022-09-28T13:26:35.808Z"
   },
   {
    "duration": 10,
    "start_time": "2022-09-28T13:26:52.634Z"
   },
   {
    "duration": 24,
    "start_time": "2022-09-28T13:27:00.093Z"
   },
   {
    "duration": 10,
    "start_time": "2022-09-28T13:28:59.760Z"
   },
   {
    "duration": 10,
    "start_time": "2022-09-28T13:31:25.529Z"
   },
   {
    "duration": 24,
    "start_time": "2022-09-28T13:32:27.802Z"
   },
   {
    "duration": 14,
    "start_time": "2022-09-28T13:32:45.412Z"
   },
   {
    "duration": 28,
    "start_time": "2022-09-28T13:35:34.765Z"
   },
   {
    "duration": 1155,
    "start_time": "2022-09-28T13:35:50.821Z"
   },
   {
    "duration": 105,
    "start_time": "2022-09-28T13:35:51.978Z"
   },
   {
    "duration": 49,
    "start_time": "2022-09-28T13:35:52.085Z"
   },
   {
    "duration": 2,
    "start_time": "2022-09-28T13:35:52.136Z"
   },
   {
    "duration": 24,
    "start_time": "2022-09-28T13:35:52.140Z"
   },
   {
    "duration": 20,
    "start_time": "2022-09-28T13:35:52.166Z"
   },
   {
    "duration": 40,
    "start_time": "2022-09-28T13:35:52.188Z"
   },
   {
    "duration": 19,
    "start_time": "2022-09-28T13:35:52.230Z"
   },
   {
    "duration": 26,
    "start_time": "2022-09-28T13:35:52.251Z"
   },
   {
    "duration": 26,
    "start_time": "2022-09-28T13:35:52.280Z"
   },
   {
    "duration": 51,
    "start_time": "2022-09-28T13:35:52.308Z"
   },
   {
    "duration": 16,
    "start_time": "2022-09-28T13:35:52.361Z"
   },
   {
    "duration": 35,
    "start_time": "2022-09-28T13:35:52.379Z"
   },
   {
    "duration": 18,
    "start_time": "2022-09-28T13:35:52.416Z"
   },
   {
    "duration": 19,
    "start_time": "2022-09-28T13:35:52.436Z"
   },
   {
    "duration": 53,
    "start_time": "2022-09-28T13:35:52.457Z"
   },
   {
    "duration": 6,
    "start_time": "2022-09-28T13:35:52.512Z"
   },
   {
    "duration": 11,
    "start_time": "2022-09-28T13:35:52.519Z"
   },
   {
    "duration": 6,
    "start_time": "2022-09-28T13:35:52.532Z"
   },
   {
    "duration": 7,
    "start_time": "2022-09-28T13:35:52.540Z"
   },
   {
    "duration": 6,
    "start_time": "2022-09-28T13:35:52.548Z"
   },
   {
    "duration": 6,
    "start_time": "2022-09-28T13:35:52.556Z"
   },
   {
    "duration": 67,
    "start_time": "2022-09-28T13:35:52.563Z"
   },
   {
    "duration": 31,
    "start_time": "2022-09-28T13:35:52.631Z"
   },
   {
    "duration": 26,
    "start_time": "2022-09-28T13:35:52.663Z"
   },
   {
    "duration": 6,
    "start_time": "2022-09-28T13:35:52.705Z"
   },
   {
    "duration": 9,
    "start_time": "2022-09-28T13:35:52.713Z"
   },
   {
    "duration": 6,
    "start_time": "2022-09-28T13:35:52.726Z"
   },
   {
    "duration": 8,
    "start_time": "2022-09-28T13:35:52.733Z"
   },
   {
    "duration": 24,
    "start_time": "2022-09-28T13:35:52.742Z"
   },
   {
    "duration": 4,
    "start_time": "2022-09-28T13:35:52.768Z"
   },
   {
    "duration": 40,
    "start_time": "2022-09-28T13:35:52.773Z"
   },
   {
    "duration": 4,
    "start_time": "2022-09-28T13:35:52.814Z"
   },
   {
    "duration": 8,
    "start_time": "2022-09-28T13:35:52.819Z"
   },
   {
    "duration": 208,
    "start_time": "2022-09-28T13:35:52.828Z"
   },
   {
    "duration": 15,
    "start_time": "2022-09-28T13:35:53.038Z"
   },
   {
    "duration": 12,
    "start_time": "2022-09-28T13:35:53.055Z"
   },
   {
    "duration": 2,
    "start_time": "2022-09-28T13:35:53.069Z"
   },
   {
    "duration": 11,
    "start_time": "2022-09-28T13:35:53.073Z"
   },
   {
    "duration": 12,
    "start_time": "2022-09-28T13:35:53.104Z"
   },
   {
    "duration": 18,
    "start_time": "2022-09-28T13:35:53.118Z"
   },
   {
    "duration": 5,
    "start_time": "2022-09-28T13:35:53.137Z"
   },
   {
    "duration": 9,
    "start_time": "2022-09-28T13:35:53.144Z"
   },
   {
    "duration": 17,
    "start_time": "2022-09-28T13:35:53.154Z"
   },
   {
    "duration": 41,
    "start_time": "2022-09-28T13:35:53.172Z"
   },
   {
    "duration": 16,
    "start_time": "2022-09-28T13:35:53.215Z"
   },
   {
    "duration": 167,
    "start_time": "2022-09-28T13:35:53.232Z"
   },
   {
    "duration": 172,
    "start_time": "2022-09-28T13:35:53.404Z"
   },
   {
    "duration": 235,
    "start_time": "2022-09-28T13:35:53.578Z"
   },
   {
    "duration": 437,
    "start_time": "2022-09-28T13:35:53.814Z"
   },
   {
    "duration": 222,
    "start_time": "2022-09-28T13:35:54.253Z"
   },
   {
    "duration": 4,
    "start_time": "2022-09-28T13:35:54.476Z"
   },
   {
    "duration": 336,
    "start_time": "2022-09-28T13:35:54.481Z"
   },
   {
    "duration": 468,
    "start_time": "2022-09-28T13:35:54.819Z"
   },
   {
    "duration": 429,
    "start_time": "2022-09-28T13:35:55.288Z"
   },
   {
    "duration": 0,
    "start_time": "2022-09-28T13:35:55.718Z"
   },
   {
    "duration": 24,
    "start_time": "2022-09-28T13:37:07.633Z"
   },
   {
    "duration": 4,
    "start_time": "2022-09-28T13:37:28.195Z"
   },
   {
    "duration": 11,
    "start_time": "2022-09-28T13:37:28.746Z"
   },
   {
    "duration": 161,
    "start_time": "2022-09-28T13:41:58.854Z"
   },
   {
    "duration": 158,
    "start_time": "2022-09-28T13:42:10.528Z"
   },
   {
    "duration": 251,
    "start_time": "2022-09-28T13:43:16.874Z"
   },
   {
    "duration": 167,
    "start_time": "2022-09-28T13:43:40.798Z"
   },
   {
    "duration": 249,
    "start_time": "2022-09-28T13:43:49.842Z"
   },
   {
    "duration": 89,
    "start_time": "2022-09-28T13:50:31.140Z"
   },
   {
    "duration": 430,
    "start_time": "2022-09-28T13:55:33.115Z"
   },
   {
    "duration": 384,
    "start_time": "2022-09-28T13:56:24.526Z"
   },
   {
    "duration": 344,
    "start_time": "2022-09-28T14:00:55.239Z"
   },
   {
    "duration": 322,
    "start_time": "2022-09-28T14:03:31.987Z"
   },
   {
    "duration": 307,
    "start_time": "2022-09-28T14:03:39.055Z"
   },
   {
    "duration": 315,
    "start_time": "2022-09-28T14:03:46.244Z"
   },
   {
    "duration": 255,
    "start_time": "2022-09-28T14:03:51.119Z"
   },
   {
    "duration": 284,
    "start_time": "2022-09-28T14:04:27.017Z"
   },
   {
    "duration": 344,
    "start_time": "2022-09-28T14:17:21.142Z"
   },
   {
    "duration": 273,
    "start_time": "2022-09-28T14:18:35.675Z"
   },
   {
    "duration": 330,
    "start_time": "2022-09-28T14:21:36.307Z"
   },
   {
    "duration": 277,
    "start_time": "2022-09-28T14:22:56.151Z"
   },
   {
    "duration": 329,
    "start_time": "2022-09-28T14:23:07.549Z"
   },
   {
    "duration": 284,
    "start_time": "2022-09-28T14:23:57.699Z"
   },
   {
    "duration": 1119,
    "start_time": "2022-09-28T14:32:19.776Z"
   },
   {
    "duration": 123,
    "start_time": "2022-09-28T14:32:20.897Z"
   },
   {
    "duration": 47,
    "start_time": "2022-09-28T14:32:21.021Z"
   },
   {
    "duration": 3,
    "start_time": "2022-09-28T14:32:21.070Z"
   },
   {
    "duration": 64,
    "start_time": "2022-09-28T14:32:21.074Z"
   },
   {
    "duration": 49,
    "start_time": "2022-09-28T14:32:21.139Z"
   },
   {
    "duration": 40,
    "start_time": "2022-09-28T14:32:21.189Z"
   },
   {
    "duration": 17,
    "start_time": "2022-09-28T14:32:21.230Z"
   },
   {
    "duration": 28,
    "start_time": "2022-09-28T14:32:21.248Z"
   },
   {
    "duration": 15,
    "start_time": "2022-09-28T14:32:21.278Z"
   },
   {
    "duration": 83,
    "start_time": "2022-09-28T14:32:21.295Z"
   },
   {
    "duration": 16,
    "start_time": "2022-09-28T14:32:21.379Z"
   },
   {
    "duration": 55,
    "start_time": "2022-09-28T14:32:21.397Z"
   },
   {
    "duration": 42,
    "start_time": "2022-09-28T14:32:21.454Z"
   },
   {
    "duration": 17,
    "start_time": "2022-09-28T14:32:21.498Z"
   },
   {
    "duration": 48,
    "start_time": "2022-09-28T14:32:21.516Z"
   },
   {
    "duration": 5,
    "start_time": "2022-09-28T14:32:21.565Z"
   },
   {
    "duration": 28,
    "start_time": "2022-09-28T14:32:21.571Z"
   },
   {
    "duration": 18,
    "start_time": "2022-09-28T14:32:21.600Z"
   },
   {
    "duration": 23,
    "start_time": "2022-09-28T14:32:21.619Z"
   },
   {
    "duration": 27,
    "start_time": "2022-09-28T14:32:21.643Z"
   },
   {
    "duration": 40,
    "start_time": "2022-09-28T14:32:21.671Z"
   },
   {
    "duration": 75,
    "start_time": "2022-09-28T14:32:21.714Z"
   },
   {
    "duration": 32,
    "start_time": "2022-09-28T14:32:21.791Z"
   },
   {
    "duration": 46,
    "start_time": "2022-09-28T14:32:21.825Z"
   },
   {
    "duration": 7,
    "start_time": "2022-09-28T14:32:21.872Z"
   },
   {
    "duration": 22,
    "start_time": "2022-09-28T14:32:21.880Z"
   },
   {
    "duration": 20,
    "start_time": "2022-09-28T14:32:21.905Z"
   },
   {
    "duration": 32,
    "start_time": "2022-09-28T14:32:21.926Z"
   },
   {
    "duration": 45,
    "start_time": "2022-09-28T14:32:21.959Z"
   },
   {
    "duration": 20,
    "start_time": "2022-09-28T14:32:22.006Z"
   },
   {
    "duration": 36,
    "start_time": "2022-09-28T14:32:22.028Z"
   },
   {
    "duration": 13,
    "start_time": "2022-09-28T14:32:22.066Z"
   },
   {
    "duration": 27,
    "start_time": "2022-09-28T14:32:22.080Z"
   },
   {
    "duration": 239,
    "start_time": "2022-09-28T14:32:22.109Z"
   },
   {
    "duration": 16,
    "start_time": "2022-09-28T14:32:22.349Z"
   },
   {
    "duration": 13,
    "start_time": "2022-09-28T14:32:22.367Z"
   },
   {
    "duration": 29,
    "start_time": "2022-09-28T14:32:22.381Z"
   },
   {
    "duration": 38,
    "start_time": "2022-09-28T14:32:22.411Z"
   },
   {
    "duration": 33,
    "start_time": "2022-09-28T14:32:22.450Z"
   },
   {
    "duration": 19,
    "start_time": "2022-09-28T14:32:22.485Z"
   },
   {
    "duration": 23,
    "start_time": "2022-09-28T14:32:22.505Z"
   },
   {
    "duration": 30,
    "start_time": "2022-09-28T14:32:22.529Z"
   },
   {
    "duration": 52,
    "start_time": "2022-09-28T14:32:22.560Z"
   },
   {
    "duration": 25,
    "start_time": "2022-09-28T14:32:22.613Z"
   },
   {
    "duration": 189,
    "start_time": "2022-09-28T14:32:22.639Z"
   },
   {
    "duration": 180,
    "start_time": "2022-09-28T14:32:22.830Z"
   },
   {
    "duration": 234,
    "start_time": "2022-09-28T14:32:23.012Z"
   },
   {
    "duration": 440,
    "start_time": "2022-09-28T14:32:23.247Z"
   },
   {
    "duration": 208,
    "start_time": "2022-09-28T14:32:23.689Z"
   },
   {
    "duration": 9,
    "start_time": "2022-09-28T14:32:23.898Z"
   },
   {
    "duration": 343,
    "start_time": "2022-09-28T14:32:23.909Z"
   },
   {
    "duration": 453,
    "start_time": "2022-09-28T14:32:24.254Z"
   },
   {
    "duration": 249,
    "start_time": "2022-09-28T14:32:24.710Z"
   },
   {
    "duration": 288,
    "start_time": "2022-09-28T14:32:24.961Z"
   },
   {
    "duration": 48,
    "start_time": "2022-09-29T12:19:31.905Z"
   },
   {
    "duration": 1121,
    "start_time": "2022-09-29T12:19:37.266Z"
   },
   {
    "duration": 115,
    "start_time": "2022-09-29T12:19:38.389Z"
   },
   {
    "duration": 49,
    "start_time": "2022-09-29T12:19:38.506Z"
   },
   {
    "duration": 3,
    "start_time": "2022-09-29T12:19:38.557Z"
   },
   {
    "duration": 19,
    "start_time": "2022-09-29T12:19:38.561Z"
   },
   {
    "duration": 25,
    "start_time": "2022-09-29T12:19:38.583Z"
   },
   {
    "duration": 47,
    "start_time": "2022-09-29T12:19:38.610Z"
   },
   {
    "duration": 25,
    "start_time": "2022-09-29T12:19:38.659Z"
   },
   {
    "duration": 52,
    "start_time": "2022-09-29T12:19:38.686Z"
   },
   {
    "duration": 7,
    "start_time": "2022-09-29T12:19:38.742Z"
   },
   {
    "duration": 98,
    "start_time": "2022-09-29T12:19:38.751Z"
   },
   {
    "duration": 25,
    "start_time": "2022-09-29T12:19:38.851Z"
   },
   {
    "duration": 40,
    "start_time": "2022-09-29T12:19:38.878Z"
   },
   {
    "duration": 22,
    "start_time": "2022-09-29T12:19:38.920Z"
   },
   {
    "duration": 24,
    "start_time": "2022-09-29T12:19:38.946Z"
   },
   {
    "duration": 64,
    "start_time": "2022-09-29T12:19:38.972Z"
   },
   {
    "duration": 8,
    "start_time": "2022-09-29T12:19:39.038Z"
   },
   {
    "duration": 25,
    "start_time": "2022-09-29T12:19:39.048Z"
   },
   {
    "duration": 8,
    "start_time": "2022-09-29T12:19:39.075Z"
   },
   {
    "duration": 9,
    "start_time": "2022-09-29T12:19:39.085Z"
   },
   {
    "duration": 6,
    "start_time": "2022-09-29T12:19:39.109Z"
   },
   {
    "duration": 6,
    "start_time": "2022-09-29T12:19:39.116Z"
   },
   {
    "duration": 46,
    "start_time": "2022-09-29T12:19:39.124Z"
   },
   {
    "duration": 52,
    "start_time": "2022-09-29T12:19:39.172Z"
   },
   {
    "duration": 30,
    "start_time": "2022-09-29T12:19:39.225Z"
   },
   {
    "duration": 7,
    "start_time": "2022-09-29T12:19:39.257Z"
   },
   {
    "duration": 7,
    "start_time": "2022-09-29T12:19:39.266Z"
   },
   {
    "duration": 41,
    "start_time": "2022-09-29T12:19:39.277Z"
   },
   {
    "duration": 8,
    "start_time": "2022-09-29T12:19:39.320Z"
   },
   {
    "duration": 30,
    "start_time": "2022-09-29T12:19:39.329Z"
   },
   {
    "duration": 8,
    "start_time": "2022-09-29T12:19:39.361Z"
   },
   {
    "duration": 13,
    "start_time": "2022-09-29T12:19:39.371Z"
   },
   {
    "duration": 24,
    "start_time": "2022-09-29T12:19:39.386Z"
   },
   {
    "duration": 11,
    "start_time": "2022-09-29T12:19:39.412Z"
   },
   {
    "duration": 338,
    "start_time": "2022-09-29T12:19:39.425Z"
   },
   {
    "duration": 17,
    "start_time": "2022-09-29T12:19:39.765Z"
   },
   {
    "duration": 9,
    "start_time": "2022-09-29T12:19:39.784Z"
   },
   {
    "duration": 13,
    "start_time": "2022-09-29T12:19:39.808Z"
   },
   {
    "duration": 14,
    "start_time": "2022-09-29T12:19:39.823Z"
   },
   {
    "duration": 20,
    "start_time": "2022-09-29T12:19:39.838Z"
   },
   {
    "duration": 8,
    "start_time": "2022-09-29T12:19:39.860Z"
   },
   {
    "duration": 9,
    "start_time": "2022-09-29T12:19:39.870Z"
   },
   {
    "duration": 37,
    "start_time": "2022-09-29T12:19:39.881Z"
   },
   {
    "duration": 20,
    "start_time": "2022-09-29T12:19:39.919Z"
   },
   {
    "duration": 18,
    "start_time": "2022-09-29T12:19:39.940Z"
   },
   {
    "duration": 205,
    "start_time": "2022-09-29T12:19:39.960Z"
   },
   {
    "duration": 9,
    "start_time": "2022-09-29T12:19:40.167Z"
   },
   {
    "duration": 194,
    "start_time": "2022-09-29T12:19:40.177Z"
   },
   {
    "duration": 255,
    "start_time": "2022-09-29T12:19:40.373Z"
   },
   {
    "duration": 466,
    "start_time": "2022-09-29T12:19:40.630Z"
   },
   {
    "duration": 217,
    "start_time": "2022-09-29T12:19:41.098Z"
   },
   {
    "duration": 5,
    "start_time": "2022-09-29T12:19:41.316Z"
   },
   {
    "duration": 407,
    "start_time": "2022-09-29T12:19:41.323Z"
   },
   {
    "duration": 526,
    "start_time": "2022-09-29T12:19:41.732Z"
   },
   {
    "duration": 258,
    "start_time": "2022-09-29T12:19:42.259Z"
   },
   {
    "duration": 291,
    "start_time": "2022-09-29T12:19:42.519Z"
   },
   {
    "duration": 12,
    "start_time": "2022-09-29T12:19:58.541Z"
   },
   {
    "duration": 13,
    "start_time": "2022-09-29T12:20:14.415Z"
   },
   {
    "duration": 12,
    "start_time": "2022-09-29T12:20:18.870Z"
   },
   {
    "duration": 16,
    "start_time": "2022-09-29T12:20:24.448Z"
   },
   {
    "duration": 17,
    "start_time": "2022-09-29T12:20:28.542Z"
   },
   {
    "duration": 54,
    "start_time": "2022-09-29T12:20:33.122Z"
   },
   {
    "duration": 14,
    "start_time": "2022-09-29T12:20:34.352Z"
   },
   {
    "duration": 7,
    "start_time": "2022-09-29T12:25:33.562Z"
   },
   {
    "duration": 76,
    "start_time": "2022-09-29T12:26:27.037Z"
   },
   {
    "duration": 20,
    "start_time": "2022-09-29T12:26:38.729Z"
   },
   {
    "duration": 28,
    "start_time": "2022-09-29T12:26:48.638Z"
   },
   {
    "duration": 160,
    "start_time": "2022-09-29T12:26:52.725Z"
   },
   {
    "duration": 383,
    "start_time": "2022-09-29T12:26:59.563Z"
   },
   {
    "duration": 622,
    "start_time": "2022-09-29T12:27:13.212Z"
   },
   {
    "duration": 11,
    "start_time": "2022-09-29T12:31:54.128Z"
   },
   {
    "duration": 40,
    "start_time": "2022-09-29T12:32:07.089Z"
   },
   {
    "duration": 32,
    "start_time": "2022-09-29T12:32:15.845Z"
   }
  ],
  "colab": {
   "name": "DA+. Сборный проект 1. Шаблон (1).ipynb",
   "provenance": []
  },
  "kernelspec": {
   "display_name": "Python 3 (ipykernel)",
   "language": "python",
   "name": "python3"
  },
  "language_info": {
   "codemirror_mode": {
    "name": "ipython",
    "version": 3
   },
   "file_extension": ".py",
   "mimetype": "text/x-python",
   "name": "python",
   "nbconvert_exporter": "python",
   "pygments_lexer": "ipython3",
   "version": "3.10.7"
  },
  "toc": {
   "base_numbering": 1,
   "nav_menu": {},
   "number_sections": true,
   "sideBar": true,
   "skip_h1_title": true,
   "title_cell": "Table of Contents",
   "title_sidebar": "Contents",
   "toc_cell": false,
   "toc_position": {
    "height": "calc(100% - 180px)",
    "left": "10px",
    "top": "150px",
    "width": "165px"
   },
   "toc_section_display": true,
   "toc_window_display": true
  }
 },
 "nbformat": 4,
 "nbformat_minor": 1
}
